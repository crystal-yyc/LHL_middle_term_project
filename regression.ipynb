{
 "metadata": {
  "language_info": {
   "codemirror_mode": {
    "name": "ipython",
    "version": 3
   },
   "file_extension": ".py",
   "mimetype": "text/x-python",
   "name": "python",
   "nbconvert_exporter": "python",
   "pygments_lexer": "ipython3",
   "version": "3.8.3-final"
  },
  "orig_nbformat": 2,
  "kernelspec": {
   "name": "python36564bit6f77634e2dab4869b7bf6615e97ce046",
   "display_name": "Python 3.6.5 64-bit"
  }
 },
 "nbformat": 4,
 "nbformat_minor": 2,
 "cells": [
  {
   "source": [
    "## Flight Delay Regression Modeling"
   ],
   "cell_type": "markdown",
   "metadata": {}
  },
  {
   "cell_type": "code",
   "execution_count": 3,
   "metadata": {},
   "outputs": [],
   "source": [
    "import os\n",
    "import psycopg2\n",
    "import pandas as pd \n",
    "import seaborn as sns \n",
    "import matplotlib.pyplot as plt\n",
    "import numpy as np "
   ]
  },
  {
   "cell_type": "code",
   "execution_count": 4,
   "metadata": {},
   "outputs": [],
   "source": [
    "data=pd.read_csv('flights.csv', skiprows=lambda i:i%20!=0)"
   ]
  },
  {
   "cell_type": "code",
   "execution_count": 5,
   "metadata": {},
   "outputs": [],
   "source": [
    "data=data.dropna(axis=0, how='all')"
   ]
  },
  {
   "cell_type": "code",
   "execution_count": 6,
   "metadata": {},
   "outputs": [
    {
     "output_type": "execute_result",
     "data": {
      "text/plain": [
       "(500000, 43)"
      ]
     },
     "metadata": {},
     "execution_count": 6
    }
   ],
   "source": [
    "data.shape"
   ]
  },
  {
   "cell_type": "code",
   "execution_count": 48,
   "metadata": {},
   "outputs": [
    {
     "output_type": "execute_result",
     "data": {
      "text/plain": [
       "count    490573.000000\n",
       "mean          5.064317\n",
       "std          48.769159\n",
       "min         -91.000000\n",
       "25%         -15.000000\n",
       "50%          -6.000000\n",
       "75%           8.000000\n",
       "max        1779.000000\n",
       "Name: arr_delay, dtype: float64"
      ]
     },
     "metadata": {},
     "execution_count": 48
    }
   ],
   "source": [
    "data['arr_delay'].describe()"
   ]
  },
  {
   "cell_type": "code",
   "execution_count": 86,
   "metadata": {},
   "outputs": [],
   "source": [
    "# for the target data, the limit is set as (-100, 100) --based on the data exploration result\n",
    "df=data.copy()"
   ]
  },
  {
   "cell_type": "code",
   "execution_count": 87,
   "metadata": {},
   "outputs": [],
   "source": [
    "# assign the outlier number to lower limit -100, and upper limit 100\n",
    "df.loc[df['arr_delay']<-100, 'arr_delay']=-100\n",
    "df.loc[df['arr_delay']>100, 'arr_delay']=100"
   ]
  },
  {
   "cell_type": "code",
   "execution_count": 88,
   "metadata": {},
   "outputs": [
    {
     "output_type": "execute_result",
     "data": {
      "text/plain": [
       "count    490573.000000\n",
       "mean          1.977353\n",
       "std          28.830495\n",
       "min         -91.000000\n",
       "25%         -15.000000\n",
       "50%          -6.000000\n",
       "75%           8.000000\n",
       "max         100.000000\n",
       "Name: arr_delay, dtype: float64"
      ]
     },
     "metadata": {},
     "execution_count": 88
    }
   ],
   "source": [
    "df['arr_delay'].describe()"
   ]
  },
  {
   "cell_type": "code",
   "execution_count": 89,
   "metadata": {},
   "outputs": [],
   "source": [
    "cols=['fl_date', 'mkt_unique_carrier','mkt_carrier_fl_num', 'origin_airport_id', 'origin_city_name',\n",
    "       'dest_airport_id', 'dest_city_name', 'crs_dep_time', 'crs_arr_time', 'arr_delay', 'crs_elapsed_time']"
   ]
  },
  {
   "cell_type": "code",
   "execution_count": 90,
   "metadata": {},
   "outputs": [],
   "source": [
    "feature_col=['fl_date', 'mkt_unique_carrier','mkt_carrier_fl_num', 'origin_airport_id', 'origin_city_name',\n",
    "       'dest_airport_id', 'dest_city_name', 'crs_dep_time', 'crs_arr_time', 'crs_elapsed_time']"
   ]
  },
  {
   "cell_type": "code",
   "execution_count": 91,
   "metadata": {},
   "outputs": [
    {
     "output_type": "execute_result",
     "data": {
      "text/plain": [
       "   Unnamed: 0     fl_date mkt_unique_carrier branded_code_share mkt_carrier  \\\n",
       "0           0  2020-01-01                 WN                 WN          WN   \n",
       "1           1  2020-01-01                 WN                 WN          WN   \n",
       "2           2  2020-01-01                 WN                 WN          WN   \n",
       "3           3  2020-01-01                 WN                 WN          WN   \n",
       "4           4  2020-01-01                 WN                 WN          WN   \n",
       "\n",
       "   mkt_carrier_fl_num op_unique_carrier tail_num  op_carrier_fl_num  \\\n",
       "0                5888                WN   N951WN               5888   \n",
       "1                6276                WN   N467WN               6276   \n",
       "2                4598                WN   N7885A               4598   \n",
       "3                4761                WN   N551WN               4761   \n",
       "4                5162                WN   N968WN               5162   \n",
       "\n",
       "   origin_airport_id  ... origin_city_name dest_airport_id  dest  \\\n",
       "0              13891  ...      Ontario, CA           14771   SFO   \n",
       "1              13891  ...      Ontario, CA           14771   SFO   \n",
       "2              13891  ...      Ontario, CA           14831   SJC   \n",
       "3              13891  ...      Ontario, CA           14831   SJC   \n",
       "4              13891  ...      Ontario, CA           14831   SJC   \n",
       "\n",
       "      dest_city_name crs_dep_time  crs_arr_time  dup crs_elapsed_time  \\\n",
       "0  San Francisco, CA         1810          1945    N               95   \n",
       "1  San Francisco, CA         1150          1320    N               90   \n",
       "2       San Jose, CA         2020          2130    N               70   \n",
       "3       San Jose, CA         1340          1455    N               75   \n",
       "4       San Jose, CA          915          1035    N               80   \n",
       "\n",
       "   flights  distance  \n",
       "0        1       363  \n",
       "1        1       363  \n",
       "2        1       333  \n",
       "3        1       333  \n",
       "4        1       333  \n",
       "\n",
       "[5 rows x 21 columns]"
      ],
      "text/html": "<div>\n<style scoped>\n    .dataframe tbody tr th:only-of-type {\n        vertical-align: middle;\n    }\n\n    .dataframe tbody tr th {\n        vertical-align: top;\n    }\n\n    .dataframe thead th {\n        text-align: right;\n    }\n</style>\n<table border=\"1\" class=\"dataframe\">\n  <thead>\n    <tr style=\"text-align: right;\">\n      <th></th>\n      <th>Unnamed: 0</th>\n      <th>fl_date</th>\n      <th>mkt_unique_carrier</th>\n      <th>branded_code_share</th>\n      <th>mkt_carrier</th>\n      <th>mkt_carrier_fl_num</th>\n      <th>op_unique_carrier</th>\n      <th>tail_num</th>\n      <th>op_carrier_fl_num</th>\n      <th>origin_airport_id</th>\n      <th>...</th>\n      <th>origin_city_name</th>\n      <th>dest_airport_id</th>\n      <th>dest</th>\n      <th>dest_city_name</th>\n      <th>crs_dep_time</th>\n      <th>crs_arr_time</th>\n      <th>dup</th>\n      <th>crs_elapsed_time</th>\n      <th>flights</th>\n      <th>distance</th>\n    </tr>\n  </thead>\n  <tbody>\n    <tr>\n      <th>0</th>\n      <td>0</td>\n      <td>2020-01-01</td>\n      <td>WN</td>\n      <td>WN</td>\n      <td>WN</td>\n      <td>5888</td>\n      <td>WN</td>\n      <td>N951WN</td>\n      <td>5888</td>\n      <td>13891</td>\n      <td>...</td>\n      <td>Ontario, CA</td>\n      <td>14771</td>\n      <td>SFO</td>\n      <td>San Francisco, CA</td>\n      <td>1810</td>\n      <td>1945</td>\n      <td>N</td>\n      <td>95</td>\n      <td>1</td>\n      <td>363</td>\n    </tr>\n    <tr>\n      <th>1</th>\n      <td>1</td>\n      <td>2020-01-01</td>\n      <td>WN</td>\n      <td>WN</td>\n      <td>WN</td>\n      <td>6276</td>\n      <td>WN</td>\n      <td>N467WN</td>\n      <td>6276</td>\n      <td>13891</td>\n      <td>...</td>\n      <td>Ontario, CA</td>\n      <td>14771</td>\n      <td>SFO</td>\n      <td>San Francisco, CA</td>\n      <td>1150</td>\n      <td>1320</td>\n      <td>N</td>\n      <td>90</td>\n      <td>1</td>\n      <td>363</td>\n    </tr>\n    <tr>\n      <th>2</th>\n      <td>2</td>\n      <td>2020-01-01</td>\n      <td>WN</td>\n      <td>WN</td>\n      <td>WN</td>\n      <td>4598</td>\n      <td>WN</td>\n      <td>N7885A</td>\n      <td>4598</td>\n      <td>13891</td>\n      <td>...</td>\n      <td>Ontario, CA</td>\n      <td>14831</td>\n      <td>SJC</td>\n      <td>San Jose, CA</td>\n      <td>2020</td>\n      <td>2130</td>\n      <td>N</td>\n      <td>70</td>\n      <td>1</td>\n      <td>333</td>\n    </tr>\n    <tr>\n      <th>3</th>\n      <td>3</td>\n      <td>2020-01-01</td>\n      <td>WN</td>\n      <td>WN</td>\n      <td>WN</td>\n      <td>4761</td>\n      <td>WN</td>\n      <td>N551WN</td>\n      <td>4761</td>\n      <td>13891</td>\n      <td>...</td>\n      <td>Ontario, CA</td>\n      <td>14831</td>\n      <td>SJC</td>\n      <td>San Jose, CA</td>\n      <td>1340</td>\n      <td>1455</td>\n      <td>N</td>\n      <td>75</td>\n      <td>1</td>\n      <td>333</td>\n    </tr>\n    <tr>\n      <th>4</th>\n      <td>4</td>\n      <td>2020-01-01</td>\n      <td>WN</td>\n      <td>WN</td>\n      <td>WN</td>\n      <td>5162</td>\n      <td>WN</td>\n      <td>N968WN</td>\n      <td>5162</td>\n      <td>13891</td>\n      <td>...</td>\n      <td>Ontario, CA</td>\n      <td>14831</td>\n      <td>SJC</td>\n      <td>San Jose, CA</td>\n      <td>915</td>\n      <td>1035</td>\n      <td>N</td>\n      <td>80</td>\n      <td>1</td>\n      <td>333</td>\n    </tr>\n  </tbody>\n</table>\n<p>5 rows × 21 columns</p>\n</div>"
     },
     "metadata": {},
     "execution_count": 91
    }
   ],
   "source": [
    "test=pd.read_csv('test_data')\n",
    "test.head()"
   ]
  },
  {
   "cell_type": "code",
   "execution_count": 145,
   "metadata": {},
   "outputs": [
    {
     "output_type": "execute_result",
     "data": {
      "text/plain": [
       "(660556, 21)"
      ]
     },
     "metadata": {},
     "execution_count": 145
    }
   ],
   "source": [
    "test.shape"
   ]
  },
  {
   "cell_type": "code",
   "execution_count": 92,
   "metadata": {},
   "outputs": [],
   "source": [
    "df=df[cols]\n",
    "dt=test[feature_col]"
   ]
  },
  {
   "cell_type": "code",
   "execution_count": 94,
   "metadata": {},
   "outputs": [],
   "source": [
    "# extract fly date as year, month, weekday, week\n",
    "df['fl_date']=pd.to_datetime(df['fl_date'])\n",
    "df['fl_year']=df['fl_date'].dt.year \n",
    "df['fl_month']=df['fl_date'].dt.month \n",
    "df['fl_day_of_week']=df['fl_date'].dt.weekday\n",
    "df['fl_week_of_year']=df['fl_date'].dt.week\n",
    "df['dep_hour']=(df['crs_dep_time']/100).astype(int)\n",
    "df['arr_hour']=(df['crs_arr_time']/100).astype(int)"
   ]
  },
  {
   "cell_type": "code",
   "execution_count": 95,
   "metadata": {},
   "outputs": [],
   "source": [
    "# transforming test _data\n",
    "dt['fl_date']=pd.to_datetime(dt['fl_date'])\n",
    "dt['fl_year']=dt['fl_date'].dt.year \n",
    "dt['fl_month']=dt['fl_date'].dt.month \n",
    "dt['fl_day_of_week']=dt['fl_date'].dt.weekday\n",
    "dt['fl_week_of_year']=dt['fl_date'].dt.week\n",
    "dt['dep_hour']=(dt['crs_dep_time']/100).astype(int)\n",
    "dt['arr_hour']=(dt['crs_arr_time']/100).astype(int)"
   ]
  },
  {
   "cell_type": "code",
   "execution_count": 96,
   "metadata": {},
   "outputs": [],
   "source": [
    "## read the airport average departure delay time from airport data table\n",
    "airport=pd.read_csv('airport.csv')"
   ]
  },
  {
   "cell_type": "code",
   "execution_count": 97,
   "metadata": {},
   "outputs": [
    {
     "output_type": "execute_result",
     "data": {
      "text/plain": [
       "   Unnamed: 0  origin_airport_id  fl_month  fl_day_of_week   dep_delay\n",
       "0           0              10135         1               0  158.000000\n",
       "1           1              10135         1               1   67.750000\n",
       "2           2              10135         1               2   24.333333\n",
       "3           3              10135         1               3   85.000000\n",
       "4           4              10135         1               4   72.000000"
      ],
      "text/html": "<div>\n<style scoped>\n    .dataframe tbody tr th:only-of-type {\n        vertical-align: middle;\n    }\n\n    .dataframe tbody tr th {\n        vertical-align: top;\n    }\n\n    .dataframe thead th {\n        text-align: right;\n    }\n</style>\n<table border=\"1\" class=\"dataframe\">\n  <thead>\n    <tr style=\"text-align: right;\">\n      <th></th>\n      <th>Unnamed: 0</th>\n      <th>origin_airport_id</th>\n      <th>fl_month</th>\n      <th>fl_day_of_week</th>\n      <th>dep_delay</th>\n    </tr>\n  </thead>\n  <tbody>\n    <tr>\n      <th>0</th>\n      <td>0</td>\n      <td>10135</td>\n      <td>1</td>\n      <td>0</td>\n      <td>158.000000</td>\n    </tr>\n    <tr>\n      <th>1</th>\n      <td>1</td>\n      <td>10135</td>\n      <td>1</td>\n      <td>1</td>\n      <td>67.750000</td>\n    </tr>\n    <tr>\n      <th>2</th>\n      <td>2</td>\n      <td>10135</td>\n      <td>1</td>\n      <td>2</td>\n      <td>24.333333</td>\n    </tr>\n    <tr>\n      <th>3</th>\n      <td>3</td>\n      <td>10135</td>\n      <td>1</td>\n      <td>3</td>\n      <td>85.000000</td>\n    </tr>\n    <tr>\n      <th>4</th>\n      <td>4</td>\n      <td>10135</td>\n      <td>1</td>\n      <td>4</td>\n      <td>72.000000</td>\n    </tr>\n  </tbody>\n</table>\n</div>"
     },
     "metadata": {},
     "execution_count": 97
    }
   ],
   "source": [
    "airport.head()"
   ]
  },
  {
   "cell_type": "code",
   "execution_count": 98,
   "metadata": {},
   "outputs": [
    {
     "output_type": "execute_result",
     "data": {
      "text/plain": [
       "     fl_date mkt_unique_carrier  mkt_carrier_fl_num  origin_airport_id  \\\n",
       "0 2018-03-25                 DL                2130              10397   \n",
       "1 2018-03-25                 DL                2145              14685   \n",
       "2 2018-03-25                 DL                2166              13487   \n",
       "3 2018-03-25                 DL                2182              11433   \n",
       "4 2018-03-25                 DL                2199              10397   \n",
       "\n",
       "  origin_city_name  dest_airport_id dest_city_name  crs_dep_time  \\\n",
       "0      Atlanta, GA            15304      Tampa, FL          1630   \n",
       "1     Savannah, GA            10397    Atlanta, GA           600   \n",
       "2  Minneapolis, MN            15096   Syracuse, NY          2030   \n",
       "3      Detroit, MI            10693  Nashville, TN          1730   \n",
       "4      Atlanta, GA            11292     Denver, CO          1259   \n",
       "\n",
       "   crs_arr_time  arr_delay  crs_elapsed_time  fl_year  fl_month  \\\n",
       "0          1800      -16.0              90.0     2018         3   \n",
       "1           710      -14.0              70.0     2018         3   \n",
       "2          2340       -9.0             130.0     2018         3   \n",
       "3          1806       -5.0              96.0     2018         3   \n",
       "4          1422       21.0             203.0     2018         3   \n",
       "\n",
       "   fl_day_of_week  fl_week_of_year  dep_hour  arr_hour  \n",
       "0               6               12        16        18  \n",
       "1               6               12         6         7  \n",
       "2               6               12        20        23  \n",
       "3               6               12        17        18  \n",
       "4               6               12        12        14  "
      ],
      "text/html": "<div>\n<style scoped>\n    .dataframe tbody tr th:only-of-type {\n        vertical-align: middle;\n    }\n\n    .dataframe tbody tr th {\n        vertical-align: top;\n    }\n\n    .dataframe thead th {\n        text-align: right;\n    }\n</style>\n<table border=\"1\" class=\"dataframe\">\n  <thead>\n    <tr style=\"text-align: right;\">\n      <th></th>\n      <th>fl_date</th>\n      <th>mkt_unique_carrier</th>\n      <th>mkt_carrier_fl_num</th>\n      <th>origin_airport_id</th>\n      <th>origin_city_name</th>\n      <th>dest_airport_id</th>\n      <th>dest_city_name</th>\n      <th>crs_dep_time</th>\n      <th>crs_arr_time</th>\n      <th>arr_delay</th>\n      <th>crs_elapsed_time</th>\n      <th>fl_year</th>\n      <th>fl_month</th>\n      <th>fl_day_of_week</th>\n      <th>fl_week_of_year</th>\n      <th>dep_hour</th>\n      <th>arr_hour</th>\n    </tr>\n  </thead>\n  <tbody>\n    <tr>\n      <th>0</th>\n      <td>2018-03-25</td>\n      <td>DL</td>\n      <td>2130</td>\n      <td>10397</td>\n      <td>Atlanta, GA</td>\n      <td>15304</td>\n      <td>Tampa, FL</td>\n      <td>1630</td>\n      <td>1800</td>\n      <td>-16.0</td>\n      <td>90.0</td>\n      <td>2018</td>\n      <td>3</td>\n      <td>6</td>\n      <td>12</td>\n      <td>16</td>\n      <td>18</td>\n    </tr>\n    <tr>\n      <th>1</th>\n      <td>2018-03-25</td>\n      <td>DL</td>\n      <td>2145</td>\n      <td>14685</td>\n      <td>Savannah, GA</td>\n      <td>10397</td>\n      <td>Atlanta, GA</td>\n      <td>600</td>\n      <td>710</td>\n      <td>-14.0</td>\n      <td>70.0</td>\n      <td>2018</td>\n      <td>3</td>\n      <td>6</td>\n      <td>12</td>\n      <td>6</td>\n      <td>7</td>\n    </tr>\n    <tr>\n      <th>2</th>\n      <td>2018-03-25</td>\n      <td>DL</td>\n      <td>2166</td>\n      <td>13487</td>\n      <td>Minneapolis, MN</td>\n      <td>15096</td>\n      <td>Syracuse, NY</td>\n      <td>2030</td>\n      <td>2340</td>\n      <td>-9.0</td>\n      <td>130.0</td>\n      <td>2018</td>\n      <td>3</td>\n      <td>6</td>\n      <td>12</td>\n      <td>20</td>\n      <td>23</td>\n    </tr>\n    <tr>\n      <th>3</th>\n      <td>2018-03-25</td>\n      <td>DL</td>\n      <td>2182</td>\n      <td>11433</td>\n      <td>Detroit, MI</td>\n      <td>10693</td>\n      <td>Nashville, TN</td>\n      <td>1730</td>\n      <td>1806</td>\n      <td>-5.0</td>\n      <td>96.0</td>\n      <td>2018</td>\n      <td>3</td>\n      <td>6</td>\n      <td>12</td>\n      <td>17</td>\n      <td>18</td>\n    </tr>\n    <tr>\n      <th>4</th>\n      <td>2018-03-25</td>\n      <td>DL</td>\n      <td>2199</td>\n      <td>10397</td>\n      <td>Atlanta, GA</td>\n      <td>11292</td>\n      <td>Denver, CO</td>\n      <td>1259</td>\n      <td>1422</td>\n      <td>21.0</td>\n      <td>203.0</td>\n      <td>2018</td>\n      <td>3</td>\n      <td>6</td>\n      <td>12</td>\n      <td>12</td>\n      <td>14</td>\n    </tr>\n  </tbody>\n</table>\n</div>"
     },
     "metadata": {},
     "execution_count": 98
    }
   ],
   "source": [
    "df.head()"
   ]
  },
  {
   "cell_type": "code",
   "execution_count": 99,
   "metadata": {},
   "outputs": [
    {
     "output_type": "execute_result",
     "data": {
      "text/plain": [
       "     fl_date mkt_unique_carrier  mkt_carrier_fl_num  origin_airport_id  \\\n",
       "0 2020-01-01                 WN                5888              13891   \n",
       "1 2020-01-01                 WN                6276              13891   \n",
       "2 2020-01-01                 WN                4598              13891   \n",
       "3 2020-01-01                 WN                4761              13891   \n",
       "4 2020-01-01                 WN                5162              13891   \n",
       "\n",
       "  origin_city_name  dest_airport_id     dest_city_name  crs_dep_time  \\\n",
       "0      Ontario, CA            14771  San Francisco, CA          1810   \n",
       "1      Ontario, CA            14771  San Francisco, CA          1150   \n",
       "2      Ontario, CA            14831       San Jose, CA          2020   \n",
       "3      Ontario, CA            14831       San Jose, CA          1340   \n",
       "4      Ontario, CA            14831       San Jose, CA           915   \n",
       "\n",
       "   crs_arr_time  crs_elapsed_time  fl_year  fl_month  fl_day_of_week  \\\n",
       "0          1945                95     2020         1               2   \n",
       "1          1320                90     2020         1               2   \n",
       "2          2130                70     2020         1               2   \n",
       "3          1455                75     2020         1               2   \n",
       "4          1035                80     2020         1               2   \n",
       "\n",
       "   fl_week_of_year  dep_hour  arr_hour  \n",
       "0                1        18        19  \n",
       "1                1        11        13  \n",
       "2                1        20        21  \n",
       "3                1        13        14  \n",
       "4                1         9        10  "
      ],
      "text/html": "<div>\n<style scoped>\n    .dataframe tbody tr th:only-of-type {\n        vertical-align: middle;\n    }\n\n    .dataframe tbody tr th {\n        vertical-align: top;\n    }\n\n    .dataframe thead th {\n        text-align: right;\n    }\n</style>\n<table border=\"1\" class=\"dataframe\">\n  <thead>\n    <tr style=\"text-align: right;\">\n      <th></th>\n      <th>fl_date</th>\n      <th>mkt_unique_carrier</th>\n      <th>mkt_carrier_fl_num</th>\n      <th>origin_airport_id</th>\n      <th>origin_city_name</th>\n      <th>dest_airport_id</th>\n      <th>dest_city_name</th>\n      <th>crs_dep_time</th>\n      <th>crs_arr_time</th>\n      <th>crs_elapsed_time</th>\n      <th>fl_year</th>\n      <th>fl_month</th>\n      <th>fl_day_of_week</th>\n      <th>fl_week_of_year</th>\n      <th>dep_hour</th>\n      <th>arr_hour</th>\n    </tr>\n  </thead>\n  <tbody>\n    <tr>\n      <th>0</th>\n      <td>2020-01-01</td>\n      <td>WN</td>\n      <td>5888</td>\n      <td>13891</td>\n      <td>Ontario, CA</td>\n      <td>14771</td>\n      <td>San Francisco, CA</td>\n      <td>1810</td>\n      <td>1945</td>\n      <td>95</td>\n      <td>2020</td>\n      <td>1</td>\n      <td>2</td>\n      <td>1</td>\n      <td>18</td>\n      <td>19</td>\n    </tr>\n    <tr>\n      <th>1</th>\n      <td>2020-01-01</td>\n      <td>WN</td>\n      <td>6276</td>\n      <td>13891</td>\n      <td>Ontario, CA</td>\n      <td>14771</td>\n      <td>San Francisco, CA</td>\n      <td>1150</td>\n      <td>1320</td>\n      <td>90</td>\n      <td>2020</td>\n      <td>1</td>\n      <td>2</td>\n      <td>1</td>\n      <td>11</td>\n      <td>13</td>\n    </tr>\n    <tr>\n      <th>2</th>\n      <td>2020-01-01</td>\n      <td>WN</td>\n      <td>4598</td>\n      <td>13891</td>\n      <td>Ontario, CA</td>\n      <td>14831</td>\n      <td>San Jose, CA</td>\n      <td>2020</td>\n      <td>2130</td>\n      <td>70</td>\n      <td>2020</td>\n      <td>1</td>\n      <td>2</td>\n      <td>1</td>\n      <td>20</td>\n      <td>21</td>\n    </tr>\n    <tr>\n      <th>3</th>\n      <td>2020-01-01</td>\n      <td>WN</td>\n      <td>4761</td>\n      <td>13891</td>\n      <td>Ontario, CA</td>\n      <td>14831</td>\n      <td>San Jose, CA</td>\n      <td>1340</td>\n      <td>1455</td>\n      <td>75</td>\n      <td>2020</td>\n      <td>1</td>\n      <td>2</td>\n      <td>1</td>\n      <td>13</td>\n      <td>14</td>\n    </tr>\n    <tr>\n      <th>4</th>\n      <td>2020-01-01</td>\n      <td>WN</td>\n      <td>5162</td>\n      <td>13891</td>\n      <td>Ontario, CA</td>\n      <td>14831</td>\n      <td>San Jose, CA</td>\n      <td>915</td>\n      <td>1035</td>\n      <td>80</td>\n      <td>2020</td>\n      <td>1</td>\n      <td>2</td>\n      <td>1</td>\n      <td>9</td>\n      <td>10</td>\n    </tr>\n  </tbody>\n</table>\n</div>"
     },
     "metadata": {},
     "execution_count": 99
    }
   ],
   "source": [
    "dt.head()"
   ]
  },
  {
   "cell_type": "code",
   "execution_count": 100,
   "metadata": {},
   "outputs": [],
   "source": [
    "# training data and test data merge with the ariport delay data \n",
    "DF=pd.merge(df,airport,how='left', on=['origin_airport_id','fl_month','fl_day_of_week'])\n",
    "dt1=pd.merge(dt,airport,how='left', on=['origin_airport_id','fl_month','fl_day_of_week'])"
   ]
  },
  {
   "cell_type": "code",
   "execution_count": 101,
   "metadata": {},
   "outputs": [
    {
     "output_type": "execute_result",
     "data": {
      "text/plain": [
       "     fl_date mkt_unique_carrier  mkt_carrier_fl_num  origin_airport_id  \\\n",
       "0 2018-03-25                 DL                2130              10397   \n",
       "1 2018-03-25                 DL                2145              14685   \n",
       "2 2018-03-25                 DL                2166              13487   \n",
       "3 2018-03-25                 DL                2182              11433   \n",
       "4 2018-03-25                 DL                2199              10397   \n",
       "\n",
       "  origin_city_name  dest_airport_id dest_city_name  crs_dep_time  \\\n",
       "0      Atlanta, GA            15304      Tampa, FL          1630   \n",
       "1     Savannah, GA            10397    Atlanta, GA           600   \n",
       "2  Minneapolis, MN            15096   Syracuse, NY          2030   \n",
       "3      Detroit, MI            10693  Nashville, TN          1730   \n",
       "4      Atlanta, GA            11292     Denver, CO          1259   \n",
       "\n",
       "   crs_arr_time  arr_delay  crs_elapsed_time  fl_year  fl_month  \\\n",
       "0          1800      -16.0              90.0     2018         3   \n",
       "1           710      -14.0              70.0     2018         3   \n",
       "2          2340       -9.0             130.0     2018         3   \n",
       "3          1806       -5.0              96.0     2018         3   \n",
       "4          1422       21.0             203.0     2018         3   \n",
       "\n",
       "   fl_day_of_week  fl_week_of_year  dep_hour  arr_hour  Unnamed: 0  dep_delay  \n",
       "0               6               12        16        18      1011.0  47.691176  \n",
       "1               6               12         6         7     16975.0  26.166667  \n",
       "2               6               12        20        23     13250.0  65.870968  \n",
       "3               6               12        17        18      5487.0  47.566038  \n",
       "4               6               12        12        14      1011.0  47.691176  "
      ],
      "text/html": "<div>\n<style scoped>\n    .dataframe tbody tr th:only-of-type {\n        vertical-align: middle;\n    }\n\n    .dataframe tbody tr th {\n        vertical-align: top;\n    }\n\n    .dataframe thead th {\n        text-align: right;\n    }\n</style>\n<table border=\"1\" class=\"dataframe\">\n  <thead>\n    <tr style=\"text-align: right;\">\n      <th></th>\n      <th>fl_date</th>\n      <th>mkt_unique_carrier</th>\n      <th>mkt_carrier_fl_num</th>\n      <th>origin_airport_id</th>\n      <th>origin_city_name</th>\n      <th>dest_airport_id</th>\n      <th>dest_city_name</th>\n      <th>crs_dep_time</th>\n      <th>crs_arr_time</th>\n      <th>arr_delay</th>\n      <th>crs_elapsed_time</th>\n      <th>fl_year</th>\n      <th>fl_month</th>\n      <th>fl_day_of_week</th>\n      <th>fl_week_of_year</th>\n      <th>dep_hour</th>\n      <th>arr_hour</th>\n      <th>Unnamed: 0</th>\n      <th>dep_delay</th>\n    </tr>\n  </thead>\n  <tbody>\n    <tr>\n      <th>0</th>\n      <td>2018-03-25</td>\n      <td>DL</td>\n      <td>2130</td>\n      <td>10397</td>\n      <td>Atlanta, GA</td>\n      <td>15304</td>\n      <td>Tampa, FL</td>\n      <td>1630</td>\n      <td>1800</td>\n      <td>-16.0</td>\n      <td>90.0</td>\n      <td>2018</td>\n      <td>3</td>\n      <td>6</td>\n      <td>12</td>\n      <td>16</td>\n      <td>18</td>\n      <td>1011.0</td>\n      <td>47.691176</td>\n    </tr>\n    <tr>\n      <th>1</th>\n      <td>2018-03-25</td>\n      <td>DL</td>\n      <td>2145</td>\n      <td>14685</td>\n      <td>Savannah, GA</td>\n      <td>10397</td>\n      <td>Atlanta, GA</td>\n      <td>600</td>\n      <td>710</td>\n      <td>-14.0</td>\n      <td>70.0</td>\n      <td>2018</td>\n      <td>3</td>\n      <td>6</td>\n      <td>12</td>\n      <td>6</td>\n      <td>7</td>\n      <td>16975.0</td>\n      <td>26.166667</td>\n    </tr>\n    <tr>\n      <th>2</th>\n      <td>2018-03-25</td>\n      <td>DL</td>\n      <td>2166</td>\n      <td>13487</td>\n      <td>Minneapolis, MN</td>\n      <td>15096</td>\n      <td>Syracuse, NY</td>\n      <td>2030</td>\n      <td>2340</td>\n      <td>-9.0</td>\n      <td>130.0</td>\n      <td>2018</td>\n      <td>3</td>\n      <td>6</td>\n      <td>12</td>\n      <td>20</td>\n      <td>23</td>\n      <td>13250.0</td>\n      <td>65.870968</td>\n    </tr>\n    <tr>\n      <th>3</th>\n      <td>2018-03-25</td>\n      <td>DL</td>\n      <td>2182</td>\n      <td>11433</td>\n      <td>Detroit, MI</td>\n      <td>10693</td>\n      <td>Nashville, TN</td>\n      <td>1730</td>\n      <td>1806</td>\n      <td>-5.0</td>\n      <td>96.0</td>\n      <td>2018</td>\n      <td>3</td>\n      <td>6</td>\n      <td>12</td>\n      <td>17</td>\n      <td>18</td>\n      <td>5487.0</td>\n      <td>47.566038</td>\n    </tr>\n    <tr>\n      <th>4</th>\n      <td>2018-03-25</td>\n      <td>DL</td>\n      <td>2199</td>\n      <td>10397</td>\n      <td>Atlanta, GA</td>\n      <td>11292</td>\n      <td>Denver, CO</td>\n      <td>1259</td>\n      <td>1422</td>\n      <td>21.0</td>\n      <td>203.0</td>\n      <td>2018</td>\n      <td>3</td>\n      <td>6</td>\n      <td>12</td>\n      <td>12</td>\n      <td>14</td>\n      <td>1011.0</td>\n      <td>47.691176</td>\n    </tr>\n  </tbody>\n</table>\n</div>"
     },
     "metadata": {},
     "execution_count": 101
    }
   ],
   "source": [
    "DF.head()"
   ]
  },
  {
   "cell_type": "code",
   "execution_count": 102,
   "metadata": {},
   "outputs": [],
   "source": [
    "DF.rename(columns={'dep_delay':'airport_delay_ori'}, inplace=True)\n",
    "dt1.rename(columns={'dep_delay':'airport_delay_ori'}, inplace=True)"
   ]
  },
  {
   "cell_type": "code",
   "execution_count": 104,
   "metadata": {},
   "outputs": [],
   "source": [
    "# import airport destination average arrive delay data table, merge with the training and test data \n",
    "airport_dest=pd.read_csv('airport_dest.csv')\n",
    "DF=pd.merge(DF,airport_dest, how='left', on=['dest_airport_id','fl_month','fl_day_of_week'])\n",
    "dt1=pd.merge(dt1,airport_dest, how='left', on=['dest_airport_id','fl_month','fl_day_of_week'])"
   ]
  },
  {
   "cell_type": "code",
   "execution_count": 105,
   "metadata": {},
   "outputs": [
    {
     "output_type": "execute_result",
     "data": {
      "text/plain": [
       "     fl_date mkt_unique_carrier  mkt_carrier_fl_num  origin_airport_id  \\\n",
       "0 2018-03-25                 DL              2130.0            10397.0   \n",
       "1 2018-03-25                 DL              2304.0            10397.0   \n",
       "2 2018-03-25                 DL              2145.0            14685.0   \n",
       "3 2018-03-25                 DL              2458.0            12278.0   \n",
       "4 2018-03-25                 DL              2570.0            13244.0   \n",
       "\n",
       "  origin_city_name  dest_airport_id dest_city_name  crs_dep_time  \\\n",
       "0      Atlanta, GA            15304      Tampa, FL        1630.0   \n",
       "1      Atlanta, GA            15304      Tampa, FL        2228.0   \n",
       "2     Savannah, GA            10397    Atlanta, GA         600.0   \n",
       "3      Wichita, KS            10397    Atlanta, GA         556.0   \n",
       "4      Memphis, TN            10397    Atlanta, GA         700.0   \n",
       "\n",
       "   crs_arr_time  arr_delay_x  ...  fl_day_of_week  fl_week_of_year  dep_hour  \\\n",
       "0        1800.0        -16.0  ...               6             12.0      16.0   \n",
       "1        2359.0         -3.0  ...               6             12.0      22.0   \n",
       "2         710.0        -14.0  ...               6             12.0       6.0   \n",
       "3         905.0        -16.0  ...               6             12.0       5.0   \n",
       "4         919.0         25.0  ...               6             12.0       7.0   \n",
       "\n",
       "   arr_hour  Unnamed: 0_x  airport_delay_ori  Unnamed: 0_y  arr_delay_y  \\\n",
       "0      18.0        1011.0          47.691176       19502.0    52.777778   \n",
       "1      23.0        1011.0          47.691176       19502.0    52.777778   \n",
       "2       7.0       16975.0          26.166667        1006.0    55.703125   \n",
       "3       9.0        8972.0          58.333333        1006.0    55.703125   \n",
       "4       9.0       11975.0          29.500000        1006.0    55.703125   \n",
       "\n",
       "   Unnamed: 0  arr_delay  \n",
       "0     19502.0  52.777778  \n",
       "1     19502.0  52.777778  \n",
       "2      1006.0  55.703125  \n",
       "3      1006.0  55.703125  \n",
       "4      1006.0  55.703125  \n",
       "\n",
       "[5 rows x 23 columns]"
      ],
      "text/html": "<div>\n<style scoped>\n    .dataframe tbody tr th:only-of-type {\n        vertical-align: middle;\n    }\n\n    .dataframe tbody tr th {\n        vertical-align: top;\n    }\n\n    .dataframe thead th {\n        text-align: right;\n    }\n</style>\n<table border=\"1\" class=\"dataframe\">\n  <thead>\n    <tr style=\"text-align: right;\">\n      <th></th>\n      <th>fl_date</th>\n      <th>mkt_unique_carrier</th>\n      <th>mkt_carrier_fl_num</th>\n      <th>origin_airport_id</th>\n      <th>origin_city_name</th>\n      <th>dest_airport_id</th>\n      <th>dest_city_name</th>\n      <th>crs_dep_time</th>\n      <th>crs_arr_time</th>\n      <th>arr_delay_x</th>\n      <th>...</th>\n      <th>fl_day_of_week</th>\n      <th>fl_week_of_year</th>\n      <th>dep_hour</th>\n      <th>arr_hour</th>\n      <th>Unnamed: 0_x</th>\n      <th>airport_delay_ori</th>\n      <th>Unnamed: 0_y</th>\n      <th>arr_delay_y</th>\n      <th>Unnamed: 0</th>\n      <th>arr_delay</th>\n    </tr>\n  </thead>\n  <tbody>\n    <tr>\n      <th>0</th>\n      <td>2018-03-25</td>\n      <td>DL</td>\n      <td>2130.0</td>\n      <td>10397.0</td>\n      <td>Atlanta, GA</td>\n      <td>15304</td>\n      <td>Tampa, FL</td>\n      <td>1630.0</td>\n      <td>1800.0</td>\n      <td>-16.0</td>\n      <td>...</td>\n      <td>6</td>\n      <td>12.0</td>\n      <td>16.0</td>\n      <td>18.0</td>\n      <td>1011.0</td>\n      <td>47.691176</td>\n      <td>19502.0</td>\n      <td>52.777778</td>\n      <td>19502.0</td>\n      <td>52.777778</td>\n    </tr>\n    <tr>\n      <th>1</th>\n      <td>2018-03-25</td>\n      <td>DL</td>\n      <td>2304.0</td>\n      <td>10397.0</td>\n      <td>Atlanta, GA</td>\n      <td>15304</td>\n      <td>Tampa, FL</td>\n      <td>2228.0</td>\n      <td>2359.0</td>\n      <td>-3.0</td>\n      <td>...</td>\n      <td>6</td>\n      <td>12.0</td>\n      <td>22.0</td>\n      <td>23.0</td>\n      <td>1011.0</td>\n      <td>47.691176</td>\n      <td>19502.0</td>\n      <td>52.777778</td>\n      <td>19502.0</td>\n      <td>52.777778</td>\n    </tr>\n    <tr>\n      <th>2</th>\n      <td>2018-03-25</td>\n      <td>DL</td>\n      <td>2145.0</td>\n      <td>14685.0</td>\n      <td>Savannah, GA</td>\n      <td>10397</td>\n      <td>Atlanta, GA</td>\n      <td>600.0</td>\n      <td>710.0</td>\n      <td>-14.0</td>\n      <td>...</td>\n      <td>6</td>\n      <td>12.0</td>\n      <td>6.0</td>\n      <td>7.0</td>\n      <td>16975.0</td>\n      <td>26.166667</td>\n      <td>1006.0</td>\n      <td>55.703125</td>\n      <td>1006.0</td>\n      <td>55.703125</td>\n    </tr>\n    <tr>\n      <th>3</th>\n      <td>2018-03-25</td>\n      <td>DL</td>\n      <td>2458.0</td>\n      <td>12278.0</td>\n      <td>Wichita, KS</td>\n      <td>10397</td>\n      <td>Atlanta, GA</td>\n      <td>556.0</td>\n      <td>905.0</td>\n      <td>-16.0</td>\n      <td>...</td>\n      <td>6</td>\n      <td>12.0</td>\n      <td>5.0</td>\n      <td>9.0</td>\n      <td>8972.0</td>\n      <td>58.333333</td>\n      <td>1006.0</td>\n      <td>55.703125</td>\n      <td>1006.0</td>\n      <td>55.703125</td>\n    </tr>\n    <tr>\n      <th>4</th>\n      <td>2018-03-25</td>\n      <td>DL</td>\n      <td>2570.0</td>\n      <td>13244.0</td>\n      <td>Memphis, TN</td>\n      <td>10397</td>\n      <td>Atlanta, GA</td>\n      <td>700.0</td>\n      <td>919.0</td>\n      <td>25.0</td>\n      <td>...</td>\n      <td>6</td>\n      <td>12.0</td>\n      <td>7.0</td>\n      <td>9.0</td>\n      <td>11975.0</td>\n      <td>29.500000</td>\n      <td>1006.0</td>\n      <td>55.703125</td>\n      <td>1006.0</td>\n      <td>55.703125</td>\n    </tr>\n  </tbody>\n</table>\n<p>5 rows × 23 columns</p>\n</div>"
     },
     "metadata": {},
     "execution_count": 105
    }
   ],
   "source": [
    "DF.head()"
   ]
  },
  {
   "cell_type": "code",
   "execution_count": 106,
   "metadata": {},
   "outputs": [],
   "source": [
    "DF.rename(columns={'arr_delay_y':'airport_dest_delay'}, inplace=True)\n",
    "dt1.rename(columns={'arr_delay_y':'airport_dest_delay'}, inplace=True)"
   ]
  },
  {
   "cell_type": "code",
   "execution_count": 107,
   "metadata": {},
   "outputs": [],
   "source": [
    "# loading carrier average delay table and merge with the training and test data\n",
    "carrier=pd.read_csv('carrier.csv')\n",
    "DF=pd.merge(DF, carrier,how='left', on=['mkt_unique_carrier'])\n",
    "dt1=pd.merge(dt1, carrier,how='left', on=['mkt_unique_carrier'])"
   ]
  },
  {
   "cell_type": "code",
   "execution_count": 108,
   "metadata": {},
   "outputs": [],
   "source": [
    "# read departure hour and arr hour average delay data and merge with the training and test data\n",
    "dep_hour=pd.read_csv('hour_dep_delay.csv')\n",
    "arr_hour=pd.read_csv('arrhour.csv')"
   ]
  },
  {
   "cell_type": "code",
   "execution_count": 109,
   "metadata": {},
   "outputs": [],
   "source": [
    "DF=pd.merge(DF,dep_hour,how='left', on=['dep_hour'])\n",
    "DF.rename(columns={'dep_delay_y':'hour_dep_delay'}, inplace=True)\n",
    "dt1=pd.merge(dt1,dep_hour,how='left', on=['dep_hour'])\n",
    "dt1.rename(columns={'dep_delay_y':'hour_dep_delay'}, inplace=True)"
   ]
  },
  {
   "cell_type": "code",
   "execution_count": 110,
   "metadata": {},
   "outputs": [],
   "source": [
    "DF=pd.merge(DF,arr_hour,how='left', on=['arr_hour'])\n",
    "DF.rename(columns={'arr_delay':'hour_arr_delay'}, inplace=True)\n",
    "dt1=pd.merge(dt1,arr_hour,how='left', on=['arr_hour'])\n",
    "dt1.rename(columns={'arr_delay':'hour_arr_delay'}, inplace=True)"
   ]
  },
  {
   "cell_type": "code",
   "execution_count": 111,
   "metadata": {},
   "outputs": [],
   "source": [
    "# Load flight number average delays data, and merge with the training and test data\n",
    "FL=pd.read_csv('FL.csv')\n",
    "DF=pd.merge(DF,FL,how='left', on=['mkt_carrier_fl_num','fl_month','fl_day_of_week'])\n",
    "dt1=pd.merge(dt1,FL,how='left', on=['mkt_carrier_fl_num','fl_month','fl_day_of_week'])"
   ]
  },
  {
   "cell_type": "code",
   "execution_count": 112,
   "metadata": {},
   "outputs": [
    {
     "output_type": "execute_result",
     "data": {
      "text/plain": [
       "     fl_date mkt_unique_carrier  mkt_carrier_fl_num  origin_airport_id  \\\n",
       "0 2018-03-25                 DL              2130.0            10397.0   \n",
       "1 2018-03-25                 DL              2304.0            10397.0   \n",
       "2 2018-03-25                 DL              2145.0            14685.0   \n",
       "3 2018-03-25                 DL              2458.0            12278.0   \n",
       "4 2018-03-25                 DL              2570.0            13244.0   \n",
       "\n",
       "  origin_city_name  dest_airport_id dest_city_name  crs_dep_time  \\\n",
       "0      Atlanta, GA            15304      Tampa, FL        1630.0   \n",
       "1      Atlanta, GA            15304      Tampa, FL        2228.0   \n",
       "2     Savannah, GA            10397    Atlanta, GA         600.0   \n",
       "3      Wichita, KS            10397    Atlanta, GA         556.0   \n",
       "4      Memphis, TN            10397    Atlanta, GA         700.0   \n",
       "\n",
       "   crs_arr_time  arr_delay_x  ...  Unnamed: 0_x  arr_delay_x  Unnamed: 0_y  \\\n",
       "0        1800.0        -16.0  ...       19502.0    52.777778           3.0   \n",
       "1        2359.0         -3.0  ...       19502.0    52.777778           3.0   \n",
       "2         710.0        -14.0  ...        1006.0    55.703125           3.0   \n",
       "3         905.0        -16.0  ...        1006.0    55.703125           3.0   \n",
       "4         919.0         25.0  ...        1006.0    55.703125           3.0   \n",
       "\n",
       "   arr_delay_per_distance  Unnamed: 0_x  dep_delay  Unnamed: 0_y  arr_delay_y  \\\n",
       "0                 0.18435          16.0  63.993726          18.0    67.969464   \n",
       "1                 0.18435          22.0  65.634521          23.0    67.847889   \n",
       "2                 0.18435           6.0  62.064179           7.0    82.321074   \n",
       "3                 0.18435           5.0  74.027496           9.0    66.194355   \n",
       "4                 0.18435           7.0  55.068856           9.0    66.194355   \n",
       "\n",
       "   Unnamed: 0   arr_delay  \n",
       "0     90164.0  110.666667  \n",
       "1     97477.0  130.000000  \n",
       "2         NaN         NaN  \n",
       "3         NaN         NaN  \n",
       "4         NaN         NaN  \n",
       "\n",
       "[5 rows x 31 columns]"
      ],
      "text/html": "<div>\n<style scoped>\n    .dataframe tbody tr th:only-of-type {\n        vertical-align: middle;\n    }\n\n    .dataframe tbody tr th {\n        vertical-align: top;\n    }\n\n    .dataframe thead th {\n        text-align: right;\n    }\n</style>\n<table border=\"1\" class=\"dataframe\">\n  <thead>\n    <tr style=\"text-align: right;\">\n      <th></th>\n      <th>fl_date</th>\n      <th>mkt_unique_carrier</th>\n      <th>mkt_carrier_fl_num</th>\n      <th>origin_airport_id</th>\n      <th>origin_city_name</th>\n      <th>dest_airport_id</th>\n      <th>dest_city_name</th>\n      <th>crs_dep_time</th>\n      <th>crs_arr_time</th>\n      <th>arr_delay_x</th>\n      <th>...</th>\n      <th>Unnamed: 0_x</th>\n      <th>arr_delay_x</th>\n      <th>Unnamed: 0_y</th>\n      <th>arr_delay_per_distance</th>\n      <th>Unnamed: 0_x</th>\n      <th>dep_delay</th>\n      <th>Unnamed: 0_y</th>\n      <th>arr_delay_y</th>\n      <th>Unnamed: 0</th>\n      <th>arr_delay</th>\n    </tr>\n  </thead>\n  <tbody>\n    <tr>\n      <th>0</th>\n      <td>2018-03-25</td>\n      <td>DL</td>\n      <td>2130.0</td>\n      <td>10397.0</td>\n      <td>Atlanta, GA</td>\n      <td>15304</td>\n      <td>Tampa, FL</td>\n      <td>1630.0</td>\n      <td>1800.0</td>\n      <td>-16.0</td>\n      <td>...</td>\n      <td>19502.0</td>\n      <td>52.777778</td>\n      <td>3.0</td>\n      <td>0.18435</td>\n      <td>16.0</td>\n      <td>63.993726</td>\n      <td>18.0</td>\n      <td>67.969464</td>\n      <td>90164.0</td>\n      <td>110.666667</td>\n    </tr>\n    <tr>\n      <th>1</th>\n      <td>2018-03-25</td>\n      <td>DL</td>\n      <td>2304.0</td>\n      <td>10397.0</td>\n      <td>Atlanta, GA</td>\n      <td>15304</td>\n      <td>Tampa, FL</td>\n      <td>2228.0</td>\n      <td>2359.0</td>\n      <td>-3.0</td>\n      <td>...</td>\n      <td>19502.0</td>\n      <td>52.777778</td>\n      <td>3.0</td>\n      <td>0.18435</td>\n      <td>22.0</td>\n      <td>65.634521</td>\n      <td>23.0</td>\n      <td>67.847889</td>\n      <td>97477.0</td>\n      <td>130.000000</td>\n    </tr>\n    <tr>\n      <th>2</th>\n      <td>2018-03-25</td>\n      <td>DL</td>\n      <td>2145.0</td>\n      <td>14685.0</td>\n      <td>Savannah, GA</td>\n      <td>10397</td>\n      <td>Atlanta, GA</td>\n      <td>600.0</td>\n      <td>710.0</td>\n      <td>-14.0</td>\n      <td>...</td>\n      <td>1006.0</td>\n      <td>55.703125</td>\n      <td>3.0</td>\n      <td>0.18435</td>\n      <td>6.0</td>\n      <td>62.064179</td>\n      <td>7.0</td>\n      <td>82.321074</td>\n      <td>NaN</td>\n      <td>NaN</td>\n    </tr>\n    <tr>\n      <th>3</th>\n      <td>2018-03-25</td>\n      <td>DL</td>\n      <td>2458.0</td>\n      <td>12278.0</td>\n      <td>Wichita, KS</td>\n      <td>10397</td>\n      <td>Atlanta, GA</td>\n      <td>556.0</td>\n      <td>905.0</td>\n      <td>-16.0</td>\n      <td>...</td>\n      <td>1006.0</td>\n      <td>55.703125</td>\n      <td>3.0</td>\n      <td>0.18435</td>\n      <td>5.0</td>\n      <td>74.027496</td>\n      <td>9.0</td>\n      <td>66.194355</td>\n      <td>NaN</td>\n      <td>NaN</td>\n    </tr>\n    <tr>\n      <th>4</th>\n      <td>2018-03-25</td>\n      <td>DL</td>\n      <td>2570.0</td>\n      <td>13244.0</td>\n      <td>Memphis, TN</td>\n      <td>10397</td>\n      <td>Atlanta, GA</td>\n      <td>700.0</td>\n      <td>919.0</td>\n      <td>25.0</td>\n      <td>...</td>\n      <td>1006.0</td>\n      <td>55.703125</td>\n      <td>3.0</td>\n      <td>0.18435</td>\n      <td>7.0</td>\n      <td>55.068856</td>\n      <td>9.0</td>\n      <td>66.194355</td>\n      <td>NaN</td>\n      <td>NaN</td>\n    </tr>\n  </tbody>\n</table>\n<p>5 rows × 31 columns</p>\n</div>"
     },
     "metadata": {},
     "execution_count": 112
    }
   ],
   "source": [
    "DF.head()"
   ]
  },
  {
   "cell_type": "code",
   "execution_count": 113,
   "metadata": {},
   "outputs": [
    {
     "output_type": "execute_result",
     "data": {
      "text/plain": [
       "     fl_date mkt_unique_carrier  mkt_carrier_fl_num  origin_airport_id  \\\n",
       "0 2020-01-01                 WN                5888              13891   \n",
       "1 2020-01-01                 WN                6276              13891   \n",
       "2 2020-01-01                 WN                4598              13891   \n",
       "3 2020-01-01                 WN                4761              13891   \n",
       "4 2020-01-01                 WN                5162              13891   \n",
       "\n",
       "  origin_city_name  dest_airport_id     dest_city_name  crs_dep_time  \\\n",
       "0      Ontario, CA            14771  San Francisco, CA          1810   \n",
       "1      Ontario, CA            14771  San Francisco, CA          1150   \n",
       "2      Ontario, CA            14831       San Jose, CA          2020   \n",
       "3      Ontario, CA            14831       San Jose, CA          1340   \n",
       "4      Ontario, CA            14831       San Jose, CA           915   \n",
       "\n",
       "   crs_arr_time  crs_elapsed_time  ...  Unnamed: 0_x  airport_dest_delay  \\\n",
       "0          1945                95  ...       17858.0           95.769841   \n",
       "1          1320                90  ...       17858.0           95.769841   \n",
       "2          2130                70  ...       18225.0           48.529412   \n",
       "3          1455                75  ...       18225.0           48.529412   \n",
       "4          1035                80  ...       18225.0           48.529412   \n",
       "\n",
       "   Unnamed: 0_y  arr_delay_per_distance  Unnamed: 0_x  dep_delay  \\\n",
       "0            10                0.096419            18  68.807373   \n",
       "1            10                0.096419            11  59.339371   \n",
       "2            10                0.096419            20  67.458498   \n",
       "3            10                0.096419            13  62.418205   \n",
       "4            10                0.096419             9  55.403804   \n",
       "\n",
       "   Unnamed: 0_y  hour_arr_delay  Unnamed: 0  arr_delay  \n",
       "0            19       71.289764         NaN        NaN  \n",
       "1            13       63.519982    213557.0       15.0  \n",
       "2            21       70.593338    162049.0      811.5  \n",
       "3            14       65.683726         NaN        NaN  \n",
       "4            10       61.356276         NaN        NaN  \n",
       "\n",
       "[5 rows x 30 columns]"
      ],
      "text/html": "<div>\n<style scoped>\n    .dataframe tbody tr th:only-of-type {\n        vertical-align: middle;\n    }\n\n    .dataframe tbody tr th {\n        vertical-align: top;\n    }\n\n    .dataframe thead th {\n        text-align: right;\n    }\n</style>\n<table border=\"1\" class=\"dataframe\">\n  <thead>\n    <tr style=\"text-align: right;\">\n      <th></th>\n      <th>fl_date</th>\n      <th>mkt_unique_carrier</th>\n      <th>mkt_carrier_fl_num</th>\n      <th>origin_airport_id</th>\n      <th>origin_city_name</th>\n      <th>dest_airport_id</th>\n      <th>dest_city_name</th>\n      <th>crs_dep_time</th>\n      <th>crs_arr_time</th>\n      <th>crs_elapsed_time</th>\n      <th>...</th>\n      <th>Unnamed: 0_x</th>\n      <th>airport_dest_delay</th>\n      <th>Unnamed: 0_y</th>\n      <th>arr_delay_per_distance</th>\n      <th>Unnamed: 0_x</th>\n      <th>dep_delay</th>\n      <th>Unnamed: 0_y</th>\n      <th>hour_arr_delay</th>\n      <th>Unnamed: 0</th>\n      <th>arr_delay</th>\n    </tr>\n  </thead>\n  <tbody>\n    <tr>\n      <th>0</th>\n      <td>2020-01-01</td>\n      <td>WN</td>\n      <td>5888</td>\n      <td>13891</td>\n      <td>Ontario, CA</td>\n      <td>14771</td>\n      <td>San Francisco, CA</td>\n      <td>1810</td>\n      <td>1945</td>\n      <td>95</td>\n      <td>...</td>\n      <td>17858.0</td>\n      <td>95.769841</td>\n      <td>10</td>\n      <td>0.096419</td>\n      <td>18</td>\n      <td>68.807373</td>\n      <td>19</td>\n      <td>71.289764</td>\n      <td>NaN</td>\n      <td>NaN</td>\n    </tr>\n    <tr>\n      <th>1</th>\n      <td>2020-01-01</td>\n      <td>WN</td>\n      <td>6276</td>\n      <td>13891</td>\n      <td>Ontario, CA</td>\n      <td>14771</td>\n      <td>San Francisco, CA</td>\n      <td>1150</td>\n      <td>1320</td>\n      <td>90</td>\n      <td>...</td>\n      <td>17858.0</td>\n      <td>95.769841</td>\n      <td>10</td>\n      <td>0.096419</td>\n      <td>11</td>\n      <td>59.339371</td>\n      <td>13</td>\n      <td>63.519982</td>\n      <td>213557.0</td>\n      <td>15.0</td>\n    </tr>\n    <tr>\n      <th>2</th>\n      <td>2020-01-01</td>\n      <td>WN</td>\n      <td>4598</td>\n      <td>13891</td>\n      <td>Ontario, CA</td>\n      <td>14831</td>\n      <td>San Jose, CA</td>\n      <td>2020</td>\n      <td>2130</td>\n      <td>70</td>\n      <td>...</td>\n      <td>18225.0</td>\n      <td>48.529412</td>\n      <td>10</td>\n      <td>0.096419</td>\n      <td>20</td>\n      <td>67.458498</td>\n      <td>21</td>\n      <td>70.593338</td>\n      <td>162049.0</td>\n      <td>811.5</td>\n    </tr>\n    <tr>\n      <th>3</th>\n      <td>2020-01-01</td>\n      <td>WN</td>\n      <td>4761</td>\n      <td>13891</td>\n      <td>Ontario, CA</td>\n      <td>14831</td>\n      <td>San Jose, CA</td>\n      <td>1340</td>\n      <td>1455</td>\n      <td>75</td>\n      <td>...</td>\n      <td>18225.0</td>\n      <td>48.529412</td>\n      <td>10</td>\n      <td>0.096419</td>\n      <td>13</td>\n      <td>62.418205</td>\n      <td>14</td>\n      <td>65.683726</td>\n      <td>NaN</td>\n      <td>NaN</td>\n    </tr>\n    <tr>\n      <th>4</th>\n      <td>2020-01-01</td>\n      <td>WN</td>\n      <td>5162</td>\n      <td>13891</td>\n      <td>Ontario, CA</td>\n      <td>14831</td>\n      <td>San Jose, CA</td>\n      <td>915</td>\n      <td>1035</td>\n      <td>80</td>\n      <td>...</td>\n      <td>18225.0</td>\n      <td>48.529412</td>\n      <td>10</td>\n      <td>0.096419</td>\n      <td>9</td>\n      <td>55.403804</td>\n      <td>10</td>\n      <td>61.356276</td>\n      <td>NaN</td>\n      <td>NaN</td>\n    </tr>\n  </tbody>\n</table>\n<p>5 rows × 30 columns</p>\n</div>"
     },
     "metadata": {},
     "execution_count": 113
    }
   ],
   "source": [
    "dt1.head()"
   ]
  },
  {
   "cell_type": "code",
   "execution_count": 114,
   "metadata": {},
   "outputs": [],
   "source": [
    "DF.rename(columns={'arr_delay':'fl_delay'}, inplace=True)\n",
    "dt1.rename(columns={'arr_delay':'fl_delay'}, inplace=True)"
   ]
  },
  {
   "cell_type": "code",
   "execution_count": 115,
   "metadata": {},
   "outputs": [],
   "source": [
    "## load the weather delay tables and merge with the training and test data\n",
    "dw_ori=pd.read_csv('weather_delay_factor.csv')\n",
    "dw_dest=pd.read_csv('weather_arr_delay.csv')\n",
    "DF=pd.merge(DF,dw_ori,on=['origin_city_name', 'fl_month'], how='left')\n",
    "dt1=pd.merge(dt1,dw_ori,on=['origin_city_name', 'fl_month'], how='left')"
   ]
  },
  {
   "cell_type": "code",
   "execution_count": 117,
   "metadata": {},
   "outputs": [],
   "source": [
    "DF.rename(columns={'weather_delay':'wea_delay_ori'}, inplace=True)\n",
    "dt1.rename(columns={'weather_delay':'wea_delay_ori'}, inplace=True)"
   ]
  },
  {
   "cell_type": "code",
   "execution_count": 118,
   "metadata": {},
   "outputs": [],
   "source": [
    "DF=pd.merge(DF,dw_dest, on=['dest_city_name', 'fl_month'], how='left')\n",
    "dt1=pd.merge(dt1,dw_dest, on=['dest_city_name', 'fl_month'], how='left')\n",
    "DF.rename(columns={'weather_delay':'wea_delay_dest'}, inplace=True)\n",
    "dt1.rename(columns={'weather_delay':'wea_delay_dest'}, inplace=True)"
   ]
  },
  {
   "cell_type": "code",
   "execution_count": 148,
   "metadata": {},
   "outputs": [],
   "source": [
    "train_cols=['mkt_unique_carrier', 'mkt_carrier_fl_num',\n",
    "       'origin_airport_id','dest_airport_id',  'crs_elapsed_time','fl_month', 'fl_day_of_week',\n",
    "      'dep_hour', 'arr_hour', 'airport_delay_ori','airport_dest_delay',\n",
    "       'dep_delay',  'wea_delay_ori', 'wea_delay_dest', 'arr_delay_x']"
   ]
  },
  {
   "cell_type": "code",
   "execution_count": 157,
   "metadata": {},
   "outputs": [],
   "source": [
    "feature_cols=['mkt_unique_carrier', 'mkt_carrier_fl_num',\n",
    "       'origin_airport_id','dest_airport_id',  'crs_elapsed_time','fl_month', 'fl_day_of_week',\n",
    "      'dep_hour', 'arr_hour', 'airport_delay_ori','airport_dest_delay',\n",
    "       'dep_delay',  'wea_delay_ori', 'wea_delay_dest']"
   ]
  },
  {
   "cell_type": "code",
   "execution_count": 150,
   "metadata": {},
   "outputs": [],
   "source": [
    "df3=DF[train_cols].iloc[:, :-1]"
   ]
  },
  {
   "cell_type": "code",
   "execution_count": 196,
   "metadata": {},
   "outputs": [],
   "source": [
    "df_modeling=df3.dropna(axis=0)"
   ]
  },
  {
   "cell_type": "code",
   "execution_count": 155,
   "metadata": {},
   "outputs": [
    {
     "output_type": "execute_result",
     "data": {
      "text/plain": [
       "  mkt_unique_carrier  mkt_carrier_fl_num  origin_airport_id  dest_airport_id  \\\n",
       "0                 DL              2130.0            10397.0            15304   \n",
       "1                 DL              2304.0            10397.0            15304   \n",
       "2                 DL              2145.0            14685.0            10397   \n",
       "3                 DL              2458.0            12278.0            10397   \n",
       "4                 DL              2570.0            13244.0            10397   \n",
       "\n",
       "   crs_elapsed_time  fl_month  fl_day_of_week  dep_hour  arr_hour  \\\n",
       "0              90.0         3               6      16.0      18.0   \n",
       "1              91.0         3               6      22.0      23.0   \n",
       "2              70.0         3               6       6.0       7.0   \n",
       "3             129.0         3               6       5.0       9.0   \n",
       "4              79.0         3               6       7.0       9.0   \n",
       "\n",
       "   airport_delay_ori  airport_dest_delay  dep_delay  wea_delay_ori  \\\n",
       "0          47.691176           52.777778  63.993726      98.088319   \n",
       "1          47.691176           52.777778  65.634521      98.088319   \n",
       "2          26.166667           55.703125  62.064179      38.769231   \n",
       "3          58.333333           55.703125  74.027496      32.375000   \n",
       "4          29.500000           55.703125  55.068856     159.100000   \n",
       "\n",
       "   wea_delay_dest  arr_delay_x  \n",
       "0       44.270588        -16.0  \n",
       "1       44.270588         -3.0  \n",
       "2       54.169935        -14.0  \n",
       "3       54.169935        -16.0  \n",
       "4       54.169935         25.0  "
      ],
      "text/html": "<div>\n<style scoped>\n    .dataframe tbody tr th:only-of-type {\n        vertical-align: middle;\n    }\n\n    .dataframe tbody tr th {\n        vertical-align: top;\n    }\n\n    .dataframe thead th {\n        text-align: right;\n    }\n</style>\n<table border=\"1\" class=\"dataframe\">\n  <thead>\n    <tr style=\"text-align: right;\">\n      <th></th>\n      <th>mkt_unique_carrier</th>\n      <th>mkt_carrier_fl_num</th>\n      <th>origin_airport_id</th>\n      <th>dest_airport_id</th>\n      <th>crs_elapsed_time</th>\n      <th>fl_month</th>\n      <th>fl_day_of_week</th>\n      <th>dep_hour</th>\n      <th>arr_hour</th>\n      <th>airport_delay_ori</th>\n      <th>airport_dest_delay</th>\n      <th>dep_delay</th>\n      <th>wea_delay_ori</th>\n      <th>wea_delay_dest</th>\n      <th>arr_delay_x</th>\n    </tr>\n  </thead>\n  <tbody>\n    <tr>\n      <th>0</th>\n      <td>DL</td>\n      <td>2130.0</td>\n      <td>10397.0</td>\n      <td>15304</td>\n      <td>90.0</td>\n      <td>3</td>\n      <td>6</td>\n      <td>16.0</td>\n      <td>18.0</td>\n      <td>47.691176</td>\n      <td>52.777778</td>\n      <td>63.993726</td>\n      <td>98.088319</td>\n      <td>44.270588</td>\n      <td>-16.0</td>\n    </tr>\n    <tr>\n      <th>1</th>\n      <td>DL</td>\n      <td>2304.0</td>\n      <td>10397.0</td>\n      <td>15304</td>\n      <td>91.0</td>\n      <td>3</td>\n      <td>6</td>\n      <td>22.0</td>\n      <td>23.0</td>\n      <td>47.691176</td>\n      <td>52.777778</td>\n      <td>65.634521</td>\n      <td>98.088319</td>\n      <td>44.270588</td>\n      <td>-3.0</td>\n    </tr>\n    <tr>\n      <th>2</th>\n      <td>DL</td>\n      <td>2145.0</td>\n      <td>14685.0</td>\n      <td>10397</td>\n      <td>70.0</td>\n      <td>3</td>\n      <td>6</td>\n      <td>6.0</td>\n      <td>7.0</td>\n      <td>26.166667</td>\n      <td>55.703125</td>\n      <td>62.064179</td>\n      <td>38.769231</td>\n      <td>54.169935</td>\n      <td>-14.0</td>\n    </tr>\n    <tr>\n      <th>3</th>\n      <td>DL</td>\n      <td>2458.0</td>\n      <td>12278.0</td>\n      <td>10397</td>\n      <td>129.0</td>\n      <td>3</td>\n      <td>6</td>\n      <td>5.0</td>\n      <td>9.0</td>\n      <td>58.333333</td>\n      <td>55.703125</td>\n      <td>74.027496</td>\n      <td>32.375000</td>\n      <td>54.169935</td>\n      <td>-16.0</td>\n    </tr>\n    <tr>\n      <th>4</th>\n      <td>DL</td>\n      <td>2570.0</td>\n      <td>13244.0</td>\n      <td>10397</td>\n      <td>79.0</td>\n      <td>3</td>\n      <td>6</td>\n      <td>7.0</td>\n      <td>9.0</td>\n      <td>29.500000</td>\n      <td>55.703125</td>\n      <td>55.068856</td>\n      <td>159.100000</td>\n      <td>54.169935</td>\n      <td>25.0</td>\n    </tr>\n  </tbody>\n</table>\n</div>"
     },
     "metadata": {},
     "execution_count": 155
    }
   ],
   "source": [
    "df_modeling.head()"
   ]
  },
  {
   "cell_type": "code",
   "execution_count": 301,
   "metadata": {},
   "outputs": [
    {
     "output_type": "execute_result",
     "data": {
      "text/plain": [
       "(468969, 15)"
      ]
     },
     "metadata": {},
     "execution_count": 301
    }
   ],
   "source": [
    "df_modeling.shape"
   ]
  },
  {
   "cell_type": "code",
   "execution_count": 304,
   "metadata": {},
   "outputs": [],
   "source": [
    "y=df_modeling['arr_delay_x'].values"
   ]
  },
  {
   "cell_type": "code",
   "execution_count": 156,
   "metadata": {},
   "outputs": [],
   "source": [
    "df_modeling.to_csv('regression_train_data.csv')"
   ]
  },
  {
   "cell_type": "code",
   "execution_count": 158,
   "metadata": {},
   "outputs": [
    {
     "output_type": "execute_result",
     "data": {
      "text/plain": [
       "mkt_unique_carrier        0\n",
       "mkt_carrier_fl_num        0\n",
       "origin_airport_id         0\n",
       "dest_airport_id           0\n",
       "crs_elapsed_time          0\n",
       "fl_month                  0\n",
       "fl_day_of_week            0\n",
       "dep_hour                  0\n",
       "arr_hour                  0\n",
       "airport_delay_ori     17389\n",
       "airport_dest_delay    15773\n",
       "dep_delay                 0\n",
       "wea_delay_ori          4309\n",
       "wea_delay_dest         4017\n",
       "dtype: int64"
      ]
     },
     "metadata": {},
     "execution_count": 158
    }
   ],
   "source": [
    "dt1[feature_cols].isnull().sum()"
   ]
  },
  {
   "cell_type": "code",
   "execution_count": 197,
   "metadata": {},
   "outputs": [],
   "source": [
    "test_final=dt1[feature_cols].fillna(0)"
   ]
  },
  {
   "cell_type": "code",
   "execution_count": 160,
   "metadata": {},
   "outputs": [],
   "source": [
    "test_final.to_csv('transformed_test.csv')"
   ]
  },
  {
   "cell_type": "code",
   "execution_count": 144,
   "metadata": {},
   "outputs": [
    {
     "output_type": "execute_result",
     "data": {
      "text/plain": [
       "(660556, 14)"
      ]
     },
     "metadata": {},
     "execution_count": 144
    }
   ],
   "source": [
    "test_final.shape"
   ]
  },
  {
   "cell_type": "code",
   "execution_count": 161,
   "metadata": {},
   "outputs": [
    {
     "output_type": "execute_result",
     "data": {
      "text/plain": [
       "  mkt_unique_carrier  mkt_carrier_fl_num  origin_airport_id  dest_airport_id  \\\n",
       "0                 WN                5888              13891            14771   \n",
       "1                 WN                6276              13891            14771   \n",
       "2                 WN                4598              13891            14831   \n",
       "3                 WN                4761              13891            14831   \n",
       "4                 WN                5162              13891            14831   \n",
       "\n",
       "   crs_elapsed_time  fl_month  fl_day_of_week  dep_hour  arr_hour  \\\n",
       "0                95         1               2        18        19   \n",
       "1                90         1               2        11        13   \n",
       "2                70         1               2        20        21   \n",
       "3                75         1               2        13        14   \n",
       "4                80         1               2         9        10   \n",
       "\n",
       "   airport_delay_ori  airport_dest_delay  dep_delay  wea_delay_ori  \\\n",
       "0               12.6           95.769841  68.807373      24.222222   \n",
       "1               12.6           95.769841  59.339371      24.222222   \n",
       "2               12.6           48.529412  67.458498      24.222222   \n",
       "3               12.6           48.529412  62.418205      24.222222   \n",
       "4               12.6           48.529412  55.403804      24.222222   \n",
       "\n",
       "   wea_delay_dest  \n",
       "0       57.796407  \n",
       "1       57.796407  \n",
       "2       42.378378  \n",
       "3       42.378378  \n",
       "4       42.378378  "
      ],
      "text/html": "<div>\n<style scoped>\n    .dataframe tbody tr th:only-of-type {\n        vertical-align: middle;\n    }\n\n    .dataframe tbody tr th {\n        vertical-align: top;\n    }\n\n    .dataframe thead th {\n        text-align: right;\n    }\n</style>\n<table border=\"1\" class=\"dataframe\">\n  <thead>\n    <tr style=\"text-align: right;\">\n      <th></th>\n      <th>mkt_unique_carrier</th>\n      <th>mkt_carrier_fl_num</th>\n      <th>origin_airport_id</th>\n      <th>dest_airport_id</th>\n      <th>crs_elapsed_time</th>\n      <th>fl_month</th>\n      <th>fl_day_of_week</th>\n      <th>dep_hour</th>\n      <th>arr_hour</th>\n      <th>airport_delay_ori</th>\n      <th>airport_dest_delay</th>\n      <th>dep_delay</th>\n      <th>wea_delay_ori</th>\n      <th>wea_delay_dest</th>\n    </tr>\n  </thead>\n  <tbody>\n    <tr>\n      <th>0</th>\n      <td>WN</td>\n      <td>5888</td>\n      <td>13891</td>\n      <td>14771</td>\n      <td>95</td>\n      <td>1</td>\n      <td>2</td>\n      <td>18</td>\n      <td>19</td>\n      <td>12.6</td>\n      <td>95.769841</td>\n      <td>68.807373</td>\n      <td>24.222222</td>\n      <td>57.796407</td>\n    </tr>\n    <tr>\n      <th>1</th>\n      <td>WN</td>\n      <td>6276</td>\n      <td>13891</td>\n      <td>14771</td>\n      <td>90</td>\n      <td>1</td>\n      <td>2</td>\n      <td>11</td>\n      <td>13</td>\n      <td>12.6</td>\n      <td>95.769841</td>\n      <td>59.339371</td>\n      <td>24.222222</td>\n      <td>57.796407</td>\n    </tr>\n    <tr>\n      <th>2</th>\n      <td>WN</td>\n      <td>4598</td>\n      <td>13891</td>\n      <td>14831</td>\n      <td>70</td>\n      <td>1</td>\n      <td>2</td>\n      <td>20</td>\n      <td>21</td>\n      <td>12.6</td>\n      <td>48.529412</td>\n      <td>67.458498</td>\n      <td>24.222222</td>\n      <td>42.378378</td>\n    </tr>\n    <tr>\n      <th>3</th>\n      <td>WN</td>\n      <td>4761</td>\n      <td>13891</td>\n      <td>14831</td>\n      <td>75</td>\n      <td>1</td>\n      <td>2</td>\n      <td>13</td>\n      <td>14</td>\n      <td>12.6</td>\n      <td>48.529412</td>\n      <td>62.418205</td>\n      <td>24.222222</td>\n      <td>42.378378</td>\n    </tr>\n    <tr>\n      <th>4</th>\n      <td>WN</td>\n      <td>5162</td>\n      <td>13891</td>\n      <td>14831</td>\n      <td>80</td>\n      <td>1</td>\n      <td>2</td>\n      <td>9</td>\n      <td>10</td>\n      <td>12.6</td>\n      <td>48.529412</td>\n      <td>55.403804</td>\n      <td>24.222222</td>\n      <td>42.378378</td>\n    </tr>\n  </tbody>\n</table>\n</div>"
     },
     "metadata": {},
     "execution_count": 161
    }
   ],
   "source": [
    "test_final.head()"
   ]
  },
  {
   "cell_type": "code",
   "execution_count": 163,
   "metadata": {},
   "outputs": [],
   "source": [
    "X=df_modeling.iloc[:,:-1].values\n",
    "X_test=test_final.values"
   ]
  },
  {
   "cell_type": "code",
   "execution_count": 164,
   "metadata": {},
   "outputs": [
    {
     "output_type": "execute_result",
     "data": {
      "text/plain": [
       "array([['WN', 5888, 13891, ..., 68.80737346386171, 24.222222222222218,\n",
       "        57.79640718562874],\n",
       "       ['WN', 6276, 13891, ..., 59.33937065495793, 24.222222222222218,\n",
       "        57.79640718562874],\n",
       "       ['WN', 4598, 13891, ..., 67.45849761361279, 24.222222222222218,\n",
       "        42.37837837837838],\n",
       "       ...,\n",
       "       ['DL', 4956, 12478, ..., 65.63452101557499, 65.13256113256114,\n",
       "        80.79411764705883],\n",
       "       ['DL', 4957, 13930, ..., 55.65017366799921, 34.024758311718934,\n",
       "        70.37797956867195],\n",
       "       ['DL', 4958, 12953, ..., 67.45849761361279, 65.13256113256114,\n",
       "        44.53549695740365]], dtype=object)"
      ]
     },
     "metadata": {},
     "execution_count": 164
    }
   ],
   "source": [
    "X_test"
   ]
  },
  {
   "cell_type": "code",
   "execution_count": 198,
   "metadata": {},
   "outputs": [],
   "source": [
    "from sklearn.preprocessing import LabelEncoder\n",
    "from sklearn.preprocessing import OneHotEncoder, StandardScaler\n",
    "from sklearn.model_selection import train_test_split\n",
    "from sklearn.ensemble import RandomForestClassifier\n",
    "from sklearn.tree import DecisionTreeClassifier\n",
    "from sklearn.svm import SVC\n",
    "from sklearn import metrics\n",
    "import xgboost as xgb\n",
    "import numpy as np \n",
    "from sklearn.linear_model import LinearRegression, RidgeCV, LassoCV\n",
    "from sklearn.preprocessing import PolynomialFeatures"
   ]
  },
  {
   "cell_type": "code",
   "execution_count": 169,
   "metadata": {},
   "outputs": [],
   "source": [
    "encoder=LabelEncoder()\n",
    "scaler=StandardScaler()"
   ]
  },
  {
   "cell_type": "code",
   "execution_count": null,
   "metadata": {},
   "outputs": [],
   "source": [
    "feature_cols=['mkt_unique_carrier', 'mkt_carrier_fl_num',\n",
    "       'origin_airport_id','dest_airport_id',  'crs_elapsed_time','fl_month', 'fl_day_of_week',\n",
    "      'dep_hour', 'arr_hour', 'airport_delay_ori','airport_dest_delay',\n",
    "       'dep_delay',  'wea_delay_ori', 'wea_delay_dest']"
   ]
  },
  {
   "cell_type": "code",
   "execution_count": 167,
   "metadata": {},
   "outputs": [],
   "source": [
    "encoder_cols=['mkt_unique_carrier', 'mkt_carrier_fl_num','origin_airport_id','dest_airport_id', 'fl_month', 'fl_day_of_week',\n",
    "       'dep_hour', 'arr_hour']\n",
    "num_cols=['crs_elapsed_time', 'airport_delay_ori','airport_dest_delay',\n",
    "       'dep_delay',  'wea_delay_ori', 'wea_delay_dest']"
   ]
  },
  {
   "cell_type": "code",
   "execution_count": 189,
   "metadata": {},
   "outputs": [
    {
     "output_type": "execute_result",
     "data": {
      "text/plain": [
       "AA    172420\n",
       "DL    143649\n",
       "UA    128306\n",
       "WN    109770\n",
       "AS     36197\n",
       "B6     24709\n",
       "NK     17477\n",
       "F9     12467\n",
       "HA      7787\n",
       "G4      7774\n",
       "Name: mkt_unique_carrier, dtype: int64"
      ]
     },
     "metadata": {},
     "execution_count": 189
    }
   ],
   "source": [
    "test_final['mkt_unique_carrier'].value_counts()"
   ]
  },
  {
   "cell_type": "code",
   "execution_count": 305,
   "metadata": {},
   "outputs": [
    {
     "output_type": "execute_result",
     "data": {
      "text/plain": [
       "       mkt_unique_carrier  mkt_carrier_fl_num  origin_airport_id  \\\n",
       "660551                 DL              4954.0            11278.0   \n",
       "660552                 DL              4955.0            11278.0   \n",
       "660553                 DL              4956.0            12478.0   \n",
       "660554                 DL              4957.0            13930.0   \n",
       "660555                 DL              4958.0            12953.0   \n",
       "\n",
       "        dest_airport_id  crs_elapsed_time  fl_month  fl_day_of_week  dep_hour  \\\n",
       "660551            11193             102.0         1               4      18.0   \n",
       "660552            11193             107.0         1               4      15.0   \n",
       "660553            10785              92.0         1               4      22.0   \n",
       "660554            12478             141.0         1               4      10.0   \n",
       "660555            11057             137.0         1               4      20.0   \n",
       "\n",
       "        arr_hour  airport_delay_ori  airport_dest_delay  dep_delay  \\\n",
       "660551      20.0          82.000000           62.384615  68.807373   \n",
       "660552      17.0          82.000000           62.384615  62.362696   \n",
       "660553      23.0          67.862500           51.000000  65.634521   \n",
       "660554      13.0          67.908654          102.360000  55.650174   \n",
       "660555      22.0          67.147887           56.435897  67.458498   \n",
       "\n",
       "        wea_delay_ori  wea_delay_dest  arr_delay_x  \n",
       "660551      68.080550       46.706215          NaN  \n",
       "660552      68.080550       46.706215          NaN  \n",
       "660553      65.132561       80.794118          NaN  \n",
       "660554      34.024758       70.377980          NaN  \n",
       "660555      65.132561       44.535497          NaN  "
      ],
      "text/html": "<div>\n<style scoped>\n    .dataframe tbody tr th:only-of-type {\n        vertical-align: middle;\n    }\n\n    .dataframe tbody tr th {\n        vertical-align: top;\n    }\n\n    .dataframe thead th {\n        text-align: right;\n    }\n</style>\n<table border=\"1\" class=\"dataframe\">\n  <thead>\n    <tr style=\"text-align: right;\">\n      <th></th>\n      <th>mkt_unique_carrier</th>\n      <th>mkt_carrier_fl_num</th>\n      <th>origin_airport_id</th>\n      <th>dest_airport_id</th>\n      <th>crs_elapsed_time</th>\n      <th>fl_month</th>\n      <th>fl_day_of_week</th>\n      <th>dep_hour</th>\n      <th>arr_hour</th>\n      <th>airport_delay_ori</th>\n      <th>airport_dest_delay</th>\n      <th>dep_delay</th>\n      <th>wea_delay_ori</th>\n      <th>wea_delay_dest</th>\n      <th>arr_delay_x</th>\n    </tr>\n  </thead>\n  <tbody>\n    <tr>\n      <th>660551</th>\n      <td>DL</td>\n      <td>4954.0</td>\n      <td>11278.0</td>\n      <td>11193</td>\n      <td>102.0</td>\n      <td>1</td>\n      <td>4</td>\n      <td>18.0</td>\n      <td>20.0</td>\n      <td>82.000000</td>\n      <td>62.384615</td>\n      <td>68.807373</td>\n      <td>68.080550</td>\n      <td>46.706215</td>\n      <td>NaN</td>\n    </tr>\n    <tr>\n      <th>660552</th>\n      <td>DL</td>\n      <td>4955.0</td>\n      <td>11278.0</td>\n      <td>11193</td>\n      <td>107.0</td>\n      <td>1</td>\n      <td>4</td>\n      <td>15.0</td>\n      <td>17.0</td>\n      <td>82.000000</td>\n      <td>62.384615</td>\n      <td>62.362696</td>\n      <td>68.080550</td>\n      <td>46.706215</td>\n      <td>NaN</td>\n    </tr>\n    <tr>\n      <th>660553</th>\n      <td>DL</td>\n      <td>4956.0</td>\n      <td>12478.0</td>\n      <td>10785</td>\n      <td>92.0</td>\n      <td>1</td>\n      <td>4</td>\n      <td>22.0</td>\n      <td>23.0</td>\n      <td>67.862500</td>\n      <td>51.000000</td>\n      <td>65.634521</td>\n      <td>65.132561</td>\n      <td>80.794118</td>\n      <td>NaN</td>\n    </tr>\n    <tr>\n      <th>660554</th>\n      <td>DL</td>\n      <td>4957.0</td>\n      <td>13930.0</td>\n      <td>12478</td>\n      <td>141.0</td>\n      <td>1</td>\n      <td>4</td>\n      <td>10.0</td>\n      <td>13.0</td>\n      <td>67.908654</td>\n      <td>102.360000</td>\n      <td>55.650174</td>\n      <td>34.024758</td>\n      <td>70.377980</td>\n      <td>NaN</td>\n    </tr>\n    <tr>\n      <th>660555</th>\n      <td>DL</td>\n      <td>4958.0</td>\n      <td>12953.0</td>\n      <td>11057</td>\n      <td>137.0</td>\n      <td>1</td>\n      <td>4</td>\n      <td>20.0</td>\n      <td>22.0</td>\n      <td>67.147887</td>\n      <td>56.435897</td>\n      <td>67.458498</td>\n      <td>65.132561</td>\n      <td>44.535497</td>\n      <td>NaN</td>\n    </tr>\n  </tbody>\n</table>\n</div>"
     },
     "metadata": {},
     "execution_count": 305
    }
   ],
   "source": [
    "## concatenate two tables together for encoder and scaler\n",
    "train_test=pd.concat([df_modeling, test_final],sort=False )\n",
    "train_test.tail()"
   ]
  },
  {
   "cell_type": "code",
   "execution_count": 306,
   "metadata": {},
   "outputs": [],
   "source": [
    "df1=train_test[encoder_cols]"
   ]
  },
  {
   "cell_type": "code",
   "execution_count": 307,
   "metadata": {},
   "outputs": [
    {
     "output_type": "execute_result",
     "data": {
      "text/plain": [
       "(1129525, 8)"
      ]
     },
     "metadata": {},
     "execution_count": 307
    }
   ],
   "source": [
    "df1.shape"
   ]
  },
  {
   "cell_type": "code",
   "execution_count": 308,
   "metadata": {},
   "outputs": [],
   "source": [
    "df1=df1.apply(encoder.fit_transform)"
   ]
  },
  {
   "cell_type": "code",
   "execution_count": 309,
   "metadata": {},
   "outputs": [],
   "source": [
    "df2=train_test[num_cols]"
   ]
  },
  {
   "cell_type": "code",
   "execution_count": 310,
   "metadata": {},
   "outputs": [],
   "source": [
    "df2=scaler.fit_transform(df2)"
   ]
  },
  {
   "cell_type": "code",
   "execution_count": 311,
   "metadata": {},
   "outputs": [],
   "source": [
    "df2=pd.DataFrame(df2,columns=num_cols)"
   ]
  },
  {
   "cell_type": "code",
   "execution_count": 290,
   "metadata": {},
   "outputs": [
    {
     "output_type": "execute_result",
     "data": {
      "text/plain": [
       "   mkt_unique_carrier  mkt_carrier_fl_num  origin_airport_id  dest_airport_id  \\\n",
       "0                   3                2128                 21              349   \n",
       "1                   3                2302                 21              349   \n",
       "2                   3                2143                307               21   \n",
       "3                   3                2456                165               21   \n",
       "4                   3                2568                218               21   \n",
       "\n",
       "   fl_month  fl_day_of_week  dep_hour  arr_hour  \n",
       "0         2               6        16        18  \n",
       "1         2               6        22        23  \n",
       "2         2               6         6         7  \n",
       "3         2               6         5         9  \n",
       "4         2               6         7         9  "
      ],
      "text/html": "<div>\n<style scoped>\n    .dataframe tbody tr th:only-of-type {\n        vertical-align: middle;\n    }\n\n    .dataframe tbody tr th {\n        vertical-align: top;\n    }\n\n    .dataframe thead th {\n        text-align: right;\n    }\n</style>\n<table border=\"1\" class=\"dataframe\">\n  <thead>\n    <tr style=\"text-align: right;\">\n      <th></th>\n      <th>mkt_unique_carrier</th>\n      <th>mkt_carrier_fl_num</th>\n      <th>origin_airport_id</th>\n      <th>dest_airport_id</th>\n      <th>fl_month</th>\n      <th>fl_day_of_week</th>\n      <th>dep_hour</th>\n      <th>arr_hour</th>\n    </tr>\n  </thead>\n  <tbody>\n    <tr>\n      <th>0</th>\n      <td>3</td>\n      <td>2128</td>\n      <td>21</td>\n      <td>349</td>\n      <td>2</td>\n      <td>6</td>\n      <td>16</td>\n      <td>18</td>\n    </tr>\n    <tr>\n      <th>1</th>\n      <td>3</td>\n      <td>2302</td>\n      <td>21</td>\n      <td>349</td>\n      <td>2</td>\n      <td>6</td>\n      <td>22</td>\n      <td>23</td>\n    </tr>\n    <tr>\n      <th>2</th>\n      <td>3</td>\n      <td>2143</td>\n      <td>307</td>\n      <td>21</td>\n      <td>2</td>\n      <td>6</td>\n      <td>6</td>\n      <td>7</td>\n    </tr>\n    <tr>\n      <th>3</th>\n      <td>3</td>\n      <td>2456</td>\n      <td>165</td>\n      <td>21</td>\n      <td>2</td>\n      <td>6</td>\n      <td>5</td>\n      <td>9</td>\n    </tr>\n    <tr>\n      <th>4</th>\n      <td>3</td>\n      <td>2568</td>\n      <td>218</td>\n      <td>21</td>\n      <td>2</td>\n      <td>6</td>\n      <td>7</td>\n      <td>9</td>\n    </tr>\n  </tbody>\n</table>\n</div>"
     },
     "metadata": {},
     "execution_count": 290
    }
   ],
   "source": [
    "df1.head()"
   ]
  },
  {
   "cell_type": "code",
   "execution_count": 312,
   "metadata": {},
   "outputs": [],
   "source": [
    "DF=pd.merge(df1, df2, left_index=True, right_index=True)"
   ]
  },
  {
   "cell_type": "code",
   "execution_count": 313,
   "metadata": {},
   "outputs": [
    {
     "output_type": "execute_result",
     "data": {
      "text/plain": [
       "(1129525, 14)"
      ]
     },
     "metadata": {},
     "execution_count": 313
    }
   ],
   "source": [
    "DF.shape"
   ]
  },
  {
   "cell_type": "code",
   "execution_count": 314,
   "metadata": {},
   "outputs": [],
   "source": [
    "train_data=DF.iloc[:468969, :]\n",
    "test_data=DF.iloc[468969:,:]"
   ]
  },
  {
   "cell_type": "code",
   "execution_count": 315,
   "metadata": {},
   "outputs": [
    {
     "output_type": "execute_result",
     "data": {
      "text/plain": [
       "(468969, 14)"
      ]
     },
     "metadata": {},
     "execution_count": 315
    }
   ],
   "source": [
    "train_data.shape"
   ]
  },
  {
   "cell_type": "code",
   "execution_count": 316,
   "metadata": {},
   "outputs": [
    {
     "output_type": "execute_result",
     "data": {
      "text/plain": [
       "(660556, 14)"
      ]
     },
     "metadata": {},
     "execution_count": 316
    }
   ],
   "source": [
    "test_data.shape"
   ]
  },
  {
   "source": [
    "## Modeling process"
   ],
   "cell_type": "markdown",
   "metadata": {}
  },
  {
   "cell_type": "code",
   "execution_count": 353,
   "metadata": {},
   "outputs": [],
   "source": [
    "X=train_data.iloc[:,:].values\n",
    "X_test_submission=test_data.iloc[:,:].values"
   ]
  },
  {
   "cell_type": "code",
   "execution_count": 359,
   "metadata": {},
   "outputs": [],
   "source": [
    "# Linear Regression\n",
    "X_train, X_test, y_train, y_test=train_test_split(X,y,test_size=0.3)\n",
    "LR=LinearRegression()\n",
    "LR.fit(X_train, y_train)\n",
    "y_LR=LR.predict(X_test)\n"
   ]
  },
  {
   "cell_type": "code",
   "execution_count": 360,
   "metadata": {},
   "outputs": [
    {
     "output_type": "stream",
     "name": "stdout",
     "text": [
      "the RMSE is:  28.96472768323543\nthe MSE is 838.9554497639849\nthe R_score is  0.0002867254945532194\n"
     ]
    }
   ],
   "source": [
    "print('the RMSE is: ',metrics.mean_squared_error(y_test,y_LR, squared=False))\n",
    "print('the MSE is', metrics.mean_squared_error(y_test, y_LR))\n",
    "print('the R_score is ', metrics.r2_score(y_test,y_LR))\n"
   ]
  },
  {
   "cell_type": "code",
   "execution_count": 345,
   "metadata": {},
   "outputs": [],
   "source": [
    "y_test_submission=LR.predict(X_test_submission)"
   ]
  },
  {
   "cell_type": "code",
   "execution_count": 346,
   "metadata": {},
   "outputs": [],
   "source": [
    "test['arr_delay']=y_test_submission\n"
   ]
  },
  {
   "cell_type": "code",
   "execution_count": 348,
   "metadata": {},
   "outputs": [],
   "source": [
    "test.to_csv('test_data_submission.csv')"
   ]
  },
  {
   "source": [
    "#### Note: using the Ridge and Lasso simple regularization to tune the model, did not really improve"
   ],
   "cell_type": "markdown",
   "metadata": {}
  },
  {
   "cell_type": "code",
   "execution_count": 370,
   "metadata": {},
   "outputs": [
    {
     "output_type": "stream",
     "name": "stdout",
     "text": [
      "28.888658763707245\n"
     ]
    }
   ],
   "source": [
    "from sklearn.linear_model import Lasso, Ridge \n",
    "X_train, X_test, y_train, y_test=train_test_split(X, y, test_size=0.3, random_state=0)\n",
    "lasso=Lasso(alpha=0.1)\n",
    "lasso.fit(X_train, y_train)\n",
    "y_lasso=lasso.predict(X_test)\n",
    "print(np.sqrt(metrics.mean_squared_error(y_test,y_lasso))) \n"
   ]
  },
  {
   "cell_type": "code",
   "execution_count": 379,
   "metadata": {},
   "outputs": [
    {
     "output_type": "display_data",
     "data": {
      "text/plain": "<Figure size 432x288 with 1 Axes>",
      "image/svg+xml": "<?xml version=\"1.0\" encoding=\"utf-8\" standalone=\"no\"?>\r\n<!DOCTYPE svg PUBLIC \"-//W3C//DTD SVG 1.1//EN\"\r\n  \"http://www.w3.org/Graphics/SVG/1.1/DTD/svg11.dtd\">\r\n<!-- Created with matplotlib (https://matplotlib.org/) -->\r\n<svg height=\"337.960452pt\" version=\"1.1\" viewBox=\"0 0 400.523437 337.960452\" width=\"400.523437pt\" xmlns=\"http://www.w3.org/2000/svg\" xmlns:xlink=\"http://www.w3.org/1999/xlink\">\r\n <defs>\r\n  <style type=\"text/css\">\r\n*{stroke-linecap:butt;stroke-linejoin:round;}\r\n  </style>\r\n </defs>\r\n <g id=\"figure_1\">\r\n  <g id=\"patch_1\">\r\n   <path d=\"M 0 337.960452 \r\nL 400.523437 337.960452 \r\nL 400.523437 0 \r\nL 0 0 \r\nz\r\n\" style=\"fill:none;\"/>\r\n  </g>\r\n  <g id=\"axes_1\">\r\n   <g id=\"patch_2\">\r\n    <path d=\"M 58.523438 227.301077 \r\nL 393.323438 227.301077 \r\nL 393.323438 9.861077 \r\nL 58.523438 9.861077 \r\nz\r\n\" style=\"fill:#ffffff;\"/>\r\n   </g>\r\n   <g id=\"PathCollection_1\">\r\n    <defs>\r\n     <path d=\"M 0 3 \r\nC 0.795609 3 1.55874 2.683901 2.12132 2.12132 \r\nC 2.683901 1.55874 3 0.795609 3 0 \r\nC 3 -0.795609 2.683901 -1.55874 2.12132 -2.12132 \r\nC 1.55874 -2.683901 0.795609 -3 0 -3 \r\nC -0.795609 -3 -1.55874 -2.683901 -2.12132 -2.12132 \r\nC -2.683901 -1.55874 -3 -0.795609 -3 0 \r\nC -3 0.795609 -2.683901 1.55874 -2.12132 2.12132 \r\nC -1.55874 2.683901 -0.795609 3 0 3 \r\nz\r\n\" id=\"m24d9ee2216\" style=\"stroke:#1f77b4;\"/>\r\n    </defs>\r\n    <g clip-path=\"url(#p01c7c8dc44)\">\r\n     <use style=\"fill:#1f77b4;stroke:#1f77b4;\" x=\"73.741619\" xlink:href=\"#m24d9ee2216\" y=\"135.716082\"/>\r\n     <use style=\"fill:#1f77b4;stroke:#1f77b4;\" x=\"97.154207\" xlink:href=\"#m24d9ee2216\" y=\"135.755396\"/>\r\n     <use style=\"fill:#1f77b4;stroke:#1f77b4;\" x=\"120.566794\" xlink:href=\"#m24d9ee2216\" y=\"135.653784\"/>\r\n     <use style=\"fill:#1f77b4;stroke:#1f77b4;\" x=\"143.979382\" xlink:href=\"#m24d9ee2216\" y=\"135.935936\"/>\r\n     <use style=\"fill:#1f77b4;stroke:#1f77b4;\" x=\"167.391969\" xlink:href=\"#m24d9ee2216\" y=\"107.304595\"/>\r\n     <use style=\"fill:#1f77b4;stroke:#1f77b4;\" x=\"190.804556\" xlink:href=\"#m24d9ee2216\" y=\"19.744713\"/>\r\n     <use style=\"fill:#1f77b4;stroke:#1f77b4;\" x=\"214.217144\" xlink:href=\"#m24d9ee2216\" y=\"142.021371\"/>\r\n     <use style=\"fill:#1f77b4;stroke:#1f77b4;\" x=\"237.629731\" xlink:href=\"#m24d9ee2216\" y=\"130.889088\"/>\r\n     <use style=\"fill:#1f77b4;stroke:#1f77b4;\" x=\"261.042319\" xlink:href=\"#m24d9ee2216\" y=\"135.716082\"/>\r\n     <use style=\"fill:#1f77b4;stroke:#1f77b4;\" x=\"284.454906\" xlink:href=\"#m24d9ee2216\" y=\"135.716082\"/>\r\n     <use style=\"fill:#1f77b4;stroke:#1f77b4;\" x=\"307.867493\" xlink:href=\"#m24d9ee2216\" y=\"135.716082\"/>\r\n     <use style=\"fill:#1f77b4;stroke:#1f77b4;\" x=\"331.280081\" xlink:href=\"#m24d9ee2216\" y=\"135.716082\"/>\r\n     <use style=\"fill:#1f77b4;stroke:#1f77b4;\" x=\"354.692668\" xlink:href=\"#m24d9ee2216\" y=\"217.417441\"/>\r\n     <use style=\"fill:#1f77b4;stroke:#1f77b4;\" x=\"378.105256\" xlink:href=\"#m24d9ee2216\" y=\"135.716082\"/>\r\n    </g>\r\n   </g>\r\n   <g id=\"matplotlib.axis_1\">\r\n    <g id=\"xtick_1\">\r\n     <g id=\"line2d_1\">\r\n      <defs>\r\n       <path d=\"M 0 0 \r\nL 0 3.5 \r\n\" id=\"m6a3a98d8c3\" style=\"stroke:#000000;stroke-width:0.8;\"/>\r\n      </defs>\r\n      <g>\r\n       <use style=\"stroke:#000000;stroke-width:0.8;\" x=\"73.741619\" xlink:href=\"#m6a3a98d8c3\" y=\"227.301077\"/>\r\n      </g>\r\n     </g>\r\n     <g id=\"text_1\">\r\n      <!-- mkt_unique_carrier -->\r\n      <defs>\r\n       <path d=\"M 52 44.1875 \r\nQ 55.375 50.25 60.0625 53.125 \r\nQ 64.75 56 71.09375 56 \r\nQ 79.640625 56 84.28125 50.015625 \r\nQ 88.921875 44.046875 88.921875 33.015625 \r\nL 88.921875 0 \r\nL 79.890625 0 \r\nL 79.890625 32.71875 \r\nQ 79.890625 40.578125 77.09375 44.375 \r\nQ 74.3125 48.1875 68.609375 48.1875 \r\nQ 61.625 48.1875 57.5625 43.546875 \r\nQ 53.515625 38.921875 53.515625 30.90625 \r\nL 53.515625 0 \r\nL 44.484375 0 \r\nL 44.484375 32.71875 \r\nQ 44.484375 40.625 41.703125 44.40625 \r\nQ 38.921875 48.1875 33.109375 48.1875 \r\nQ 26.21875 48.1875 22.15625 43.53125 \r\nQ 18.109375 38.875 18.109375 30.90625 \r\nL 18.109375 0 \r\nL 9.078125 0 \r\nL 9.078125 54.6875 \r\nL 18.109375 54.6875 \r\nL 18.109375 46.1875 \r\nQ 21.1875 51.21875 25.484375 53.609375 \r\nQ 29.78125 56 35.6875 56 \r\nQ 41.65625 56 45.828125 52.96875 \r\nQ 50 49.953125 52 44.1875 \r\nz\r\n\" id=\"DejaVuSans-109\"/>\r\n       <path d=\"M 9.078125 75.984375 \r\nL 18.109375 75.984375 \r\nL 18.109375 31.109375 \r\nL 44.921875 54.6875 \r\nL 56.390625 54.6875 \r\nL 27.390625 29.109375 \r\nL 57.625 0 \r\nL 45.90625 0 \r\nL 18.109375 26.703125 \r\nL 18.109375 0 \r\nL 9.078125 0 \r\nz\r\n\" id=\"DejaVuSans-107\"/>\r\n       <path d=\"M 18.3125 70.21875 \r\nL 18.3125 54.6875 \r\nL 36.8125 54.6875 \r\nL 36.8125 47.703125 \r\nL 18.3125 47.703125 \r\nL 18.3125 18.015625 \r\nQ 18.3125 11.328125 20.140625 9.421875 \r\nQ 21.96875 7.515625 27.59375 7.515625 \r\nL 36.8125 7.515625 \r\nL 36.8125 0 \r\nL 27.59375 0 \r\nQ 17.1875 0 13.234375 3.875 \r\nQ 9.28125 7.765625 9.28125 18.015625 \r\nL 9.28125 47.703125 \r\nL 2.6875 47.703125 \r\nL 2.6875 54.6875 \r\nL 9.28125 54.6875 \r\nL 9.28125 70.21875 \r\nz\r\n\" id=\"DejaVuSans-116\"/>\r\n       <path d=\"M 50.984375 -16.609375 \r\nL 50.984375 -23.578125 \r\nL -0.984375 -23.578125 \r\nL -0.984375 -16.609375 \r\nz\r\n\" id=\"DejaVuSans-95\"/>\r\n       <path d=\"M 8.5 21.578125 \r\nL 8.5 54.6875 \r\nL 17.484375 54.6875 \r\nL 17.484375 21.921875 \r\nQ 17.484375 14.15625 20.5 10.265625 \r\nQ 23.53125 6.390625 29.59375 6.390625 \r\nQ 36.859375 6.390625 41.078125 11.03125 \r\nQ 45.3125 15.671875 45.3125 23.6875 \r\nL 45.3125 54.6875 \r\nL 54.296875 54.6875 \r\nL 54.296875 0 \r\nL 45.3125 0 \r\nL 45.3125 8.40625 \r\nQ 42.046875 3.421875 37.71875 1 \r\nQ 33.40625 -1.421875 27.6875 -1.421875 \r\nQ 18.265625 -1.421875 13.375 4.4375 \r\nQ 8.5 10.296875 8.5 21.578125 \r\nz\r\nM 31.109375 56 \r\nz\r\n\" id=\"DejaVuSans-117\"/>\r\n       <path d=\"M 54.890625 33.015625 \r\nL 54.890625 0 \r\nL 45.90625 0 \r\nL 45.90625 32.71875 \r\nQ 45.90625 40.484375 42.875 44.328125 \r\nQ 39.84375 48.1875 33.796875 48.1875 \r\nQ 26.515625 48.1875 22.3125 43.546875 \r\nQ 18.109375 38.921875 18.109375 30.90625 \r\nL 18.109375 0 \r\nL 9.078125 0 \r\nL 9.078125 54.6875 \r\nL 18.109375 54.6875 \r\nL 18.109375 46.1875 \r\nQ 21.34375 51.125 25.703125 53.5625 \r\nQ 30.078125 56 35.796875 56 \r\nQ 45.21875 56 50.046875 50.171875 \r\nQ 54.890625 44.34375 54.890625 33.015625 \r\nz\r\n\" id=\"DejaVuSans-110\"/>\r\n       <path d=\"M 9.421875 54.6875 \r\nL 18.40625 54.6875 \r\nL 18.40625 0 \r\nL 9.421875 0 \r\nz\r\nM 9.421875 75.984375 \r\nL 18.40625 75.984375 \r\nL 18.40625 64.59375 \r\nL 9.421875 64.59375 \r\nz\r\n\" id=\"DejaVuSans-105\"/>\r\n       <path d=\"M 14.796875 27.296875 \r\nQ 14.796875 17.390625 18.875 11.75 \r\nQ 22.953125 6.109375 30.078125 6.109375 \r\nQ 37.203125 6.109375 41.296875 11.75 \r\nQ 45.40625 17.390625 45.40625 27.296875 \r\nQ 45.40625 37.203125 41.296875 42.84375 \r\nQ 37.203125 48.484375 30.078125 48.484375 \r\nQ 22.953125 48.484375 18.875 42.84375 \r\nQ 14.796875 37.203125 14.796875 27.296875 \r\nz\r\nM 45.40625 8.203125 \r\nQ 42.578125 3.328125 38.25 0.953125 \r\nQ 33.9375 -1.421875 27.875 -1.421875 \r\nQ 17.96875 -1.421875 11.734375 6.484375 \r\nQ 5.515625 14.40625 5.515625 27.296875 \r\nQ 5.515625 40.1875 11.734375 48.09375 \r\nQ 17.96875 56 27.875 56 \r\nQ 33.9375 56 38.25 53.625 \r\nQ 42.578125 51.265625 45.40625 46.390625 \r\nL 45.40625 54.6875 \r\nL 54.390625 54.6875 \r\nL 54.390625 -20.796875 \r\nL 45.40625 -20.796875 \r\nz\r\n\" id=\"DejaVuSans-113\"/>\r\n       <path d=\"M 56.203125 29.59375 \r\nL 56.203125 25.203125 \r\nL 14.890625 25.203125 \r\nQ 15.484375 15.921875 20.484375 11.0625 \r\nQ 25.484375 6.203125 34.421875 6.203125 \r\nQ 39.59375 6.203125 44.453125 7.46875 \r\nQ 49.3125 8.734375 54.109375 11.28125 \r\nL 54.109375 2.78125 \r\nQ 49.265625 0.734375 44.1875 -0.34375 \r\nQ 39.109375 -1.421875 33.890625 -1.421875 \r\nQ 20.796875 -1.421875 13.15625 6.1875 \r\nQ 5.515625 13.8125 5.515625 26.8125 \r\nQ 5.515625 40.234375 12.765625 48.109375 \r\nQ 20.015625 56 32.328125 56 \r\nQ 43.359375 56 49.78125 48.890625 \r\nQ 56.203125 41.796875 56.203125 29.59375 \r\nz\r\nM 47.21875 32.234375 \r\nQ 47.125 39.59375 43.09375 43.984375 \r\nQ 39.0625 48.390625 32.421875 48.390625 \r\nQ 24.90625 48.390625 20.390625 44.140625 \r\nQ 15.875 39.890625 15.1875 32.171875 \r\nz\r\n\" id=\"DejaVuSans-101\"/>\r\n       <path d=\"M 48.78125 52.59375 \r\nL 48.78125 44.1875 \r\nQ 44.96875 46.296875 41.140625 47.34375 \r\nQ 37.3125 48.390625 33.40625 48.390625 \r\nQ 24.65625 48.390625 19.8125 42.84375 \r\nQ 14.984375 37.3125 14.984375 27.296875 \r\nQ 14.984375 17.28125 19.8125 11.734375 \r\nQ 24.65625 6.203125 33.40625 6.203125 \r\nQ 37.3125 6.203125 41.140625 7.25 \r\nQ 44.96875 8.296875 48.78125 10.40625 \r\nL 48.78125 2.09375 \r\nQ 45.015625 0.34375 40.984375 -0.53125 \r\nQ 36.96875 -1.421875 32.421875 -1.421875 \r\nQ 20.0625 -1.421875 12.78125 6.34375 \r\nQ 5.515625 14.109375 5.515625 27.296875 \r\nQ 5.515625 40.671875 12.859375 48.328125 \r\nQ 20.21875 56 33.015625 56 \r\nQ 37.15625 56 41.109375 55.140625 \r\nQ 45.0625 54.296875 48.78125 52.59375 \r\nz\r\n\" id=\"DejaVuSans-99\"/>\r\n       <path d=\"M 34.28125 27.484375 \r\nQ 23.390625 27.484375 19.1875 25 \r\nQ 14.984375 22.515625 14.984375 16.5 \r\nQ 14.984375 11.71875 18.140625 8.90625 \r\nQ 21.296875 6.109375 26.703125 6.109375 \r\nQ 34.1875 6.109375 38.703125 11.40625 \r\nQ 43.21875 16.703125 43.21875 25.484375 \r\nL 43.21875 27.484375 \r\nz\r\nM 52.203125 31.203125 \r\nL 52.203125 0 \r\nL 43.21875 0 \r\nL 43.21875 8.296875 \r\nQ 40.140625 3.328125 35.546875 0.953125 \r\nQ 30.953125 -1.421875 24.3125 -1.421875 \r\nQ 15.921875 -1.421875 10.953125 3.296875 \r\nQ 6 8.015625 6 15.921875 \r\nQ 6 25.140625 12.171875 29.828125 \r\nQ 18.359375 34.515625 30.609375 34.515625 \r\nL 43.21875 34.515625 \r\nL 43.21875 35.40625 \r\nQ 43.21875 41.609375 39.140625 45 \r\nQ 35.0625 48.390625 27.6875 48.390625 \r\nQ 23 48.390625 18.546875 47.265625 \r\nQ 14.109375 46.140625 10.015625 43.890625 \r\nL 10.015625 52.203125 \r\nQ 14.9375 54.109375 19.578125 55.046875 \r\nQ 24.21875 56 28.609375 56 \r\nQ 40.484375 56 46.34375 49.84375 \r\nQ 52.203125 43.703125 52.203125 31.203125 \r\nz\r\n\" id=\"DejaVuSans-97\"/>\r\n       <path d=\"M 41.109375 46.296875 \r\nQ 39.59375 47.171875 37.8125 47.578125 \r\nQ 36.03125 48 33.890625 48 \r\nQ 26.265625 48 22.1875 43.046875 \r\nQ 18.109375 38.09375 18.109375 28.8125 \r\nL 18.109375 0 \r\nL 9.078125 0 \r\nL 9.078125 54.6875 \r\nL 18.109375 54.6875 \r\nL 18.109375 46.1875 \r\nQ 20.953125 51.171875 25.484375 53.578125 \r\nQ 30.03125 56 36.53125 56 \r\nQ 37.453125 56 38.578125 55.875 \r\nQ 39.703125 55.765625 41.0625 55.515625 \r\nz\r\n\" id=\"DejaVuSans-114\"/>\r\n      </defs>\r\n      <g transform=\"translate(76.361932 330.760452)rotate(-90)scale(0.1 -0.1)\">\r\n       <use xlink:href=\"#DejaVuSans-109\"/>\r\n       <use x=\"97.412109\" xlink:href=\"#DejaVuSans-107\"/>\r\n       <use x=\"155.322266\" xlink:href=\"#DejaVuSans-116\"/>\r\n       <use x=\"194.53125\" xlink:href=\"#DejaVuSans-95\"/>\r\n       <use x=\"244.53125\" xlink:href=\"#DejaVuSans-117\"/>\r\n       <use x=\"307.910156\" xlink:href=\"#DejaVuSans-110\"/>\r\n       <use x=\"371.289062\" xlink:href=\"#DejaVuSans-105\"/>\r\n       <use x=\"399.072266\" xlink:href=\"#DejaVuSans-113\"/>\r\n       <use x=\"462.548828\" xlink:href=\"#DejaVuSans-117\"/>\r\n       <use x=\"525.927734\" xlink:href=\"#DejaVuSans-101\"/>\r\n       <use x=\"587.451172\" xlink:href=\"#DejaVuSans-95\"/>\r\n       <use x=\"637.451172\" xlink:href=\"#DejaVuSans-99\"/>\r\n       <use x=\"692.431641\" xlink:href=\"#DejaVuSans-97\"/>\r\n       <use x=\"753.710938\" xlink:href=\"#DejaVuSans-114\"/>\r\n       <use x=\"793.074219\" xlink:href=\"#DejaVuSans-114\"/>\r\n       <use x=\"834.1875\" xlink:href=\"#DejaVuSans-105\"/>\r\n       <use x=\"861.970703\" xlink:href=\"#DejaVuSans-101\"/>\r\n       <use x=\"923.494141\" xlink:href=\"#DejaVuSans-114\"/>\r\n      </g>\r\n     </g>\r\n    </g>\r\n    <g id=\"xtick_2\">\r\n     <g id=\"line2d_2\">\r\n      <g>\r\n       <use style=\"stroke:#000000;stroke-width:0.8;\" x=\"97.154207\" xlink:href=\"#m6a3a98d8c3\" y=\"227.301077\"/>\r\n      </g>\r\n     </g>\r\n     <g id=\"text_2\">\r\n      <!-- mkt_carrier_fl_num -->\r\n      <defs>\r\n       <path d=\"M 37.109375 75.984375 \r\nL 37.109375 68.5 \r\nL 28.515625 68.5 \r\nQ 23.6875 68.5 21.796875 66.546875 \r\nQ 19.921875 64.59375 19.921875 59.515625 \r\nL 19.921875 54.6875 \r\nL 34.71875 54.6875 \r\nL 34.71875 47.703125 \r\nL 19.921875 47.703125 \r\nL 19.921875 0 \r\nL 10.890625 0 \r\nL 10.890625 47.703125 \r\nL 2.296875 47.703125 \r\nL 2.296875 54.6875 \r\nL 10.890625 54.6875 \r\nL 10.890625 58.5 \r\nQ 10.890625 67.625 15.140625 71.796875 \r\nQ 19.390625 75.984375 28.609375 75.984375 \r\nz\r\n\" id=\"DejaVuSans-102\"/>\r\n       <path d=\"M 9.421875 75.984375 \r\nL 18.40625 75.984375 \r\nL 18.40625 0 \r\nL 9.421875 0 \r\nz\r\n\" id=\"DejaVuSans-108\"/>\r\n      </defs>\r\n      <g transform=\"translate(99.774519 330.182327)rotate(-90)scale(0.1 -0.1)\">\r\n       <use xlink:href=\"#DejaVuSans-109\"/>\r\n       <use x=\"97.412109\" xlink:href=\"#DejaVuSans-107\"/>\r\n       <use x=\"155.322266\" xlink:href=\"#DejaVuSans-116\"/>\r\n       <use x=\"194.53125\" xlink:href=\"#DejaVuSans-95\"/>\r\n       <use x=\"244.53125\" xlink:href=\"#DejaVuSans-99\"/>\r\n       <use x=\"299.511719\" xlink:href=\"#DejaVuSans-97\"/>\r\n       <use x=\"360.791016\" xlink:href=\"#DejaVuSans-114\"/>\r\n       <use x=\"400.154297\" xlink:href=\"#DejaVuSans-114\"/>\r\n       <use x=\"441.267578\" xlink:href=\"#DejaVuSans-105\"/>\r\n       <use x=\"469.050781\" xlink:href=\"#DejaVuSans-101\"/>\r\n       <use x=\"530.574219\" xlink:href=\"#DejaVuSans-114\"/>\r\n       <use x=\"571.6875\" xlink:href=\"#DejaVuSans-95\"/>\r\n       <use x=\"621.6875\" xlink:href=\"#DejaVuSans-102\"/>\r\n       <use x=\"656.892578\" xlink:href=\"#DejaVuSans-108\"/>\r\n       <use x=\"684.675781\" xlink:href=\"#DejaVuSans-95\"/>\r\n       <use x=\"734.675781\" xlink:href=\"#DejaVuSans-110\"/>\r\n       <use x=\"798.054688\" xlink:href=\"#DejaVuSans-117\"/>\r\n       <use x=\"861.433594\" xlink:href=\"#DejaVuSans-109\"/>\r\n      </g>\r\n     </g>\r\n    </g>\r\n    <g id=\"xtick_3\">\r\n     <g id=\"line2d_3\">\r\n      <g>\r\n       <use style=\"stroke:#000000;stroke-width:0.8;\" x=\"120.566794\" xlink:href=\"#m6a3a98d8c3\" y=\"227.301077\"/>\r\n      </g>\r\n     </g>\r\n     <g id=\"text_3\">\r\n      <!-- origin_airport_id -->\r\n      <defs>\r\n       <path d=\"M 30.609375 48.390625 \r\nQ 23.390625 48.390625 19.1875 42.75 \r\nQ 14.984375 37.109375 14.984375 27.296875 \r\nQ 14.984375 17.484375 19.15625 11.84375 \r\nQ 23.34375 6.203125 30.609375 6.203125 \r\nQ 37.796875 6.203125 41.984375 11.859375 \r\nQ 46.1875 17.53125 46.1875 27.296875 \r\nQ 46.1875 37.015625 41.984375 42.703125 \r\nQ 37.796875 48.390625 30.609375 48.390625 \r\nz\r\nM 30.609375 56 \r\nQ 42.328125 56 49.015625 48.375 \r\nQ 55.71875 40.765625 55.71875 27.296875 \r\nQ 55.71875 13.875 49.015625 6.21875 \r\nQ 42.328125 -1.421875 30.609375 -1.421875 \r\nQ 18.84375 -1.421875 12.171875 6.21875 \r\nQ 5.515625 13.875 5.515625 27.296875 \r\nQ 5.515625 40.765625 12.171875 48.375 \r\nQ 18.84375 56 30.609375 56 \r\nz\r\n\" id=\"DejaVuSans-111\"/>\r\n       <path d=\"M 45.40625 27.984375 \r\nQ 45.40625 37.75 41.375 43.109375 \r\nQ 37.359375 48.484375 30.078125 48.484375 \r\nQ 22.859375 48.484375 18.828125 43.109375 \r\nQ 14.796875 37.75 14.796875 27.984375 \r\nQ 14.796875 18.265625 18.828125 12.890625 \r\nQ 22.859375 7.515625 30.078125 7.515625 \r\nQ 37.359375 7.515625 41.375 12.890625 \r\nQ 45.40625 18.265625 45.40625 27.984375 \r\nz\r\nM 54.390625 6.78125 \r\nQ 54.390625 -7.171875 48.1875 -13.984375 \r\nQ 42 -20.796875 29.203125 -20.796875 \r\nQ 24.46875 -20.796875 20.265625 -20.09375 \r\nQ 16.0625 -19.390625 12.109375 -17.921875 \r\nL 12.109375 -9.1875 \r\nQ 16.0625 -11.328125 19.921875 -12.34375 \r\nQ 23.78125 -13.375 27.78125 -13.375 \r\nQ 36.625 -13.375 41.015625 -8.765625 \r\nQ 45.40625 -4.15625 45.40625 5.171875 \r\nL 45.40625 9.625 \r\nQ 42.625 4.78125 38.28125 2.390625 \r\nQ 33.9375 0 27.875 0 \r\nQ 17.828125 0 11.671875 7.65625 \r\nQ 5.515625 15.328125 5.515625 27.984375 \r\nQ 5.515625 40.671875 11.671875 48.328125 \r\nQ 17.828125 56 27.875 56 \r\nQ 33.9375 56 38.28125 53.609375 \r\nQ 42.625 51.21875 45.40625 46.390625 \r\nL 45.40625 54.6875 \r\nL 54.390625 54.6875 \r\nz\r\n\" id=\"DejaVuSans-103\"/>\r\n       <path d=\"M 18.109375 8.203125 \r\nL 18.109375 -20.796875 \r\nL 9.078125 -20.796875 \r\nL 9.078125 54.6875 \r\nL 18.109375 54.6875 \r\nL 18.109375 46.390625 \r\nQ 20.953125 51.265625 25.265625 53.625 \r\nQ 29.59375 56 35.59375 56 \r\nQ 45.5625 56 51.78125 48.09375 \r\nQ 58.015625 40.1875 58.015625 27.296875 \r\nQ 58.015625 14.40625 51.78125 6.484375 \r\nQ 45.5625 -1.421875 35.59375 -1.421875 \r\nQ 29.59375 -1.421875 25.265625 0.953125 \r\nQ 20.953125 3.328125 18.109375 8.203125 \r\nz\r\nM 48.6875 27.296875 \r\nQ 48.6875 37.203125 44.609375 42.84375 \r\nQ 40.53125 48.484375 33.40625 48.484375 \r\nQ 26.265625 48.484375 22.1875 42.84375 \r\nQ 18.109375 37.203125 18.109375 27.296875 \r\nQ 18.109375 17.390625 22.1875 11.75 \r\nQ 26.265625 6.109375 33.40625 6.109375 \r\nQ 40.53125 6.109375 44.609375 11.75 \r\nQ 48.6875 17.390625 48.6875 27.296875 \r\nz\r\n\" id=\"DejaVuSans-112\"/>\r\n       <path d=\"M 45.40625 46.390625 \r\nL 45.40625 75.984375 \r\nL 54.390625 75.984375 \r\nL 54.390625 0 \r\nL 45.40625 0 \r\nL 45.40625 8.203125 \r\nQ 42.578125 3.328125 38.25 0.953125 \r\nQ 33.9375 -1.421875 27.875 -1.421875 \r\nQ 17.96875 -1.421875 11.734375 6.484375 \r\nQ 5.515625 14.40625 5.515625 27.296875 \r\nQ 5.515625 40.1875 11.734375 48.09375 \r\nQ 17.96875 56 27.875 56 \r\nQ 33.9375 56 38.25 53.625 \r\nQ 42.578125 51.265625 45.40625 46.390625 \r\nz\r\nM 14.796875 27.296875 \r\nQ 14.796875 17.390625 18.875 11.75 \r\nQ 22.953125 6.109375 30.078125 6.109375 \r\nQ 37.203125 6.109375 41.296875 11.75 \r\nQ 45.40625 17.390625 45.40625 27.296875 \r\nQ 45.40625 37.203125 41.296875 42.84375 \r\nQ 37.203125 48.484375 30.078125 48.484375 \r\nQ 22.953125 48.484375 18.875 42.84375 \r\nQ 14.796875 37.203125 14.796875 27.296875 \r\nz\r\n\" id=\"DejaVuSans-100\"/>\r\n      </defs>\r\n      <g transform=\"translate(123.187107 315.415139)rotate(-90)scale(0.1 -0.1)\">\r\n       <use xlink:href=\"#DejaVuSans-111\"/>\r\n       <use x=\"61.181641\" xlink:href=\"#DejaVuSans-114\"/>\r\n       <use x=\"102.294922\" xlink:href=\"#DejaVuSans-105\"/>\r\n       <use x=\"130.078125\" xlink:href=\"#DejaVuSans-103\"/>\r\n       <use x=\"193.554688\" xlink:href=\"#DejaVuSans-105\"/>\r\n       <use x=\"221.337891\" xlink:href=\"#DejaVuSans-110\"/>\r\n       <use x=\"284.716797\" xlink:href=\"#DejaVuSans-95\"/>\r\n       <use x=\"334.716797\" xlink:href=\"#DejaVuSans-97\"/>\r\n       <use x=\"395.996094\" xlink:href=\"#DejaVuSans-105\"/>\r\n       <use x=\"423.779297\" xlink:href=\"#DejaVuSans-114\"/>\r\n       <use x=\"464.892578\" xlink:href=\"#DejaVuSans-112\"/>\r\n       <use x=\"528.369141\" xlink:href=\"#DejaVuSans-111\"/>\r\n       <use x=\"589.550781\" xlink:href=\"#DejaVuSans-114\"/>\r\n       <use x=\"630.664062\" xlink:href=\"#DejaVuSans-116\"/>\r\n       <use x=\"669.873047\" xlink:href=\"#DejaVuSans-95\"/>\r\n       <use x=\"719.873047\" xlink:href=\"#DejaVuSans-105\"/>\r\n       <use x=\"747.65625\" xlink:href=\"#DejaVuSans-100\"/>\r\n      </g>\r\n     </g>\r\n    </g>\r\n    <g id=\"xtick_4\">\r\n     <g id=\"line2d_4\">\r\n      <g>\r\n       <use style=\"stroke:#000000;stroke-width:0.8;\" x=\"143.979382\" xlink:href=\"#m6a3a98d8c3\" y=\"227.301077\"/>\r\n      </g>\r\n     </g>\r\n     <g id=\"text_4\">\r\n      <!-- dest_airport_id -->\r\n      <defs>\r\n       <path d=\"M 44.28125 53.078125 \r\nL 44.28125 44.578125 \r\nQ 40.484375 46.53125 36.375 47.5 \r\nQ 32.28125 48.484375 27.875 48.484375 \r\nQ 21.1875 48.484375 17.84375 46.4375 \r\nQ 14.5 44.390625 14.5 40.28125 \r\nQ 14.5 37.15625 16.890625 35.375 \r\nQ 19.28125 33.59375 26.515625 31.984375 \r\nL 29.59375 31.296875 \r\nQ 39.15625 29.25 43.1875 25.515625 \r\nQ 47.21875 21.78125 47.21875 15.09375 \r\nQ 47.21875 7.46875 41.1875 3.015625 \r\nQ 35.15625 -1.421875 24.609375 -1.421875 \r\nQ 20.21875 -1.421875 15.453125 -0.5625 \r\nQ 10.6875 0.296875 5.421875 2 \r\nL 5.421875 11.28125 \r\nQ 10.40625 8.6875 15.234375 7.390625 \r\nQ 20.0625 6.109375 24.8125 6.109375 \r\nQ 31.15625 6.109375 34.5625 8.28125 \r\nQ 37.984375 10.453125 37.984375 14.40625 \r\nQ 37.984375 18.0625 35.515625 20.015625 \r\nQ 33.0625 21.96875 24.703125 23.78125 \r\nL 21.578125 24.515625 \r\nQ 13.234375 26.265625 9.515625 29.90625 \r\nQ 5.8125 33.546875 5.8125 39.890625 \r\nQ 5.8125 47.609375 11.28125 51.796875 \r\nQ 16.75 56 26.8125 56 \r\nQ 31.78125 56 36.171875 55.265625 \r\nQ 40.578125 54.546875 44.28125 53.078125 \r\nz\r\n\" id=\"DejaVuSans-115\"/>\r\n      </defs>\r\n      <g transform=\"translate(146.599694 308.574514)rotate(-90)scale(0.1 -0.1)\">\r\n       <use xlink:href=\"#DejaVuSans-100\"/>\r\n       <use x=\"63.476562\" xlink:href=\"#DejaVuSans-101\"/>\r\n       <use x=\"125\" xlink:href=\"#DejaVuSans-115\"/>\r\n       <use x=\"177.099609\" xlink:href=\"#DejaVuSans-116\"/>\r\n       <use x=\"216.308594\" xlink:href=\"#DejaVuSans-95\"/>\r\n       <use x=\"266.308594\" xlink:href=\"#DejaVuSans-97\"/>\r\n       <use x=\"327.587891\" xlink:href=\"#DejaVuSans-105\"/>\r\n       <use x=\"355.371094\" xlink:href=\"#DejaVuSans-114\"/>\r\n       <use x=\"396.484375\" xlink:href=\"#DejaVuSans-112\"/>\r\n       <use x=\"459.960938\" xlink:href=\"#DejaVuSans-111\"/>\r\n       <use x=\"521.142578\" xlink:href=\"#DejaVuSans-114\"/>\r\n       <use x=\"562.255859\" xlink:href=\"#DejaVuSans-116\"/>\r\n       <use x=\"601.464844\" xlink:href=\"#DejaVuSans-95\"/>\r\n       <use x=\"651.464844\" xlink:href=\"#DejaVuSans-105\"/>\r\n       <use x=\"679.248047\" xlink:href=\"#DejaVuSans-100\"/>\r\n      </g>\r\n     </g>\r\n    </g>\r\n    <g id=\"xtick_5\">\r\n     <g id=\"line2d_5\">\r\n      <g>\r\n       <use style=\"stroke:#000000;stroke-width:0.8;\" x=\"167.391969\" xlink:href=\"#m6a3a98d8c3\" y=\"227.301077\"/>\r\n      </g>\r\n     </g>\r\n     <g id=\"text_5\">\r\n      <!-- fl_month -->\r\n      <defs>\r\n       <path d=\"M 54.890625 33.015625 \r\nL 54.890625 0 \r\nL 45.90625 0 \r\nL 45.90625 32.71875 \r\nQ 45.90625 40.484375 42.875 44.328125 \r\nQ 39.84375 48.1875 33.796875 48.1875 \r\nQ 26.515625 48.1875 22.3125 43.546875 \r\nQ 18.109375 38.921875 18.109375 30.90625 \r\nL 18.109375 0 \r\nL 9.078125 0 \r\nL 9.078125 75.984375 \r\nL 18.109375 75.984375 \r\nL 18.109375 46.1875 \r\nQ 21.34375 51.125 25.703125 53.5625 \r\nQ 30.078125 56 35.796875 56 \r\nQ 45.21875 56 50.046875 50.171875 \r\nQ 54.890625 44.34375 54.890625 33.015625 \r\nz\r\n\" id=\"DejaVuSans-104\"/>\r\n      </defs>\r\n      <g transform=\"translate(170.012281 278.054202)rotate(-90)scale(0.1 -0.1)\">\r\n       <use xlink:href=\"#DejaVuSans-102\"/>\r\n       <use x=\"35.205078\" xlink:href=\"#DejaVuSans-108\"/>\r\n       <use x=\"62.988281\" xlink:href=\"#DejaVuSans-95\"/>\r\n       <use x=\"112.988281\" xlink:href=\"#DejaVuSans-109\"/>\r\n       <use x=\"210.400391\" xlink:href=\"#DejaVuSans-111\"/>\r\n       <use x=\"271.582031\" xlink:href=\"#DejaVuSans-110\"/>\r\n       <use x=\"334.960938\" xlink:href=\"#DejaVuSans-116\"/>\r\n       <use x=\"374.169922\" xlink:href=\"#DejaVuSans-104\"/>\r\n      </g>\r\n     </g>\r\n    </g>\r\n    <g id=\"xtick_6\">\r\n     <g id=\"line2d_6\">\r\n      <g>\r\n       <use style=\"stroke:#000000;stroke-width:0.8;\" x=\"190.804556\" xlink:href=\"#m6a3a98d8c3\" y=\"227.301077\"/>\r\n      </g>\r\n     </g>\r\n     <g id=\"text_6\">\r\n      <!-- fl_day_of_week -->\r\n      <defs>\r\n       <path d=\"M 32.171875 -5.078125 \r\nQ 28.375 -14.84375 24.75 -17.8125 \r\nQ 21.140625 -20.796875 15.09375 -20.796875 \r\nL 7.90625 -20.796875 \r\nL 7.90625 -13.28125 \r\nL 13.1875 -13.28125 \r\nQ 16.890625 -13.28125 18.9375 -11.515625 \r\nQ 21 -9.765625 23.484375 -3.21875 \r\nL 25.09375 0.875 \r\nL 2.984375 54.6875 \r\nL 12.5 54.6875 \r\nL 29.59375 11.921875 \r\nL 46.6875 54.6875 \r\nL 56.203125 54.6875 \r\nz\r\n\" id=\"DejaVuSans-121\"/>\r\n       <path d=\"M 4.203125 54.6875 \r\nL 13.1875 54.6875 \r\nL 24.421875 12.015625 \r\nL 35.59375 54.6875 \r\nL 46.1875 54.6875 \r\nL 57.421875 12.015625 \r\nL 68.609375 54.6875 \r\nL 77.59375 54.6875 \r\nL 63.28125 0 \r\nL 52.6875 0 \r\nL 40.921875 44.828125 \r\nL 29.109375 0 \r\nL 18.5 0 \r\nz\r\n\" id=\"DejaVuSans-119\"/>\r\n      </defs>\r\n      <g transform=\"translate(193.424869 309.908889)rotate(-90)scale(0.1 -0.1)\">\r\n       <use xlink:href=\"#DejaVuSans-102\"/>\r\n       <use x=\"35.205078\" xlink:href=\"#DejaVuSans-108\"/>\r\n       <use x=\"62.988281\" xlink:href=\"#DejaVuSans-95\"/>\r\n       <use x=\"112.988281\" xlink:href=\"#DejaVuSans-100\"/>\r\n       <use x=\"176.464844\" xlink:href=\"#DejaVuSans-97\"/>\r\n       <use x=\"237.744141\" xlink:href=\"#DejaVuSans-121\"/>\r\n       <use x=\"296.923828\" xlink:href=\"#DejaVuSans-95\"/>\r\n       <use x=\"346.923828\" xlink:href=\"#DejaVuSans-111\"/>\r\n       <use x=\"408.105469\" xlink:href=\"#DejaVuSans-102\"/>\r\n       <use x=\"443.310547\" xlink:href=\"#DejaVuSans-95\"/>\r\n       <use x=\"493.310547\" xlink:href=\"#DejaVuSans-119\"/>\r\n       <use x=\"575.097656\" xlink:href=\"#DejaVuSans-101\"/>\r\n       <use x=\"636.621094\" xlink:href=\"#DejaVuSans-101\"/>\r\n       <use x=\"698.144531\" xlink:href=\"#DejaVuSans-107\"/>\r\n      </g>\r\n     </g>\r\n    </g>\r\n    <g id=\"xtick_7\">\r\n     <g id=\"line2d_7\">\r\n      <g>\r\n       <use style=\"stroke:#000000;stroke-width:0.8;\" x=\"214.217144\" xlink:href=\"#m6a3a98d8c3\" y=\"227.301077\"/>\r\n      </g>\r\n     </g>\r\n     <g id=\"text_7\">\r\n      <!-- dep_hour -->\r\n      <g transform=\"translate(216.837456 281.055764)rotate(-90)scale(0.1 -0.1)\">\r\n       <use xlink:href=\"#DejaVuSans-100\"/>\r\n       <use x=\"63.476562\" xlink:href=\"#DejaVuSans-101\"/>\r\n       <use x=\"125\" xlink:href=\"#DejaVuSans-112\"/>\r\n       <use x=\"188.476562\" xlink:href=\"#DejaVuSans-95\"/>\r\n       <use x=\"238.476562\" xlink:href=\"#DejaVuSans-104\"/>\r\n       <use x=\"301.855469\" xlink:href=\"#DejaVuSans-111\"/>\r\n       <use x=\"363.037109\" xlink:href=\"#DejaVuSans-117\"/>\r\n       <use x=\"426.416016\" xlink:href=\"#DejaVuSans-114\"/>\r\n      </g>\r\n     </g>\r\n    </g>\r\n    <g id=\"xtick_8\">\r\n     <g id=\"line2d_8\">\r\n      <g>\r\n       <use style=\"stroke:#000000;stroke-width:0.8;\" x=\"237.629731\" xlink:href=\"#m6a3a98d8c3\" y=\"227.301077\"/>\r\n      </g>\r\n     </g>\r\n     <g id=\"text_8\">\r\n      <!-- arr_hour -->\r\n      <g transform=\"translate(240.250044 276.380764)rotate(-90)scale(0.1 -0.1)\">\r\n       <use xlink:href=\"#DejaVuSans-97\"/>\r\n       <use x=\"61.279297\" xlink:href=\"#DejaVuSans-114\"/>\r\n       <use x=\"100.642578\" xlink:href=\"#DejaVuSans-114\"/>\r\n       <use x=\"141.755859\" xlink:href=\"#DejaVuSans-95\"/>\r\n       <use x=\"191.755859\" xlink:href=\"#DejaVuSans-104\"/>\r\n       <use x=\"255.134766\" xlink:href=\"#DejaVuSans-111\"/>\r\n       <use x=\"316.316406\" xlink:href=\"#DejaVuSans-117\"/>\r\n       <use x=\"379.695312\" xlink:href=\"#DejaVuSans-114\"/>\r\n      </g>\r\n     </g>\r\n    </g>\r\n    <g id=\"xtick_9\">\r\n     <g id=\"line2d_9\">\r\n      <g>\r\n       <use style=\"stroke:#000000;stroke-width:0.8;\" x=\"261.042319\" xlink:href=\"#m6a3a98d8c3\" y=\"227.301077\"/>\r\n      </g>\r\n     </g>\r\n     <g id=\"text_9\">\r\n      <!-- crs_elapsed_time -->\r\n      <g transform=\"translate(263.662631 320.830764)rotate(-90)scale(0.1 -0.1)\">\r\n       <use xlink:href=\"#DejaVuSans-99\"/>\r\n       <use x=\"54.980469\" xlink:href=\"#DejaVuSans-114\"/>\r\n       <use x=\"96.09375\" xlink:href=\"#DejaVuSans-115\"/>\r\n       <use x=\"148.193359\" xlink:href=\"#DejaVuSans-95\"/>\r\n       <use x=\"198.193359\" xlink:href=\"#DejaVuSans-101\"/>\r\n       <use x=\"259.716797\" xlink:href=\"#DejaVuSans-108\"/>\r\n       <use x=\"287.5\" xlink:href=\"#DejaVuSans-97\"/>\r\n       <use x=\"348.779297\" xlink:href=\"#DejaVuSans-112\"/>\r\n       <use x=\"412.255859\" xlink:href=\"#DejaVuSans-115\"/>\r\n       <use x=\"464.355469\" xlink:href=\"#DejaVuSans-101\"/>\r\n       <use x=\"525.878906\" xlink:href=\"#DejaVuSans-100\"/>\r\n       <use x=\"589.355469\" xlink:href=\"#DejaVuSans-95\"/>\r\n       <use x=\"639.355469\" xlink:href=\"#DejaVuSans-116\"/>\r\n       <use x=\"678.564453\" xlink:href=\"#DejaVuSans-105\"/>\r\n       <use x=\"706.347656\" xlink:href=\"#DejaVuSans-109\"/>\r\n       <use x=\"803.759766\" xlink:href=\"#DejaVuSans-101\"/>\r\n      </g>\r\n     </g>\r\n    </g>\r\n    <g id=\"xtick_10\">\r\n     <g id=\"line2d_10\">\r\n      <g>\r\n       <use style=\"stroke:#000000;stroke-width:0.8;\" x=\"284.454906\" xlink:href=\"#m6a3a98d8c3\" y=\"227.301077\"/>\r\n      </g>\r\n     </g>\r\n     <g id=\"text_10\">\r\n      <!-- airport_delay_ori -->\r\n      <g transform=\"translate(287.075219 318.151077)rotate(-90)scale(0.1 -0.1)\">\r\n       <use xlink:href=\"#DejaVuSans-97\"/>\r\n       <use x=\"61.279297\" xlink:href=\"#DejaVuSans-105\"/>\r\n       <use x=\"89.0625\" xlink:href=\"#DejaVuSans-114\"/>\r\n       <use x=\"130.175781\" xlink:href=\"#DejaVuSans-112\"/>\r\n       <use x=\"193.652344\" xlink:href=\"#DejaVuSans-111\"/>\r\n       <use x=\"254.833984\" xlink:href=\"#DejaVuSans-114\"/>\r\n       <use x=\"295.947266\" xlink:href=\"#DejaVuSans-116\"/>\r\n       <use x=\"335.15625\" xlink:href=\"#DejaVuSans-95\"/>\r\n       <use x=\"385.15625\" xlink:href=\"#DejaVuSans-100\"/>\r\n       <use x=\"448.632812\" xlink:href=\"#DejaVuSans-101\"/>\r\n       <use x=\"510.15625\" xlink:href=\"#DejaVuSans-108\"/>\r\n       <use x=\"537.939453\" xlink:href=\"#DejaVuSans-97\"/>\r\n       <use x=\"599.21875\" xlink:href=\"#DejaVuSans-121\"/>\r\n       <use x=\"658.398438\" xlink:href=\"#DejaVuSans-95\"/>\r\n       <use x=\"708.398438\" xlink:href=\"#DejaVuSans-111\"/>\r\n       <use x=\"769.580078\" xlink:href=\"#DejaVuSans-114\"/>\r\n       <use x=\"810.693359\" xlink:href=\"#DejaVuSans-105\"/>\r\n      </g>\r\n     </g>\r\n    </g>\r\n    <g id=\"xtick_11\">\r\n     <g id=\"line2d_11\">\r\n      <g>\r\n       <use style=\"stroke:#000000;stroke-width:0.8;\" x=\"307.867493\" xlink:href=\"#m6a3a98d8c3\" y=\"227.301077\"/>\r\n      </g>\r\n     </g>\r\n     <g id=\"text_11\">\r\n      <!-- airport_dest_delay -->\r\n      <g transform=\"translate(310.487806 326.774514)rotate(-90)scale(0.1 -0.1)\">\r\n       <use xlink:href=\"#DejaVuSans-97\"/>\r\n       <use x=\"61.279297\" xlink:href=\"#DejaVuSans-105\"/>\r\n       <use x=\"89.0625\" xlink:href=\"#DejaVuSans-114\"/>\r\n       <use x=\"130.175781\" xlink:href=\"#DejaVuSans-112\"/>\r\n       <use x=\"193.652344\" xlink:href=\"#DejaVuSans-111\"/>\r\n       <use x=\"254.833984\" xlink:href=\"#DejaVuSans-114\"/>\r\n       <use x=\"295.947266\" xlink:href=\"#DejaVuSans-116\"/>\r\n       <use x=\"335.15625\" xlink:href=\"#DejaVuSans-95\"/>\r\n       <use x=\"385.15625\" xlink:href=\"#DejaVuSans-100\"/>\r\n       <use x=\"448.632812\" xlink:href=\"#DejaVuSans-101\"/>\r\n       <use x=\"510.15625\" xlink:href=\"#DejaVuSans-115\"/>\r\n       <use x=\"562.255859\" xlink:href=\"#DejaVuSans-116\"/>\r\n       <use x=\"601.464844\" xlink:href=\"#DejaVuSans-95\"/>\r\n       <use x=\"651.464844\" xlink:href=\"#DejaVuSans-100\"/>\r\n       <use x=\"714.941406\" xlink:href=\"#DejaVuSans-101\"/>\r\n       <use x=\"776.464844\" xlink:href=\"#DejaVuSans-108\"/>\r\n       <use x=\"804.248047\" xlink:href=\"#DejaVuSans-97\"/>\r\n       <use x=\"865.527344\" xlink:href=\"#DejaVuSans-121\"/>\r\n      </g>\r\n     </g>\r\n    </g>\r\n    <g id=\"xtick_12\">\r\n     <g id=\"line2d_12\">\r\n      <g>\r\n       <use style=\"stroke:#000000;stroke-width:0.8;\" x=\"331.280081\" xlink:href=\"#m6a3a98d8c3\" y=\"227.301077\"/>\r\n      </g>\r\n     </g>\r\n     <g id=\"text_12\">\r\n      <!-- dep_delay -->\r\n      <g transform=\"translate(333.900393 285.477639)rotate(-90)scale(0.1 -0.1)\">\r\n       <use xlink:href=\"#DejaVuSans-100\"/>\r\n       <use x=\"63.476562\" xlink:href=\"#DejaVuSans-101\"/>\r\n       <use x=\"125\" xlink:href=\"#DejaVuSans-112\"/>\r\n       <use x=\"188.476562\" xlink:href=\"#DejaVuSans-95\"/>\r\n       <use x=\"238.476562\" xlink:href=\"#DejaVuSans-100\"/>\r\n       <use x=\"301.953125\" xlink:href=\"#DejaVuSans-101\"/>\r\n       <use x=\"363.476562\" xlink:href=\"#DejaVuSans-108\"/>\r\n       <use x=\"391.259766\" xlink:href=\"#DejaVuSans-97\"/>\r\n       <use x=\"452.539062\" xlink:href=\"#DejaVuSans-121\"/>\r\n      </g>\r\n     </g>\r\n    </g>\r\n    <g id=\"xtick_13\">\r\n     <g id=\"line2d_13\">\r\n      <g>\r\n       <use style=\"stroke:#000000;stroke-width:0.8;\" x=\"354.692668\" xlink:href=\"#m6a3a98d8c3\" y=\"227.301077\"/>\r\n      </g>\r\n     </g>\r\n     <g id=\"text_13\">\r\n      <!-- wea_delay_ori -->\r\n      <g transform=\"translate(357.312981 305.094827)rotate(-90)scale(0.1 -0.1)\">\r\n       <use xlink:href=\"#DejaVuSans-119\"/>\r\n       <use x=\"81.787109\" xlink:href=\"#DejaVuSans-101\"/>\r\n       <use x=\"143.310547\" xlink:href=\"#DejaVuSans-97\"/>\r\n       <use x=\"204.589844\" xlink:href=\"#DejaVuSans-95\"/>\r\n       <use x=\"254.589844\" xlink:href=\"#DejaVuSans-100\"/>\r\n       <use x=\"318.066406\" xlink:href=\"#DejaVuSans-101\"/>\r\n       <use x=\"379.589844\" xlink:href=\"#DejaVuSans-108\"/>\r\n       <use x=\"407.373047\" xlink:href=\"#DejaVuSans-97\"/>\r\n       <use x=\"468.652344\" xlink:href=\"#DejaVuSans-121\"/>\r\n       <use x=\"527.832031\" xlink:href=\"#DejaVuSans-95\"/>\r\n       <use x=\"577.832031\" xlink:href=\"#DejaVuSans-111\"/>\r\n       <use x=\"639.013672\" xlink:href=\"#DejaVuSans-114\"/>\r\n       <use x=\"680.126953\" xlink:href=\"#DejaVuSans-105\"/>\r\n      </g>\r\n     </g>\r\n    </g>\r\n    <g id=\"xtick_14\">\r\n     <g id=\"line2d_14\">\r\n      <g>\r\n       <use style=\"stroke:#000000;stroke-width:0.8;\" x=\"378.105256\" xlink:href=\"#m6a3a98d8c3\" y=\"227.301077\"/>\r\n      </g>\r\n     </g>\r\n     <g id=\"text_14\">\r\n      <!-- wea_delay_dest -->\r\n      <g transform=\"translate(380.725568 313.718264)rotate(-90)scale(0.1 -0.1)\">\r\n       <use xlink:href=\"#DejaVuSans-119\"/>\r\n       <use x=\"81.787109\" xlink:href=\"#DejaVuSans-101\"/>\r\n       <use x=\"143.310547\" xlink:href=\"#DejaVuSans-97\"/>\r\n       <use x=\"204.589844\" xlink:href=\"#DejaVuSans-95\"/>\r\n       <use x=\"254.589844\" xlink:href=\"#DejaVuSans-100\"/>\r\n       <use x=\"318.066406\" xlink:href=\"#DejaVuSans-101\"/>\r\n       <use x=\"379.589844\" xlink:href=\"#DejaVuSans-108\"/>\r\n       <use x=\"407.373047\" xlink:href=\"#DejaVuSans-97\"/>\r\n       <use x=\"468.652344\" xlink:href=\"#DejaVuSans-121\"/>\r\n       <use x=\"527.832031\" xlink:href=\"#DejaVuSans-95\"/>\r\n       <use x=\"577.832031\" xlink:href=\"#DejaVuSans-100\"/>\r\n       <use x=\"641.308594\" xlink:href=\"#DejaVuSans-101\"/>\r\n       <use x=\"702.832031\" xlink:href=\"#DejaVuSans-115\"/>\r\n       <use x=\"754.931641\" xlink:href=\"#DejaVuSans-116\"/>\r\n      </g>\r\n     </g>\r\n    </g>\r\n   </g>\r\n   <g id=\"matplotlib.axis_2\">\r\n    <g id=\"ytick_1\">\r\n     <g id=\"line2d_15\">\r\n      <defs>\r\n       <path d=\"M 0 0 \r\nL -3.5 0 \r\n\" id=\"m43c919c1dd\" style=\"stroke:#000000;stroke-width:0.8;\"/>\r\n      </defs>\r\n      <g>\r\n       <use style=\"stroke:#000000;stroke-width:0.8;\" x=\"58.523438\" xlink:href=\"#m43c919c1dd\" y=\"218.860658\"/>\r\n      </g>\r\n     </g>\r\n     <g id=\"text_15\">\r\n      <!-- −0.10 -->\r\n      <defs>\r\n       <path d=\"M 10.59375 35.5 \r\nL 73.1875 35.5 \r\nL 73.1875 27.203125 \r\nL 10.59375 27.203125 \r\nz\r\n\" id=\"DejaVuSans-8722\"/>\r\n       <path d=\"M 31.78125 66.40625 \r\nQ 24.171875 66.40625 20.328125 58.90625 \r\nQ 16.5 51.421875 16.5 36.375 \r\nQ 16.5 21.390625 20.328125 13.890625 \r\nQ 24.171875 6.390625 31.78125 6.390625 \r\nQ 39.453125 6.390625 43.28125 13.890625 \r\nQ 47.125 21.390625 47.125 36.375 \r\nQ 47.125 51.421875 43.28125 58.90625 \r\nQ 39.453125 66.40625 31.78125 66.40625 \r\nz\r\nM 31.78125 74.21875 \r\nQ 44.046875 74.21875 50.515625 64.515625 \r\nQ 56.984375 54.828125 56.984375 36.375 \r\nQ 56.984375 17.96875 50.515625 8.265625 \r\nQ 44.046875 -1.421875 31.78125 -1.421875 \r\nQ 19.53125 -1.421875 13.0625 8.265625 \r\nQ 6.59375 17.96875 6.59375 36.375 \r\nQ 6.59375 54.828125 13.0625 64.515625 \r\nQ 19.53125 74.21875 31.78125 74.21875 \r\nz\r\n\" id=\"DejaVuSans-48\"/>\r\n       <path d=\"M 10.6875 12.40625 \r\nL 21 12.40625 \r\nL 21 0 \r\nL 10.6875 0 \r\nz\r\n\" id=\"DejaVuSans-46\"/>\r\n       <path d=\"M 12.40625 8.296875 \r\nL 28.515625 8.296875 \r\nL 28.515625 63.921875 \r\nL 10.984375 60.40625 \r\nL 10.984375 69.390625 \r\nL 28.421875 72.90625 \r\nL 38.28125 72.90625 \r\nL 38.28125 8.296875 \r\nL 54.390625 8.296875 \r\nL 54.390625 0 \r\nL 12.40625 0 \r\nz\r\n\" id=\"DejaVuSans-49\"/>\r\n      </defs>\r\n      <g transform=\"translate(20.878125 222.659877)scale(0.1 -0.1)\">\r\n       <use xlink:href=\"#DejaVuSans-8722\"/>\r\n       <use x=\"83.789062\" xlink:href=\"#DejaVuSans-48\"/>\r\n       <use x=\"147.412109\" xlink:href=\"#DejaVuSans-46\"/>\r\n       <use x=\"179.199219\" xlink:href=\"#DejaVuSans-49\"/>\r\n       <use x=\"242.822266\" xlink:href=\"#DejaVuSans-48\"/>\r\n      </g>\r\n     </g>\r\n    </g>\r\n    <g id=\"ytick_2\">\r\n     <g id=\"line2d_16\">\r\n      <g>\r\n       <use style=\"stroke:#000000;stroke-width:0.8;\" x=\"58.523438\" xlink:href=\"#m43c919c1dd\" y=\"177.28837\"/>\r\n      </g>\r\n     </g>\r\n     <g id=\"text_16\">\r\n      <!-- −0.05 -->\r\n      <defs>\r\n       <path d=\"M 10.796875 72.90625 \r\nL 49.515625 72.90625 \r\nL 49.515625 64.59375 \r\nL 19.828125 64.59375 \r\nL 19.828125 46.734375 \r\nQ 21.96875 47.46875 24.109375 47.828125 \r\nQ 26.265625 48.1875 28.421875 48.1875 \r\nQ 40.625 48.1875 47.75 41.5 \r\nQ 54.890625 34.8125 54.890625 23.390625 \r\nQ 54.890625 11.625 47.5625 5.09375 \r\nQ 40.234375 -1.421875 26.90625 -1.421875 \r\nQ 22.3125 -1.421875 17.546875 -0.640625 \r\nQ 12.796875 0.140625 7.71875 1.703125 \r\nL 7.71875 11.625 \r\nQ 12.109375 9.234375 16.796875 8.0625 \r\nQ 21.484375 6.890625 26.703125 6.890625 \r\nQ 35.15625 6.890625 40.078125 11.328125 \r\nQ 45.015625 15.765625 45.015625 23.390625 \r\nQ 45.015625 31 40.078125 35.4375 \r\nQ 35.15625 39.890625 26.703125 39.890625 \r\nQ 22.75 39.890625 18.8125 39.015625 \r\nQ 14.890625 38.140625 10.796875 36.28125 \r\nz\r\n\" id=\"DejaVuSans-53\"/>\r\n      </defs>\r\n      <g transform=\"translate(20.878125 181.087589)scale(0.1 -0.1)\">\r\n       <use xlink:href=\"#DejaVuSans-8722\"/>\r\n       <use x=\"83.789062\" xlink:href=\"#DejaVuSans-48\"/>\r\n       <use x=\"147.412109\" xlink:href=\"#DejaVuSans-46\"/>\r\n       <use x=\"179.199219\" xlink:href=\"#DejaVuSans-48\"/>\r\n       <use x=\"242.822266\" xlink:href=\"#DejaVuSans-53\"/>\r\n      </g>\r\n     </g>\r\n    </g>\r\n    <g id=\"ytick_3\">\r\n     <g id=\"line2d_17\">\r\n      <g>\r\n       <use style=\"stroke:#000000;stroke-width:0.8;\" x=\"58.523438\" xlink:href=\"#m43c919c1dd\" y=\"135.716082\"/>\r\n      </g>\r\n     </g>\r\n     <g id=\"text_17\">\r\n      <!-- 0.00 -->\r\n      <g transform=\"translate(29.257813 139.515301)scale(0.1 -0.1)\">\r\n       <use xlink:href=\"#DejaVuSans-48\"/>\r\n       <use x=\"63.623047\" xlink:href=\"#DejaVuSans-46\"/>\r\n       <use x=\"95.410156\" xlink:href=\"#DejaVuSans-48\"/>\r\n       <use x=\"159.033203\" xlink:href=\"#DejaVuSans-48\"/>\r\n      </g>\r\n     </g>\r\n    </g>\r\n    <g id=\"ytick_4\">\r\n     <g id=\"line2d_18\">\r\n      <g>\r\n       <use style=\"stroke:#000000;stroke-width:0.8;\" x=\"58.523438\" xlink:href=\"#m43c919c1dd\" y=\"94.143795\"/>\r\n      </g>\r\n     </g>\r\n     <g id=\"text_18\">\r\n      <!-- 0.05 -->\r\n      <g transform=\"translate(29.257813 97.943013)scale(0.1 -0.1)\">\r\n       <use xlink:href=\"#DejaVuSans-48\"/>\r\n       <use x=\"63.623047\" xlink:href=\"#DejaVuSans-46\"/>\r\n       <use x=\"95.410156\" xlink:href=\"#DejaVuSans-48\"/>\r\n       <use x=\"159.033203\" xlink:href=\"#DejaVuSans-53\"/>\r\n      </g>\r\n     </g>\r\n    </g>\r\n    <g id=\"ytick_5\">\r\n     <g id=\"line2d_19\">\r\n      <g>\r\n       <use style=\"stroke:#000000;stroke-width:0.8;\" x=\"58.523438\" xlink:href=\"#m43c919c1dd\" y=\"52.571507\"/>\r\n      </g>\r\n     </g>\r\n     <g id=\"text_19\">\r\n      <!-- 0.10 -->\r\n      <g transform=\"translate(29.257813 56.370725)scale(0.1 -0.1)\">\r\n       <use xlink:href=\"#DejaVuSans-48\"/>\r\n       <use x=\"63.623047\" xlink:href=\"#DejaVuSans-46\"/>\r\n       <use x=\"95.410156\" xlink:href=\"#DejaVuSans-49\"/>\r\n       <use x=\"159.033203\" xlink:href=\"#DejaVuSans-48\"/>\r\n      </g>\r\n     </g>\r\n    </g>\r\n    <g id=\"ytick_6\">\r\n     <g id=\"line2d_20\">\r\n      <g>\r\n       <use style=\"stroke:#000000;stroke-width:0.8;\" x=\"58.523438\" xlink:href=\"#m43c919c1dd\" y=\"10.999219\"/>\r\n      </g>\r\n     </g>\r\n     <g id=\"text_20\">\r\n      <!-- 0.15 -->\r\n      <g transform=\"translate(29.257813 14.798437)scale(0.1 -0.1)\">\r\n       <use xlink:href=\"#DejaVuSans-48\"/>\r\n       <use x=\"63.623047\" xlink:href=\"#DejaVuSans-46\"/>\r\n       <use x=\"95.410156\" xlink:href=\"#DejaVuSans-49\"/>\r\n       <use x=\"159.033203\" xlink:href=\"#DejaVuSans-53\"/>\r\n      </g>\r\n     </g>\r\n    </g>\r\n    <g id=\"text_21\">\r\n     <!-- Coefficients -->\r\n     <defs>\r\n      <path d=\"M 64.40625 67.28125 \r\nL 64.40625 56.890625 \r\nQ 59.421875 61.53125 53.78125 63.8125 \r\nQ 48.140625 66.109375 41.796875 66.109375 \r\nQ 29.296875 66.109375 22.65625 58.46875 \r\nQ 16.015625 50.828125 16.015625 36.375 \r\nQ 16.015625 21.96875 22.65625 14.328125 \r\nQ 29.296875 6.6875 41.796875 6.6875 \r\nQ 48.140625 6.6875 53.78125 8.984375 \r\nQ 59.421875 11.28125 64.40625 15.921875 \r\nL 64.40625 5.609375 \r\nQ 59.234375 2.09375 53.4375 0.328125 \r\nQ 47.65625 -1.421875 41.21875 -1.421875 \r\nQ 24.65625 -1.421875 15.125 8.703125 \r\nQ 5.609375 18.84375 5.609375 36.375 \r\nQ 5.609375 53.953125 15.125 64.078125 \r\nQ 24.65625 74.21875 41.21875 74.21875 \r\nQ 47.75 74.21875 53.53125 72.484375 \r\nQ 59.328125 70.75 64.40625 67.28125 \r\nz\r\n\" id=\"DejaVuSans-67\"/>\r\n     </defs>\r\n     <g transform=\"translate(14.798438 148.066233)rotate(-90)scale(0.1 -0.1)\">\r\n      <use xlink:href=\"#DejaVuSans-67\"/>\r\n      <use x=\"69.824219\" xlink:href=\"#DejaVuSans-111\"/>\r\n      <use x=\"131.005859\" xlink:href=\"#DejaVuSans-101\"/>\r\n      <use x=\"192.529297\" xlink:href=\"#DejaVuSans-102\"/>\r\n      <use x=\"227.734375\" xlink:href=\"#DejaVuSans-102\"/>\r\n      <use x=\"262.939453\" xlink:href=\"#DejaVuSans-105\"/>\r\n      <use x=\"290.722656\" xlink:href=\"#DejaVuSans-99\"/>\r\n      <use x=\"345.703125\" xlink:href=\"#DejaVuSans-105\"/>\r\n      <use x=\"373.486328\" xlink:href=\"#DejaVuSans-101\"/>\r\n      <use x=\"435.009766\" xlink:href=\"#DejaVuSans-110\"/>\r\n      <use x=\"498.388672\" xlink:href=\"#DejaVuSans-116\"/>\r\n      <use x=\"537.597656\" xlink:href=\"#DejaVuSans-115\"/>\r\n     </g>\r\n    </g>\r\n   </g>\r\n   <g id=\"patch_3\">\r\n    <path d=\"M 58.523438 227.301077 \r\nL 58.523438 9.861077 \r\n\" style=\"fill:none;stroke:#000000;stroke-linecap:square;stroke-linejoin:miter;stroke-width:0.8;\"/>\r\n   </g>\r\n   <g id=\"patch_4\">\r\n    <path d=\"M 393.323438 227.301077 \r\nL 393.323438 9.861077 \r\n\" style=\"fill:none;stroke:#000000;stroke-linecap:square;stroke-linejoin:miter;stroke-width:0.8;\"/>\r\n   </g>\r\n   <g id=\"patch_5\">\r\n    <path d=\"M 58.523438 227.301077 \r\nL 393.323437 227.301077 \r\n\" style=\"fill:none;stroke:#000000;stroke-linecap:square;stroke-linejoin:miter;stroke-width:0.8;\"/>\r\n   </g>\r\n   <g id=\"patch_6\">\r\n    <path d=\"M 58.523438 9.861077 \r\nL 393.323437 9.861077 \r\n\" style=\"fill:none;stroke:#000000;stroke-linecap:square;stroke-linejoin:miter;stroke-width:0.8;\"/>\r\n   </g>\r\n  </g>\r\n </g>\r\n <defs>\r\n  <clipPath id=\"p01c7c8dc44\">\r\n   <rect height=\"217.44\" width=\"334.8\" x=\"58.523438\" y=\"9.861077\"/>\r\n  </clipPath>\r\n </defs>\r\n</svg>\r\n",
      "image/png": "[encoded data removed]"
     },
     "metadata": {
      "needs_background": "light"
     }
    }
   ],
   "source": [
    "# Using lasso to extract important features  (fly_month, day of the week, arr_hour are important features)\n",
    "lasso_coef=lasso.fit(X_train,y_train).coef_\n",
    "names=DF.columns\n",
    "_=plt.scatter(range(len(names)), lasso_coef)\n",
    "_=plt.xticks(range(len(names)), names, rotation=90)\n",
    "_=plt.ylabel('Coefficients')\n",
    "plt.show()"
   ]
  },
  {
   "cell_type": "code",
   "execution_count": 367,
   "metadata": {},
   "outputs": [
    {
     "output_type": "stream",
     "name": "stdout",
     "text": [
      "28.887868372522803\n"
     ]
    }
   ],
   "source": [
    "X_train, X_test, y_train, y_test=train_test_split(X,y, test_size=0.3, random_state=0)\n",
    "ridge=Ridge(alpha=0.01)\n",
    "ridge.fit(X_train, y_train)\n",
    "y_ridge=ridge.predict(X_test)\n",
    "print(np.sqrt(metrics.mean_squared_error(y_test,y_ridge))) \n"
   ]
  },
  {
   "cell_type": "code",
   "execution_count": 387,
   "metadata": {},
   "outputs": [
    {
     "output_type": "stream",
     "name": "stdout",
     "text": [
      "RMSE :  28.843577\n"
     ]
    }
   ],
   "source": [
    "import xgboost as xg\n",
    "xgb_r = xg.XGBRegressor(objective ='reg:squarederror', \n",
    "                  n_estimators = 10, seed = 123) \n",
    "  \n",
    "# Fitting the model \n",
    "xgb_r.fit(X_train, y_train) \n",
    "  \n",
    "# Predict the model \n",
    "pred = xgb_r.predict(X_test) \n",
    "  \n",
    "# RMSE Computation \n",
    "rmse = metrics.mean_squared_error(y_test,pred, squared=False) \n",
    "print(\"RMSE : % f\" %(rmse)) "
   ]
  },
  {
   "cell_type": "code",
   "execution_count": 388,
   "metadata": {},
   "outputs": [
    {
     "output_type": "execute_result",
     "data": {
      "text/plain": [
       "0.011704841957072665"
      ]
     },
     "metadata": {},
     "execution_count": 388
    }
   ],
   "source": [
    "xgb_r.score(X_train,y_train)"
   ]
  },
  {
   "cell_type": "code",
   "execution_count": 390,
   "metadata": {},
   "outputs": [
    {
     "output_type": "stream",
     "name": "stdout",
     "text": [
      "Mean cross-validation score: 0.0034712009447293466\n"
     ]
    }
   ],
   "source": [
    "scores = cross_val_score(xgb_r, X_train, y_train, cv=5)\n",
    "print(\"Mean cross-validation score:\",  scores.mean())"
   ]
  },
  {
   "cell_type": "code",
   "execution_count": null,
   "metadata": {},
   "outputs": [],
   "source": []
  }
 ]
}