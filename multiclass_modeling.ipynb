{
 "cells": [
  {
   "source": [
    "## **Multiclass Classification**: If the plane was delayed, predict what type of delay it is (will be).\n"
   ],
   "cell_type": "markdown",
   "metadata": {}
  },
  {
   "cell_type": "code",
   "execution_count": 2,
   "metadata": {},
   "outputs": [],
   "source": [
    "import os\n",
    "import psycopg2\n",
    "import pandas as pd \n",
    "import seaborn as sns \n",
    "import matplotlib.pyplot as plt\n",
    "import numpy as np "
   ]
  },
  {
   "cell_type": "code",
   "execution_count": 3,
   "metadata": {},
   "outputs": [],
   "source": [
    "# Getting the sample data 10% from the extracted flights_delay data\n",
    "df=pd.read_csv('flights_with_delay.csv', skiprows=lambda i: i % 10 !=0)"
   ]
  },
  {
   "cell_type": "code",
   "execution_count": 4,
   "metadata": {},
   "outputs": [],
   "source": [
    "df['fl_date']=pd.to_datetime(df['fl_date'])\n",
    "df['fl_year']=df['fl_date'].dt.year \n",
    "df['fl_month']=df['fl_date'].dt.month \n",
    "df['fl_day_of_week']=df['fl_date'].dt.weekday\n",
    "df['dep_hour']=(df['crs_dep_time']/100).astype(int)\n",
    "df['arr_hour']=(df['crs_arr_time']/100).astype(int)"
   ]
  },
  {
   "cell_type": "code",
   "execution_count": 5,
   "metadata": {},
   "outputs": [
    {
     "output_type": "execute_result",
     "data": {
      "text/plain": [
       "(300948, 48)"
      ]
     },
     "metadata": {},
     "execution_count": 5
    }
   ],
   "source": [
    "df.shape"
   ]
  },
  {
   "cell_type": "code",
   "execution_count": 6,
   "metadata": {},
   "outputs": [],
   "source": [
    "cols=['mkt_unique_carrier','mkt_carrier_fl_num','origin_airport_id', 'origin_city_name',\n",
    "       'dest_airport_id', 'dest_city_name', 'crs_dep_time', 'dep_delay','crs_arr_time',  'arr_delay', 'crs_elapsed_time',\n",
    "       'distance', 'carrier_delay', 'weather_delay', 'nas_delay', 'security_delay',\n",
    "       'late_aircraft_delay', 'fl_month', 'fl_day_of_week',\n",
    "       'dep_hour', 'arr_hour']"
   ]
  },
  {
   "cell_type": "code",
   "execution_count": 7,
   "metadata": {},
   "outputs": [],
   "source": [
    "df=df[cols]"
   ]
  },
  {
   "cell_type": "code",
   "execution_count": 8,
   "metadata": {},
   "outputs": [],
   "source": [
    "df1=df.copy()"
   ]
  },
  {
   "cell_type": "code",
   "execution_count": 9,
   "metadata": {},
   "outputs": [],
   "source": [
    "df1.dropna(axis=0, inplace=True)"
   ]
  },
  {
   "cell_type": "code",
   "execution_count": 10,
   "metadata": {},
   "outputs": [
    {
     "output_type": "execute_result",
     "data": {
      "text/plain": [
       "(300919, 21)"
      ]
     },
     "metadata": {},
     "execution_count": 10
    }
   ],
   "source": [
    "df1.shape"
   ]
  },
  {
   "cell_type": "code",
   "execution_count": 11,
   "metadata": {},
   "outputs": [],
   "source": [
    "# statistics of  airport average monthly average_delay time \n",
    "dep_airport=df.groupby(['origin_airport_id', 'fl_month', 'fl_day_of_week'])['arr_delay'].mean().reset_index()"
   ]
  },
  {
   "cell_type": "code",
   "execution_count": 12,
   "metadata": {},
   "outputs": [],
   "source": [
    "data=pd.merge(df1,dep_airport,how='outer', on=['origin_airport_id','fl_month','fl_day_of_week'])"
   ]
  },
  {
   "cell_type": "code",
   "execution_count": 13,
   "metadata": {},
   "outputs": [],
   "source": [
    "data.rename(columns=({'arr_delay_y':'airport_arr_delay'}), inplace=True)"
   ]
  },
  {
   "cell_type": "code",
   "execution_count": 14,
   "metadata": {},
   "outputs": [],
   "source": [
    "# average arr delay by airport, month, day of week\n",
    "airport_dest=df1.groupby(['dest_airport_id', 'fl_month', 'fl_day_of_week'])['arr_delay'].mean().reset_index()\n",
    "data=pd.merge(data, airport_dest, how='outer', on=['dest_airport_id','fl_month','fl_day_of_week'])\n"
   ]
  },
  {
   "cell_type": "code",
   "execution_count": 15,
   "metadata": {},
   "outputs": [],
   "source": [
    "data.rename(columns={'arr_delay':'airport_arr_delay'}, inplace=True)"
   ]
  },
  {
   "cell_type": "code",
   "execution_count": 16,
   "metadata": {},
   "outputs": [],
   "source": [
    "# explore carrier distance delay\n",
    "carrier=df1.groupby(['mkt_unique_carrier'])['arr_delay'].mean().reset_index()"
   ]
  },
  {
   "cell_type": "code",
   "execution_count": 17,
   "metadata": {},
   "outputs": [],
   "source": [
    "# merge carrier delay data into the data table\n",
    "data=pd.merge(data, carrier,how='outer', on=['mkt_unique_carrier'])\n"
   ]
  },
  {
   "cell_type": "code",
   "execution_count": 18,
   "metadata": {},
   "outputs": [],
   "source": [
    "data.rename(columns={'arr_delay':'carrier_arr_delay'}, inplace=True)"
   ]
  },
  {
   "cell_type": "code",
   "execution_count": 19,
   "metadata": {},
   "outputs": [],
   "source": [
    "# departure delay based on the time of the day\n",
    "hour=df1.groupby(['dep_hour'])['dep_delay'].mean().reset_index()"
   ]
  },
  {
   "cell_type": "code",
   "execution_count": 20,
   "metadata": {},
   "outputs": [],
   "source": [
    "# merge data with the hour for the arrive_delay due to the hour\n",
    "data=pd.merge(data,hour,how='outer', on=['dep_hour'])"
   ]
  },
  {
   "cell_type": "code",
   "execution_count": 21,
   "metadata": {},
   "outputs": [],
   "source": [
    "data.rename(columns={'dep_delay':'hour_dep_delay'}, inplace=True)"
   ]
  },
  {
   "cell_type": "code",
   "execution_count": 22,
   "metadata": {},
   "outputs": [],
   "source": [
    "# explore arrive hour delay time\n",
    "arrhour=df1.groupby(['arr_hour'])['arr_delay'].mean().reset_index()"
   ]
  },
  {
   "cell_type": "code",
   "execution_count": 23,
   "metadata": {},
   "outputs": [],
   "source": [
    "# merge arrivehour into the data\n",
    "data=pd.merge(data,arrhour,how='outer', on='arr_hour')  "
   ]
  },
  {
   "cell_type": "code",
   "execution_count": 24,
   "metadata": {},
   "outputs": [],
   "source": [
    "data.rename(columns={'arr_delay':'arr_hour_delay'}, inplace=True)"
   ]
  },
  {
   "cell_type": "code",
   "execution_count": 25,
   "metadata": {},
   "outputs": [],
   "source": [
    "dw_ori=pd.read_csv('weather_delay_factor.csv')\n",
    "dw_arr=pd.read_csv('weather_arr_delay.csv')"
   ]
  },
  {
   "cell_type": "code",
   "execution_count": 26,
   "metadata": {},
   "outputs": [],
   "source": [
    "data=pd.merge(data,dw_ori,on=['origin_city_name', 'fl_month'], how='outer')\n",
    "data.rename(columns={'weather_delay_y':'wea_delay_ori', 'weather_delay_x': 'weather_delay'}, inplace=True)\n"
   ]
  },
  {
   "cell_type": "code",
   "execution_count": 27,
   "metadata": {},
   "outputs": [],
   "source": [
    "data.dropna(axis=0,inplace=True)"
   ]
  },
  {
   "cell_type": "code",
   "execution_count": 28,
   "metadata": {},
   "outputs": [
    {
     "output_type": "execute_result",
     "data": {
      "text/plain": [
       "(299535, 28)"
      ]
     },
     "metadata": {},
     "execution_count": 28
    }
   ],
   "source": [
    "data.shape"
   ]
  },
  {
   "cell_type": "code",
   "execution_count": 29,
   "metadata": {},
   "outputs": [
    {
     "output_type": "execute_result",
     "data": {
      "text/plain": [
       "  mkt_unique_carrier  mkt_carrier_fl_num  origin_airport_id  \\\n",
       "0                 AS              2564.0            14771.0   \n",
       "1                 AS              1753.0            14771.0   \n",
       "2                 UA               539.0            14771.0   \n",
       "3                 UA              5949.0            14771.0   \n",
       "4                 UA              5555.0            14771.0   \n",
       "\n",
       "    origin_city_name  dest_airport_id     dest_city_name  crs_dep_time  \\\n",
       "0  San Francisco, CA          14908.0      Santa Ana, CA        1530.0   \n",
       "1  San Francisco, CA          14747.0        Seattle, WA        1550.0   \n",
       "2  San Francisco, CA          13830.0        Kahului, HI        1500.0   \n",
       "3  San Francisco, CA          10157.0  Arcata/Eureka, CA        1555.0   \n",
       "4  San Francisco, CA          10157.0  Arcata/Eureka, CA        1555.0   \n",
       "\n",
       "   dep_delay_x  crs_arr_time  arr_delay_x  ...  fl_day_of_week  dep_hour  \\\n",
       "0         -4.0        1705.0         17.0  ...             0.0      15.0   \n",
       "1         23.0        1755.0         15.0  ...             1.0      15.0   \n",
       "2         67.0        1737.0         48.0  ...             3.0      15.0   \n",
       "3         50.0        1717.0         54.0  ...             4.0      15.0   \n",
       "4         38.0        1714.0         29.0  ...             5.0      15.0   \n",
       "\n",
       "   arr_hour  airport_arr_delay  airport_arr_delay  carrier_arr_delay  \\\n",
       "0      17.0          64.598291          39.375000          49.500177   \n",
       "1      17.0          41.180328          36.384615          49.500177   \n",
       "2      17.0          52.010309         149.000000          78.913769   \n",
       "3      17.0          74.761905          47.000000          78.913769   \n",
       "4      17.0          58.843137          29.000000          78.913769   \n",
       "\n",
       "   dep_delay_y  arr_hour_delay  Unnamed: 0  wea_delay_ori  \n",
       "0    62.371223       67.489052      3034.0      66.945455  \n",
       "1    62.371223       67.489052      3034.0      66.945455  \n",
       "2    62.371223       67.489052      3034.0      66.945455  \n",
       "3    62.371223       67.489052      3034.0      66.945455  \n",
       "4    62.371223       67.489052      3034.0      66.945455  \n",
       "\n",
       "[5 rows x 28 columns]"
      ],
      "text/html": "<div>\n<style scoped>\n    .dataframe tbody tr th:only-of-type {\n        vertical-align: middle;\n    }\n\n    .dataframe tbody tr th {\n        vertical-align: top;\n    }\n\n    .dataframe thead th {\n        text-align: right;\n    }\n</style>\n<table border=\"1\" class=\"dataframe\">\n  <thead>\n    <tr style=\"text-align: right;\">\n      <th></th>\n      <th>mkt_unique_carrier</th>\n      <th>mkt_carrier_fl_num</th>\n      <th>origin_airport_id</th>\n      <th>origin_city_name</th>\n      <th>dest_airport_id</th>\n      <th>dest_city_name</th>\n      <th>crs_dep_time</th>\n      <th>dep_delay_x</th>\n      <th>crs_arr_time</th>\n      <th>arr_delay_x</th>\n      <th>...</th>\n      <th>fl_day_of_week</th>\n      <th>dep_hour</th>\n      <th>arr_hour</th>\n      <th>airport_arr_delay</th>\n      <th>airport_arr_delay</th>\n      <th>carrier_arr_delay</th>\n      <th>dep_delay_y</th>\n      <th>arr_hour_delay</th>\n      <th>Unnamed: 0</th>\n      <th>wea_delay_ori</th>\n    </tr>\n  </thead>\n  <tbody>\n    <tr>\n      <th>0</th>\n      <td>AS</td>\n      <td>2564.0</td>\n      <td>14771.0</td>\n      <td>San Francisco, CA</td>\n      <td>14908.0</td>\n      <td>Santa Ana, CA</td>\n      <td>1530.0</td>\n      <td>-4.0</td>\n      <td>1705.0</td>\n      <td>17.0</td>\n      <td>...</td>\n      <td>0.0</td>\n      <td>15.0</td>\n      <td>17.0</td>\n      <td>64.598291</td>\n      <td>39.375000</td>\n      <td>49.500177</td>\n      <td>62.371223</td>\n      <td>67.489052</td>\n      <td>3034.0</td>\n      <td>66.945455</td>\n    </tr>\n    <tr>\n      <th>1</th>\n      <td>AS</td>\n      <td>1753.0</td>\n      <td>14771.0</td>\n      <td>San Francisco, CA</td>\n      <td>14747.0</td>\n      <td>Seattle, WA</td>\n      <td>1550.0</td>\n      <td>23.0</td>\n      <td>1755.0</td>\n      <td>15.0</td>\n      <td>...</td>\n      <td>1.0</td>\n      <td>15.0</td>\n      <td>17.0</td>\n      <td>41.180328</td>\n      <td>36.384615</td>\n      <td>49.500177</td>\n      <td>62.371223</td>\n      <td>67.489052</td>\n      <td>3034.0</td>\n      <td>66.945455</td>\n    </tr>\n    <tr>\n      <th>2</th>\n      <td>UA</td>\n      <td>539.0</td>\n      <td>14771.0</td>\n      <td>San Francisco, CA</td>\n      <td>13830.0</td>\n      <td>Kahului, HI</td>\n      <td>1500.0</td>\n      <td>67.0</td>\n      <td>1737.0</td>\n      <td>48.0</td>\n      <td>...</td>\n      <td>3.0</td>\n      <td>15.0</td>\n      <td>17.0</td>\n      <td>52.010309</td>\n      <td>149.000000</td>\n      <td>78.913769</td>\n      <td>62.371223</td>\n      <td>67.489052</td>\n      <td>3034.0</td>\n      <td>66.945455</td>\n    </tr>\n    <tr>\n      <th>3</th>\n      <td>UA</td>\n      <td>5949.0</td>\n      <td>14771.0</td>\n      <td>San Francisco, CA</td>\n      <td>10157.0</td>\n      <td>Arcata/Eureka, CA</td>\n      <td>1555.0</td>\n      <td>50.0</td>\n      <td>1717.0</td>\n      <td>54.0</td>\n      <td>...</td>\n      <td>4.0</td>\n      <td>15.0</td>\n      <td>17.0</td>\n      <td>74.761905</td>\n      <td>47.000000</td>\n      <td>78.913769</td>\n      <td>62.371223</td>\n      <td>67.489052</td>\n      <td>3034.0</td>\n      <td>66.945455</td>\n    </tr>\n    <tr>\n      <th>4</th>\n      <td>UA</td>\n      <td>5555.0</td>\n      <td>14771.0</td>\n      <td>San Francisco, CA</td>\n      <td>10157.0</td>\n      <td>Arcata/Eureka, CA</td>\n      <td>1555.0</td>\n      <td>38.0</td>\n      <td>1714.0</td>\n      <td>29.0</td>\n      <td>...</td>\n      <td>5.0</td>\n      <td>15.0</td>\n      <td>17.0</td>\n      <td>58.843137</td>\n      <td>29.000000</td>\n      <td>78.913769</td>\n      <td>62.371223</td>\n      <td>67.489052</td>\n      <td>3034.0</td>\n      <td>66.945455</td>\n    </tr>\n  </tbody>\n</table>\n<p>5 rows × 28 columns</p>\n</div>"
     },
     "metadata": {},
     "execution_count": 29
    }
   ],
   "source": [
    "data.head()"
   ]
  },
  {
   "cell_type": "code",
   "execution_count": 30,
   "metadata": {},
   "outputs": [],
   "source": [
    "data.to_csv('data.csv')"
   ]
  },
  {
   "source": [
    "# modeling process"
   ],
   "cell_type": "markdown",
   "metadata": {}
  },
  {
   "cell_type": "code",
   "execution_count": 31,
   "metadata": {},
   "outputs": [],
   "source": [
    "# use this data for modeling\n",
    "DATA=data.copy()"
   ]
  },
  {
   "source": [
    "cols=['mkt_unique_carrier', 'mkt_carrier_fl_num',\n",
    "       'origin_airport_id', 'dest_airport_id', 'fl_month', 'fl_day_of_week', 'dep_hour', 'arr_hour',\n",
    "       'airport_arr_delay','carrier_arr_delay', \n",
    "     'crs_elapsed_time', 'arr_hour_delay', 'wea_delay_ori','delay_type', 'carrier_delay',\n",
    " 'weather_delay',\n",
    " 'nas_delay',\n",
    " 'security_delay',\n",
    " 'late_aircraft_delay']"
   ],
   "cell_type": "code",
   "metadata": {},
   "execution_count": 32,
   "outputs": []
  },
  {
   "cell_type": "code",
   "execution_count": 33,
   "metadata": {},
   "outputs": [],
   "source": [
    "delays=['carrier_delay',\n",
    " 'weather_delay',\n",
    " 'nas_delay',\n",
    " 'security_delay',\n",
    " 'late_aircraft_delay']"
   ]
  },
  {
   "cell_type": "code",
   "execution_count": 37,
   "metadata": {},
   "outputs": [
    {
     "output_type": "execute_result",
     "data": {
      "text/plain": [
       "  mkt_unique_carrier  mkt_carrier_fl_num  origin_airport_id  \\\n",
       "0                 AS              2564.0            14771.0   \n",
       "1                 AS              1753.0            14771.0   \n",
       "2                 UA               539.0            14771.0   \n",
       "3                 UA              5949.0            14771.0   \n",
       "4                 UA              5555.0            14771.0   \n",
       "\n",
       "    origin_city_name  dest_airport_id     dest_city_name  crs_dep_time  \\\n",
       "0  San Francisco, CA          14908.0      Santa Ana, CA        1530.0   \n",
       "1  San Francisco, CA          14747.0        Seattle, WA        1550.0   \n",
       "2  San Francisco, CA          13830.0        Kahului, HI        1500.0   \n",
       "3  San Francisco, CA          10157.0  Arcata/Eureka, CA        1555.0   \n",
       "4  San Francisco, CA          10157.0  Arcata/Eureka, CA        1555.0   \n",
       "\n",
       "   dep_delay_x  crs_arr_time  arr_delay_x  ...  fl_day_of_week  dep_hour  \\\n",
       "0         -4.0        1705.0         17.0  ...             0.0      15.0   \n",
       "1         23.0        1755.0         15.0  ...             1.0      15.0   \n",
       "2         67.0        1737.0         48.0  ...             3.0      15.0   \n",
       "3         50.0        1717.0         54.0  ...             4.0      15.0   \n",
       "4         38.0        1714.0         29.0  ...             5.0      15.0   \n",
       "\n",
       "   arr_hour  airport_arr_delay  airport_arr_delay  carrier_arr_delay  \\\n",
       "0      17.0          64.598291          39.375000          49.500177   \n",
       "1      17.0          41.180328          36.384615          49.500177   \n",
       "2      17.0          52.010309         149.000000          78.913769   \n",
       "3      17.0          74.761905          47.000000          78.913769   \n",
       "4      17.0          58.843137          29.000000          78.913769   \n",
       "\n",
       "   dep_delay_y  arr_hour_delay  Unnamed: 0  wea_delay_ori  \n",
       "0    62.371223       67.489052      3034.0      66.945455  \n",
       "1    62.371223       67.489052      3034.0      66.945455  \n",
       "2    62.371223       67.489052      3034.0      66.945455  \n",
       "3    62.371223       67.489052      3034.0      66.945455  \n",
       "4    62.371223       67.489052      3034.0      66.945455  \n",
       "\n",
       "[5 rows x 28 columns]"
      ],
      "text/html": "<div>\n<style scoped>\n    .dataframe tbody tr th:only-of-type {\n        vertical-align: middle;\n    }\n\n    .dataframe tbody tr th {\n        vertical-align: top;\n    }\n\n    .dataframe thead th {\n        text-align: right;\n    }\n</style>\n<table border=\"1\" class=\"dataframe\">\n  <thead>\n    <tr style=\"text-align: right;\">\n      <th></th>\n      <th>mkt_unique_carrier</th>\n      <th>mkt_carrier_fl_num</th>\n      <th>origin_airport_id</th>\n      <th>origin_city_name</th>\n      <th>dest_airport_id</th>\n      <th>dest_city_name</th>\n      <th>crs_dep_time</th>\n      <th>dep_delay_x</th>\n      <th>crs_arr_time</th>\n      <th>arr_delay_x</th>\n      <th>...</th>\n      <th>fl_day_of_week</th>\n      <th>dep_hour</th>\n      <th>arr_hour</th>\n      <th>airport_arr_delay</th>\n      <th>airport_arr_delay</th>\n      <th>carrier_arr_delay</th>\n      <th>dep_delay_y</th>\n      <th>arr_hour_delay</th>\n      <th>Unnamed: 0</th>\n      <th>wea_delay_ori</th>\n    </tr>\n  </thead>\n  <tbody>\n    <tr>\n      <th>0</th>\n      <td>AS</td>\n      <td>2564.0</td>\n      <td>14771.0</td>\n      <td>San Francisco, CA</td>\n      <td>14908.0</td>\n      <td>Santa Ana, CA</td>\n      <td>1530.0</td>\n      <td>-4.0</td>\n      <td>1705.0</td>\n      <td>17.0</td>\n      <td>...</td>\n      <td>0.0</td>\n      <td>15.0</td>\n      <td>17.0</td>\n      <td>64.598291</td>\n      <td>39.375000</td>\n      <td>49.500177</td>\n      <td>62.371223</td>\n      <td>67.489052</td>\n      <td>3034.0</td>\n      <td>66.945455</td>\n    </tr>\n    <tr>\n      <th>1</th>\n      <td>AS</td>\n      <td>1753.0</td>\n      <td>14771.0</td>\n      <td>San Francisco, CA</td>\n      <td>14747.0</td>\n      <td>Seattle, WA</td>\n      <td>1550.0</td>\n      <td>23.0</td>\n      <td>1755.0</td>\n      <td>15.0</td>\n      <td>...</td>\n      <td>1.0</td>\n      <td>15.0</td>\n      <td>17.0</td>\n      <td>41.180328</td>\n      <td>36.384615</td>\n      <td>49.500177</td>\n      <td>62.371223</td>\n      <td>67.489052</td>\n      <td>3034.0</td>\n      <td>66.945455</td>\n    </tr>\n    <tr>\n      <th>2</th>\n      <td>UA</td>\n      <td>539.0</td>\n      <td>14771.0</td>\n      <td>San Francisco, CA</td>\n      <td>13830.0</td>\n      <td>Kahului, HI</td>\n      <td>1500.0</td>\n      <td>67.0</td>\n      <td>1737.0</td>\n      <td>48.0</td>\n      <td>...</td>\n      <td>3.0</td>\n      <td>15.0</td>\n      <td>17.0</td>\n      <td>52.010309</td>\n      <td>149.000000</td>\n      <td>78.913769</td>\n      <td>62.371223</td>\n      <td>67.489052</td>\n      <td>3034.0</td>\n      <td>66.945455</td>\n    </tr>\n    <tr>\n      <th>3</th>\n      <td>UA</td>\n      <td>5949.0</td>\n      <td>14771.0</td>\n      <td>San Francisco, CA</td>\n      <td>10157.0</td>\n      <td>Arcata/Eureka, CA</td>\n      <td>1555.0</td>\n      <td>50.0</td>\n      <td>1717.0</td>\n      <td>54.0</td>\n      <td>...</td>\n      <td>4.0</td>\n      <td>15.0</td>\n      <td>17.0</td>\n      <td>74.761905</td>\n      <td>47.000000</td>\n      <td>78.913769</td>\n      <td>62.371223</td>\n      <td>67.489052</td>\n      <td>3034.0</td>\n      <td>66.945455</td>\n    </tr>\n    <tr>\n      <th>4</th>\n      <td>UA</td>\n      <td>5555.0</td>\n      <td>14771.0</td>\n      <td>San Francisco, CA</td>\n      <td>10157.0</td>\n      <td>Arcata/Eureka, CA</td>\n      <td>1555.0</td>\n      <td>38.0</td>\n      <td>1714.0</td>\n      <td>29.0</td>\n      <td>...</td>\n      <td>5.0</td>\n      <td>15.0</td>\n      <td>17.0</td>\n      <td>58.843137</td>\n      <td>29.000000</td>\n      <td>78.913769</td>\n      <td>62.371223</td>\n      <td>67.489052</td>\n      <td>3034.0</td>\n      <td>66.945455</td>\n    </tr>\n  </tbody>\n</table>\n<p>5 rows × 28 columns</p>\n</div>"
     },
     "metadata": {},
     "execution_count": 37
    }
   ],
   "source": [
    "DATA.head()"
   ]
  },
  {
   "cell_type": "code",
   "execution_count": 34,
   "metadata": {},
   "outputs": [],
   "source": [
    "DATA['delay_type']=DATA[delays].idxmax(axis=1)"
   ]
  },
  {
   "cell_type": "code",
   "execution_count": 35,
   "metadata": {},
   "outputs": [],
   "source": [
    "feature_cols=['mkt_unique_carrier', 'mkt_carrier_fl_num',\n",
    "       'origin_airport_id', 'dest_airport_id', 'fl_month', 'fl_day_of_week', 'dep_hour', 'arr_hour',\n",
    "       'airport_arr_delay','carrier_arr_delay', \n",
    "     'crs_elapsed_time', 'arr_hour_delay', 'wea_delay_ori','carrier_delay',\n",
    " 'weather_delay',\n",
    " 'nas_delay',\n",
    " 'security_delay',\n",
    " 'late_aircraft_delay', 'delay_type']"
   ]
  },
  {
   "cell_type": "code",
   "execution_count": 36,
   "metadata": {},
   "outputs": [],
   "source": [
    "DATA=DATA[feature_cols]"
   ]
  },
  {
   "cell_type": "code",
   "execution_count": 41,
   "metadata": {},
   "outputs": [
    {
     "output_type": "execute_result",
     "data": {
      "text/plain": [
       "  mkt_unique_carrier  mkt_carrier_fl_num  origin_airport_id  dest_airport_id  \\\n",
       "0                 AS              2564.0            14771.0          14908.0   \n",
       "1                 AS              1753.0            14771.0          14747.0   \n",
       "2                 UA               539.0            14771.0          13830.0   \n",
       "3                 UA              5949.0            14771.0          10157.0   \n",
       "4                 UA              5555.0            14771.0          10157.0   \n",
       "\n",
       "   fl_month  fl_day_of_week  dep_hour  arr_hour  airport_arr_delay  \\\n",
       "0         4             0.0      15.0      17.0          64.598291   \n",
       "1         4             1.0      15.0      17.0          41.180328   \n",
       "2         4             3.0      15.0      17.0          52.010309   \n",
       "3         4             4.0      15.0      17.0          74.761905   \n",
       "4         4             5.0      15.0      17.0          58.843137   \n",
       "\n",
       "   airport_arr_delay  carrier_arr_delay  crs_elapsed_time  arr_hour_delay  \\\n",
       "0          39.375000          49.500177              95.0       67.489052   \n",
       "1          36.384615          49.500177             125.0       67.489052   \n",
       "2         149.000000          78.913769             337.0       67.489052   \n",
       "3          47.000000          78.913769              82.0       67.489052   \n",
       "4          29.000000          78.913769              79.0       67.489052   \n",
       "\n",
       "   wea_delay_ori  carrier_delay  weather_delay  nas_delay  security_delay  \\\n",
       "0      66.945455            0.0            0.0       17.0             0.0   \n",
       "1      66.945455            0.0            0.0        0.0             0.0   \n",
       "2      66.945455            8.0            0.0        0.0             0.0   \n",
       "3      66.945455            0.0            0.0        4.0             0.0   \n",
       "4      66.945455           29.0            0.0        0.0             0.0   \n",
       "\n",
       "   late_aircraft_delay           delay_type  \n",
       "0                  0.0            nas_delay  \n",
       "1                 15.0  late_aircraft_delay  \n",
       "2                 40.0  late_aircraft_delay  \n",
       "3                 50.0  late_aircraft_delay  \n",
       "4                  0.0        carrier_delay  "
      ],
      "text/html": "<div>\n<style scoped>\n    .dataframe tbody tr th:only-of-type {\n        vertical-align: middle;\n    }\n\n    .dataframe tbody tr th {\n        vertical-align: top;\n    }\n\n    .dataframe thead th {\n        text-align: right;\n    }\n</style>\n<table border=\"1\" class=\"dataframe\">\n  <thead>\n    <tr style=\"text-align: right;\">\n      <th></th>\n      <th>mkt_unique_carrier</th>\n      <th>mkt_carrier_fl_num</th>\n      <th>origin_airport_id</th>\n      <th>dest_airport_id</th>\n      <th>fl_month</th>\n      <th>fl_day_of_week</th>\n      <th>dep_hour</th>\n      <th>arr_hour</th>\n      <th>airport_arr_delay</th>\n      <th>airport_arr_delay</th>\n      <th>carrier_arr_delay</th>\n      <th>crs_elapsed_time</th>\n      <th>arr_hour_delay</th>\n      <th>wea_delay_ori</th>\n      <th>carrier_delay</th>\n      <th>weather_delay</th>\n      <th>nas_delay</th>\n      <th>security_delay</th>\n      <th>late_aircraft_delay</th>\n      <th>delay_type</th>\n    </tr>\n  </thead>\n  <tbody>\n    <tr>\n      <th>0</th>\n      <td>AS</td>\n      <td>2564.0</td>\n      <td>14771.0</td>\n      <td>14908.0</td>\n      <td>4</td>\n      <td>0.0</td>\n      <td>15.0</td>\n      <td>17.0</td>\n      <td>64.598291</td>\n      <td>39.375000</td>\n      <td>49.500177</td>\n      <td>95.0</td>\n      <td>67.489052</td>\n      <td>66.945455</td>\n      <td>0.0</td>\n      <td>0.0</td>\n      <td>17.0</td>\n      <td>0.0</td>\n      <td>0.0</td>\n      <td>nas_delay</td>\n    </tr>\n    <tr>\n      <th>1</th>\n      <td>AS</td>\n      <td>1753.0</td>\n      <td>14771.0</td>\n      <td>14747.0</td>\n      <td>4</td>\n      <td>1.0</td>\n      <td>15.0</td>\n      <td>17.0</td>\n      <td>41.180328</td>\n      <td>36.384615</td>\n      <td>49.500177</td>\n      <td>125.0</td>\n      <td>67.489052</td>\n      <td>66.945455</td>\n      <td>0.0</td>\n      <td>0.0</td>\n      <td>0.0</td>\n      <td>0.0</td>\n      <td>15.0</td>\n      <td>late_aircraft_delay</td>\n    </tr>\n    <tr>\n      <th>2</th>\n      <td>UA</td>\n      <td>539.0</td>\n      <td>14771.0</td>\n      <td>13830.0</td>\n      <td>4</td>\n      <td>3.0</td>\n      <td>15.0</td>\n      <td>17.0</td>\n      <td>52.010309</td>\n      <td>149.000000</td>\n      <td>78.913769</td>\n      <td>337.0</td>\n      <td>67.489052</td>\n      <td>66.945455</td>\n      <td>8.0</td>\n      <td>0.0</td>\n      <td>0.0</td>\n      <td>0.0</td>\n      <td>40.0</td>\n      <td>late_aircraft_delay</td>\n    </tr>\n    <tr>\n      <th>3</th>\n      <td>UA</td>\n      <td>5949.0</td>\n      <td>14771.0</td>\n      <td>10157.0</td>\n      <td>4</td>\n      <td>4.0</td>\n      <td>15.0</td>\n      <td>17.0</td>\n      <td>74.761905</td>\n      <td>47.000000</td>\n      <td>78.913769</td>\n      <td>82.0</td>\n      <td>67.489052</td>\n      <td>66.945455</td>\n      <td>0.0</td>\n      <td>0.0</td>\n      <td>4.0</td>\n      <td>0.0</td>\n      <td>50.0</td>\n      <td>late_aircraft_delay</td>\n    </tr>\n    <tr>\n      <th>4</th>\n      <td>UA</td>\n      <td>5555.0</td>\n      <td>14771.0</td>\n      <td>10157.0</td>\n      <td>4</td>\n      <td>5.0</td>\n      <td>15.0</td>\n      <td>17.0</td>\n      <td>58.843137</td>\n      <td>29.000000</td>\n      <td>78.913769</td>\n      <td>79.0</td>\n      <td>67.489052</td>\n      <td>66.945455</td>\n      <td>29.0</td>\n      <td>0.0</td>\n      <td>0.0</td>\n      <td>0.0</td>\n      <td>0.0</td>\n      <td>carrier_delay</td>\n    </tr>\n  </tbody>\n</table>\n</div>"
     },
     "metadata": {},
     "execution_count": 41
    }
   ],
   "source": [
    "DATA.head()"
   ]
  },
  {
   "cell_type": "code",
   "execution_count": 37,
   "metadata": {},
   "outputs": [],
   "source": [
    "df=DATA.copy()"
   ]
  },
  {
   "cell_type": "code",
   "execution_count": 38,
   "metadata": {},
   "outputs": [],
   "source": [
    "col_for_label_encoder=['mkt_unique_carrier','mkt_carrier_fl_num',\n",
    " 'origin_airport_id',\n",
    " 'dest_airport_id',\n",
    " 'fl_month',\n",
    " 'fl_day_of_week',\n",
    " 'dep_hour',\n",
    " 'arr_hour']\n"
   ]
  },
  {
   "cell_type": "code",
   "execution_count": 39,
   "metadata": {},
   "outputs": [],
   "source": [
    "# label encode the categorical data\n",
    "from sklearn.compose import ColumnTransformer\n",
    "from sklearn.preprocessing import LabelEncoder\n",
    "from sklearn.preprocessing import OneHotEncoder, StandardScaler\n",
    "from sklearn.model_selection import train_test_split\n",
    "from sklearn.ensemble import RandomForestClassifier\n",
    "from sklearn.tree import DecisionTreeClassifier\n",
    "from sklearn.svm import SVC\n",
    "from sklearn import metrics\n",
    "from imblearn.over_sampling import SMOTE\n",
    "encoder=LabelEncoder()\n"
   ]
  },
  {
   "cell_type": "code",
   "execution_count": 40,
   "metadata": {},
   "outputs": [],
   "source": [
    "df[col_for_label_encoder]=df[col_for_label_encoder].apply(encoder.fit_transform)"
   ]
  },
  {
   "cell_type": "code",
   "execution_count": 133,
   "metadata": {},
   "outputs": [
    {
     "output_type": "execute_result",
     "data": {
      "text/plain": [
       "   mkt_unique_carrier  mkt_carrier_fl_num  origin_airport_id  dest_airport_id  \\\n",
       "0                   1                2561                317              335   \n",
       "1                   1                1750                317              320   \n",
       "2                   8                 538                317              251   \n",
       "3                   8                5945                317                7   \n",
       "4                   8                5551                317                7   \n",
       "\n",
       "   fl_month  fl_day_of_week  dep_hour  arr_hour  airport_arr_delay  \\\n",
       "0         3               0        15        17          64.598291   \n",
       "1         3               1        15        17          41.180328   \n",
       "2         3               3        15        17          52.010309   \n",
       "3         3               4        15        17          74.761905   \n",
       "4         3               5        15        17          58.843137   \n",
       "\n",
       "   airport_arr_delay  carrier_arr_delay  crs_elapsed_time  arr_hour_delay  \\\n",
       "0          39.375000          49.500177              95.0       67.489052   \n",
       "1          36.384615          49.500177             125.0       67.489052   \n",
       "2         149.000000          78.913769             337.0       67.489052   \n",
       "3          47.000000          78.913769              82.0       67.489052   \n",
       "4          29.000000          78.913769              79.0       67.489052   \n",
       "\n",
       "   wea_delay_ori  carrier_delay  weather_delay  nas_delay  security_delay  \\\n",
       "0      66.945455            0.0            0.0       17.0             0.0   \n",
       "1      66.945455            0.0            0.0        0.0             0.0   \n",
       "2      66.945455            8.0            0.0        0.0             0.0   \n",
       "3      66.945455            0.0            0.0        4.0             0.0   \n",
       "4      66.945455           29.0            0.0        0.0             0.0   \n",
       "\n",
       "   late_aircraft_delay           delay_type  \n",
       "0                  0.0            nas_delay  \n",
       "1                 15.0  late_aircraft_delay  \n",
       "2                 40.0  late_aircraft_delay  \n",
       "3                 50.0  late_aircraft_delay  \n",
       "4                  0.0        carrier_delay  "
      ],
      "text/html": "<div>\n<style scoped>\n    .dataframe tbody tr th:only-of-type {\n        vertical-align: middle;\n    }\n\n    .dataframe tbody tr th {\n        vertical-align: top;\n    }\n\n    .dataframe thead th {\n        text-align: right;\n    }\n</style>\n<table border=\"1\" class=\"dataframe\">\n  <thead>\n    <tr style=\"text-align: right;\">\n      <th></th>\n      <th>mkt_unique_carrier</th>\n      <th>mkt_carrier_fl_num</th>\n      <th>origin_airport_id</th>\n      <th>dest_airport_id</th>\n      <th>fl_month</th>\n      <th>fl_day_of_week</th>\n      <th>dep_hour</th>\n      <th>arr_hour</th>\n      <th>airport_arr_delay</th>\n      <th>airport_arr_delay</th>\n      <th>carrier_arr_delay</th>\n      <th>crs_elapsed_time</th>\n      <th>arr_hour_delay</th>\n      <th>wea_delay_ori</th>\n      <th>carrier_delay</th>\n      <th>weather_delay</th>\n      <th>nas_delay</th>\n      <th>security_delay</th>\n      <th>late_aircraft_delay</th>\n      <th>delay_type</th>\n    </tr>\n  </thead>\n  <tbody>\n    <tr>\n      <th>0</th>\n      <td>1</td>\n      <td>2561</td>\n      <td>317</td>\n      <td>335</td>\n      <td>3</td>\n      <td>0</td>\n      <td>15</td>\n      <td>17</td>\n      <td>64.598291</td>\n      <td>39.375000</td>\n      <td>49.500177</td>\n      <td>95.0</td>\n      <td>67.489052</td>\n      <td>66.945455</td>\n      <td>0.0</td>\n      <td>0.0</td>\n      <td>17.0</td>\n      <td>0.0</td>\n      <td>0.0</td>\n      <td>nas_delay</td>\n    </tr>\n    <tr>\n      <th>1</th>\n      <td>1</td>\n      <td>1750</td>\n      <td>317</td>\n      <td>320</td>\n      <td>3</td>\n      <td>1</td>\n      <td>15</td>\n      <td>17</td>\n      <td>41.180328</td>\n      <td>36.384615</td>\n      <td>49.500177</td>\n      <td>125.0</td>\n      <td>67.489052</td>\n      <td>66.945455</td>\n      <td>0.0</td>\n      <td>0.0</td>\n      <td>0.0</td>\n      <td>0.0</td>\n      <td>15.0</td>\n      <td>late_aircraft_delay</td>\n    </tr>\n    <tr>\n      <th>2</th>\n      <td>8</td>\n      <td>538</td>\n      <td>317</td>\n      <td>251</td>\n      <td>3</td>\n      <td>3</td>\n      <td>15</td>\n      <td>17</td>\n      <td>52.010309</td>\n      <td>149.000000</td>\n      <td>78.913769</td>\n      <td>337.0</td>\n      <td>67.489052</td>\n      <td>66.945455</td>\n      <td>8.0</td>\n      <td>0.0</td>\n      <td>0.0</td>\n      <td>0.0</td>\n      <td>40.0</td>\n      <td>late_aircraft_delay</td>\n    </tr>\n    <tr>\n      <th>3</th>\n      <td>8</td>\n      <td>5945</td>\n      <td>317</td>\n      <td>7</td>\n      <td>3</td>\n      <td>4</td>\n      <td>15</td>\n      <td>17</td>\n      <td>74.761905</td>\n      <td>47.000000</td>\n      <td>78.913769</td>\n      <td>82.0</td>\n      <td>67.489052</td>\n      <td>66.945455</td>\n      <td>0.0</td>\n      <td>0.0</td>\n      <td>4.0</td>\n      <td>0.0</td>\n      <td>50.0</td>\n      <td>late_aircraft_delay</td>\n    </tr>\n    <tr>\n      <th>4</th>\n      <td>8</td>\n      <td>5551</td>\n      <td>317</td>\n      <td>7</td>\n      <td>3</td>\n      <td>5</td>\n      <td>15</td>\n      <td>17</td>\n      <td>58.843137</td>\n      <td>29.000000</td>\n      <td>78.913769</td>\n      <td>79.0</td>\n      <td>67.489052</td>\n      <td>66.945455</td>\n      <td>29.0</td>\n      <td>0.0</td>\n      <td>0.0</td>\n      <td>0.0</td>\n      <td>0.0</td>\n      <td>carrier_delay</td>\n    </tr>\n  </tbody>\n</table>\n</div>"
     },
     "metadata": {},
     "execution_count": 133
    }
   ],
   "source": [
    "df.head()"
   ]
  },
  {
   "cell_type": "code",
   "execution_count": 41,
   "metadata": {},
   "outputs": [],
   "source": [
    "y=df['delay_type']"
   ]
  },
  {
   "cell_type": "code",
   "execution_count": 47,
   "metadata": {},
   "outputs": [
    {
     "output_type": "execute_result",
     "data": {
      "text/plain": [
       "count                  299535\n",
       "unique                      5\n",
       "top       late_aircraft_delay\n",
       "freq                   117587\n",
       "Name: delay_type, dtype: object"
      ]
     },
     "metadata": {},
     "execution_count": 47
    }
   ],
   "source": [
    "y.describe()"
   ]
  },
  {
   "cell_type": "code",
   "execution_count": 48,
   "metadata": {},
   "outputs": [
    {
     "output_type": "execute_result",
     "data": {
      "text/plain": [
       "   mkt_unique_carrier  mkt_carrier_fl_num  origin_airport_id  dest_airport_id  \\\n",
       "0                   1                2561                317              335   \n",
       "1                   1                1750                317              320   \n",
       "2                   8                 538                317              251   \n",
       "3                   8                5945                317                7   \n",
       "4                   8                5551                317                7   \n",
       "\n",
       "   fl_month  fl_day_of_week  dep_hour  arr_hour  airport_arr_delay  \\\n",
       "0         3               0        15        17          64.598291   \n",
       "1         3               1        15        17          41.180328   \n",
       "2         3               3        15        17          52.010309   \n",
       "3         3               4        15        17          74.761905   \n",
       "4         3               5        15        17          58.843137   \n",
       "\n",
       "   airport_arr_delay  carrier_arr_delay  crs_elapsed_time  arr_hour_delay  \\\n",
       "0          39.375000          49.500177              95.0       67.489052   \n",
       "1          36.384615          49.500177             125.0       67.489052   \n",
       "2         149.000000          78.913769             337.0       67.489052   \n",
       "3          47.000000          78.913769              82.0       67.489052   \n",
       "4          29.000000          78.913769              79.0       67.489052   \n",
       "\n",
       "   wea_delay_ori  carrier_delay  weather_delay  nas_delay  security_delay  \\\n",
       "0      66.945455            0.0            0.0       17.0             0.0   \n",
       "1      66.945455            0.0            0.0        0.0             0.0   \n",
       "2      66.945455            8.0            0.0        0.0             0.0   \n",
       "3      66.945455            0.0            0.0        4.0             0.0   \n",
       "4      66.945455           29.0            0.0        0.0             0.0   \n",
       "\n",
       "   late_aircraft_delay           delay_type  \n",
       "0                  0.0            nas_delay  \n",
       "1                 15.0  late_aircraft_delay  \n",
       "2                 40.0  late_aircraft_delay  \n",
       "3                 50.0  late_aircraft_delay  \n",
       "4                  0.0        carrier_delay  "
      ],
      "text/html": "<div>\n<style scoped>\n    .dataframe tbody tr th:only-of-type {\n        vertical-align: middle;\n    }\n\n    .dataframe tbody tr th {\n        vertical-align: top;\n    }\n\n    .dataframe thead th {\n        text-align: right;\n    }\n</style>\n<table border=\"1\" class=\"dataframe\">\n  <thead>\n    <tr style=\"text-align: right;\">\n      <th></th>\n      <th>mkt_unique_carrier</th>\n      <th>mkt_carrier_fl_num</th>\n      <th>origin_airport_id</th>\n      <th>dest_airport_id</th>\n      <th>fl_month</th>\n      <th>fl_day_of_week</th>\n      <th>dep_hour</th>\n      <th>arr_hour</th>\n      <th>airport_arr_delay</th>\n      <th>airport_arr_delay</th>\n      <th>carrier_arr_delay</th>\n      <th>crs_elapsed_time</th>\n      <th>arr_hour_delay</th>\n      <th>wea_delay_ori</th>\n      <th>carrier_delay</th>\n      <th>weather_delay</th>\n      <th>nas_delay</th>\n      <th>security_delay</th>\n      <th>late_aircraft_delay</th>\n      <th>delay_type</th>\n    </tr>\n  </thead>\n  <tbody>\n    <tr>\n      <th>0</th>\n      <td>1</td>\n      <td>2561</td>\n      <td>317</td>\n      <td>335</td>\n      <td>3</td>\n      <td>0</td>\n      <td>15</td>\n      <td>17</td>\n      <td>64.598291</td>\n      <td>39.375000</td>\n      <td>49.500177</td>\n      <td>95.0</td>\n      <td>67.489052</td>\n      <td>66.945455</td>\n      <td>0.0</td>\n      <td>0.0</td>\n      <td>17.0</td>\n      <td>0.0</td>\n      <td>0.0</td>\n      <td>nas_delay</td>\n    </tr>\n    <tr>\n      <th>1</th>\n      <td>1</td>\n      <td>1750</td>\n      <td>317</td>\n      <td>320</td>\n      <td>3</td>\n      <td>1</td>\n      <td>15</td>\n      <td>17</td>\n      <td>41.180328</td>\n      <td>36.384615</td>\n      <td>49.500177</td>\n      <td>125.0</td>\n      <td>67.489052</td>\n      <td>66.945455</td>\n      <td>0.0</td>\n      <td>0.0</td>\n      <td>0.0</td>\n      <td>0.0</td>\n      <td>15.0</td>\n      <td>late_aircraft_delay</td>\n    </tr>\n    <tr>\n      <th>2</th>\n      <td>8</td>\n      <td>538</td>\n      <td>317</td>\n      <td>251</td>\n      <td>3</td>\n      <td>3</td>\n      <td>15</td>\n      <td>17</td>\n      <td>52.010309</td>\n      <td>149.000000</td>\n      <td>78.913769</td>\n      <td>337.0</td>\n      <td>67.489052</td>\n      <td>66.945455</td>\n      <td>8.0</td>\n      <td>0.0</td>\n      <td>0.0</td>\n      <td>0.0</td>\n      <td>40.0</td>\n      <td>late_aircraft_delay</td>\n    </tr>\n    <tr>\n      <th>3</th>\n      <td>8</td>\n      <td>5945</td>\n      <td>317</td>\n      <td>7</td>\n      <td>3</td>\n      <td>4</td>\n      <td>15</td>\n      <td>17</td>\n      <td>74.761905</td>\n      <td>47.000000</td>\n      <td>78.913769</td>\n      <td>82.0</td>\n      <td>67.489052</td>\n      <td>66.945455</td>\n      <td>0.0</td>\n      <td>0.0</td>\n      <td>4.0</td>\n      <td>0.0</td>\n      <td>50.0</td>\n      <td>late_aircraft_delay</td>\n    </tr>\n    <tr>\n      <th>4</th>\n      <td>8</td>\n      <td>5551</td>\n      <td>317</td>\n      <td>7</td>\n      <td>3</td>\n      <td>5</td>\n      <td>15</td>\n      <td>17</td>\n      <td>58.843137</td>\n      <td>29.000000</td>\n      <td>78.913769</td>\n      <td>79.0</td>\n      <td>67.489052</td>\n      <td>66.945455</td>\n      <td>29.0</td>\n      <td>0.0</td>\n      <td>0.0</td>\n      <td>0.0</td>\n      <td>0.0</td>\n      <td>carrier_delay</td>\n    </tr>\n  </tbody>\n</table>\n</div>"
     },
     "metadata": {},
     "execution_count": 48
    }
   ],
   "source": [
    "df.head()"
   ]
  },
  {
   "cell_type": "code",
   "execution_count": 42,
   "metadata": {},
   "outputs": [],
   "source": [
    "df=pd.get_dummies(df, columns=['delay_type'])"
   ]
  },
  {
   "source": [
    "## assign X and y"
   ],
   "cell_type": "markdown",
   "metadata": {}
  },
  {
   "cell_type": "code",
   "execution_count": 50,
   "metadata": {},
   "outputs": [],
   "source": [
    "df.drop(columns=delays, inplace=True)"
   ]
  },
  {
   "cell_type": "code",
   "execution_count": 51,
   "metadata": {},
   "outputs": [],
   "source": [
    "X=df.iloc[:, :-5].values\n",
    "y=df.iloc[:,-5:].values"
   ]
  },
  {
   "source": [
    "### decision Tree --without scaler"
   ],
   "cell_type": "markdown",
   "metadata": {}
  },
  {
   "cell_type": "code",
   "execution_count": 53,
   "metadata": {},
   "outputs": [
    {
     "output_type": "stream",
     "name": "stdout",
     "text": [
      "The decision tree classification_report is :                precision    recall  f1-score   support\n\n           0       0.33      0.33      0.33     24026\n           1       0.48      0.47      0.47     35301\n           2       0.39      0.40      0.39     27362\n           3       0.00      0.00      0.00       163\n           4       0.07      0.07      0.07      3009\n\n   micro avg       0.40      0.39      0.40     89861\n   macro avg       0.26      0.25      0.25     89861\nweighted avg       0.40      0.39      0.40     89861\n samples avg       0.39      0.39      0.39     89861\n\n"
     ]
    }
   ],
   "source": [
    "\n",
    "X_train, X_test, y_train, y_test=train_test_split(X,y, test_size=0.3)\n",
    "smote=SMOTE()\n",
    "X_resample,y_resmaple=smote.fit_sample(X_train, y_train)\n",
    "regressor=DecisionTreeClassifier(random_state=0)\n",
    "\n",
    "# without resmapling\n",
    "regressor.fit(X_train,y_train)\n",
    "y_tree=regressor.predict(X_test)\n",
    "print('The decision tree classification_report is : ', metrics.classification_report(y_test,y_tree))"
   ]
  },
  {
   "cell_type": "code",
   "execution_count": 54,
   "metadata": {},
   "outputs": [
    {
     "output_type": "stream",
     "name": "stdout",
     "text": [
      "The decision tree classification_report is :                precision    recall  f1-score   support\n\n           0       0.33      0.33      0.33     24026\n           1       0.48      0.45      0.46     35301\n           2       0.39      0.39      0.39     27362\n           3       0.02      0.03      0.02       163\n           4       0.07      0.10      0.08      3009\n\n   micro avg       0.39      0.39      0.39     89861\n   macro avg       0.26      0.26      0.26     89861\nweighted avg       0.40      0.39      0.39     89861\n samples avg       0.39      0.39      0.39     89861\n\n"
     ]
    }
   ],
   "source": [
    "# with the rebalanced data: ---slightly increase the security delay and weather delay precision score and recall score\n",
    "regressor.fit(X_resample,y_resmaple)\n",
    "y_tree=regressor.predict(X_test)\n",
    "print('The decision tree classification_report is : ', metrics.classification_report(y_test,y_tree))"
   ]
  },
  {
   "source": [
    "## Random Forest Regression"
   ],
   "cell_type": "markdown",
   "metadata": {}
  },
  {
   "cell_type": "code",
   "execution_count": 148,
   "metadata": {},
   "outputs": [],
   "source": [
    "scaler=StandardScaler()\n",
    "X=scaler.fit_transform(X)"
   ]
  },
  {
   "cell_type": "code",
   "execution_count": 58,
   "metadata": {},
   "outputs": [
    {
     "output_type": "stream",
     "name": "stdout",
     "text": [
      "              precision    recall  f1-score   support\n\n           0       0.43      0.14      0.21     28094\n           1       0.54      0.35      0.43     41253\n           2       0.52      0.24      0.33     31929\n           3       0.00      0.00      0.00       168\n           4       0.13      0.01      0.01      3394\n\n   micro avg       0.51      0.25      0.34    104838\n   macro avg       0.32      0.15      0.20    104838\nweighted avg       0.49      0.25      0.33    104838\n samples avg       0.25      0.25      0.25    104838\n\n"
     ]
    }
   ],
   "source": [
    "# split and train data and without the over_sampling\n",
    "X_train, X_test, y_train, y_test=train_test_split(X,y, test_size=0.35)\n",
    "clf=RandomForestClassifier(n_estimators=10)\n",
    "clf.fit(X_train,y_train)\n",
    "y_pred=clf.predict(X_test)\n",
    "print(metrics.classification_report(y_test,y_pred))"
   ]
  },
  {
   "cell_type": "code",
   "execution_count": 57,
   "metadata": {},
   "outputs": [
    {
     "output_type": "stream",
     "name": "stdout",
     "text": [
      "              precision    recall  f1-score   support\n\n           0       0.41      0.14      0.21     24026\n           1       0.54      0.31      0.39     35301\n           2       0.51      0.23      0.31     27362\n           3       0.20      0.01      0.02       163\n           4       0.11      0.01      0.02      3009\n\n   micro avg       0.50      0.23      0.31     89861\n   macro avg       0.36      0.14      0.19     89861\nweighted avg       0.48      0.23      0.31     89861\n samples avg       0.23      0.23      0.23     89861\n\n"
     ]
    }
   ],
   "source": [
    "# with the over-sampling\n",
    "over_sample=SMOTE()\n",
    "clf=RandomForestClassifier(n_estimators=10)\n",
    "X_sample, y_sample=over_sample.fit_sample(X_train, y_train)\n",
    "clf.fit(X_sample,y_sample)\n",
    "y_p=clf.predict(X_test)\n",
    "print(metrics.classification_report(y_test,y_p))\n"
   ]
  },
  {
   "source": [
    "## KNN"
   ],
   "cell_type": "markdown",
   "metadata": {}
  },
  {
   "cell_type": "code",
   "execution_count": 59,
   "metadata": {},
   "outputs": [
    {
     "output_type": "stream",
     "name": "stdout",
     "text": [
      "              precision    recall  f1-score   support\n\n           0       0.38      0.11      0.17     28094\n           1       0.50      0.25      0.34     41253\n           2       0.47      0.20      0.28     31929\n           3       0.00      0.00      0.00       168\n           4       0.16      0.00      0.01      3394\n\n   micro avg       0.46      0.19      0.27    104838\n   macro avg       0.30      0.11      0.16    104838\nweighted avg       0.44      0.19      0.26    104838\n samples avg       0.19      0.19      0.19    104838\n\n"
     ]
    }
   ],
   "source": [
    "# KNN modeling without oversampling\n",
    "from sklearn.neighbors import KNeighborsClassifier\n",
    "knn = KNeighborsClassifier(n_neighbors=4)\n",
    "knn.fit(X_train,y_train)\n",
    "y_knn=knn.predict(X_test)\n",
    "print(metrics.classification_report(y_test, y_knn))\n"
   ]
  },
  {
   "cell_type": "code",
   "execution_count": 154,
   "metadata": {},
   "outputs": [
    {
     "output_type": "stream",
     "name": "stdout",
     "text": [
      "              precision    recall  f1-score   support\n\n           0       0.38      0.11      0.17     63962\n           1       0.51      0.28      0.36     93996\n           2       0.46      0.17      0.25     73254\n           3       0.00      0.00      0.00       419\n           4       0.14      0.00      0.01      7997\n\n   micro avg       0.47      0.19      0.27    239628\n   macro avg       0.30      0.11      0.16    239628\nweighted avg       0.45      0.19      0.26    239628\n samples avg       0.19      0.19      0.19    239628\n\n"
     ]
    }
   ],
   "source": [
    "## with the oversampling data\n",
    "knn.fit(X_resample,y_resmaple)\n",
    "y_knn=knn.predict(X_test)\n",
    "print(metrics.classification_report(y_test, y_knn))\n",
    "\n"
   ]
  },
  {
   "source": [
    "\n",
    "## OneVsRestClassifier"
   ],
   "cell_type": "markdown",
   "metadata": {}
  },
  {
   "cell_type": "code",
   "execution_count": 60,
   "metadata": {},
   "outputs": [
    {
     "output_type": "stream",
     "name": "stdout",
     "text": [
      "              precision    recall  f1-score   support\n\n           0       0.57      0.06      0.11     28094\n           1       0.59      0.41      0.49     41253\n           2       0.62      0.23      0.33     31929\n           3       0.00      0.00      0.00       168\n           4       0.32      0.00      0.00      3394\n\n   micro avg       0.60      0.25      0.35    104838\n   macro avg       0.42      0.14      0.19    104838\nweighted avg       0.58      0.25      0.32    104838\n samples avg       0.25      0.25      0.25    104838\n\n"
     ]
    }
   ],
   "source": [
    "# without over-sampling\n",
    "from sklearn.multiclass import OneVsRestClassifier\n",
    "from xgboost import XGBClassifier \n",
    "from sklearn.preprocessing import MultiLabelBinarizer\n",
    "clf = OneVsRestClassifier(XGBClassifier(n_jobs=-1, max_depth=4))\n",
    "mlb = MultiLabelBinarizer()\n",
    "y = mlb.fit_transform(y)\n",
    "clf.fit(X_train, y_train)\n",
    "y_=clf.predict(X_test)\n",
    "print(metrics.classification_report(y_test,y_))"
   ]
  },
  {
   "cell_type": "code",
   "execution_count": 157,
   "metadata": {},
   "outputs": [
    {
     "output_type": "stream",
     "name": "stdout",
     "text": [
      "classficaion_report               precision    recall  f1-score   support\n\n           0       0.52      0.07      0.12     63962\n           1       0.57      0.41      0.48     93996\n           2       0.61      0.21      0.31     73254\n           3       0.00      0.00      0.00       419\n           4       0.26      0.00      0.01      7997\n\n   micro avg       0.58      0.24      0.34    239628\n   macro avg       0.39      0.14      0.18    239628\nweighted avg       0.56      0.24      0.32    239628\n samples avg       0.24      0.24      0.24    239628\n\n"
     ]
    }
   ],
   "source": [
    "# With the over sampling \n",
    "clf.fit(X_resample, y_resmaple)\n",
    "y_=clf.predict(X_test)\n",
    "print(metrics.classification_report(y_test,y_))\n"
   ]
  },
  {
   "source": [
    "## Use Target Variable as lableencoder for classification modeling"
   ],
   "cell_type": "markdown",
   "metadata": {}
  },
  {
   "cell_type": "code",
   "execution_count": 43,
   "metadata": {},
   "outputs": [
    {
     "output_type": "execute_result",
     "data": {
      "text/plain": [
       "  mkt_unique_carrier  mkt_carrier_fl_num  origin_airport_id  dest_airport_id  \\\n",
       "0                 AS              2564.0            14771.0          14908.0   \n",
       "1                 AS              1753.0            14771.0          14747.0   \n",
       "2                 UA               539.0            14771.0          13830.0   \n",
       "3                 UA              5949.0            14771.0          10157.0   \n",
       "4                 UA              5555.0            14771.0          10157.0   \n",
       "\n",
       "   fl_month  fl_day_of_week  dep_hour  arr_hour  airport_arr_delay  \\\n",
       "0         4             0.0      15.0      17.0          64.598291   \n",
       "1         4             1.0      15.0      17.0          41.180328   \n",
       "2         4             3.0      15.0      17.0          52.010309   \n",
       "3         4             4.0      15.0      17.0          74.761905   \n",
       "4         4             5.0      15.0      17.0          58.843137   \n",
       "\n",
       "   airport_arr_delay  carrier_arr_delay  crs_elapsed_time  arr_hour_delay  \\\n",
       "0          39.375000          49.500177              95.0       67.489052   \n",
       "1          36.384615          49.500177             125.0       67.489052   \n",
       "2         149.000000          78.913769             337.0       67.489052   \n",
       "3          47.000000          78.913769              82.0       67.489052   \n",
       "4          29.000000          78.913769              79.0       67.489052   \n",
       "\n",
       "   wea_delay_ori  carrier_delay  weather_delay  nas_delay  security_delay  \\\n",
       "0      66.945455            0.0            0.0       17.0             0.0   \n",
       "1      66.945455            0.0            0.0        0.0             0.0   \n",
       "2      66.945455            8.0            0.0        0.0             0.0   \n",
       "3      66.945455            0.0            0.0        4.0             0.0   \n",
       "4      66.945455           29.0            0.0        0.0             0.0   \n",
       "\n",
       "   late_aircraft_delay           delay_type  \n",
       "0                  0.0            nas_delay  \n",
       "1                 15.0  late_aircraft_delay  \n",
       "2                 40.0  late_aircraft_delay  \n",
       "3                 50.0  late_aircraft_delay  \n",
       "4                  0.0        carrier_delay  "
      ],
      "text/html": "<div>\n<style scoped>\n    .dataframe tbody tr th:only-of-type {\n        vertical-align: middle;\n    }\n\n    .dataframe tbody tr th {\n        vertical-align: top;\n    }\n\n    .dataframe thead th {\n        text-align: right;\n    }\n</style>\n<table border=\"1\" class=\"dataframe\">\n  <thead>\n    <tr style=\"text-align: right;\">\n      <th></th>\n      <th>mkt_unique_carrier</th>\n      <th>mkt_carrier_fl_num</th>\n      <th>origin_airport_id</th>\n      <th>dest_airport_id</th>\n      <th>fl_month</th>\n      <th>fl_day_of_week</th>\n      <th>dep_hour</th>\n      <th>arr_hour</th>\n      <th>airport_arr_delay</th>\n      <th>airport_arr_delay</th>\n      <th>carrier_arr_delay</th>\n      <th>crs_elapsed_time</th>\n      <th>arr_hour_delay</th>\n      <th>wea_delay_ori</th>\n      <th>carrier_delay</th>\n      <th>weather_delay</th>\n      <th>nas_delay</th>\n      <th>security_delay</th>\n      <th>late_aircraft_delay</th>\n      <th>delay_type</th>\n    </tr>\n  </thead>\n  <tbody>\n    <tr>\n      <th>0</th>\n      <td>AS</td>\n      <td>2564.0</td>\n      <td>14771.0</td>\n      <td>14908.0</td>\n      <td>4</td>\n      <td>0.0</td>\n      <td>15.0</td>\n      <td>17.0</td>\n      <td>64.598291</td>\n      <td>39.375000</td>\n      <td>49.500177</td>\n      <td>95.0</td>\n      <td>67.489052</td>\n      <td>66.945455</td>\n      <td>0.0</td>\n      <td>0.0</td>\n      <td>17.0</td>\n      <td>0.0</td>\n      <td>0.0</td>\n      <td>nas_delay</td>\n    </tr>\n    <tr>\n      <th>1</th>\n      <td>AS</td>\n      <td>1753.0</td>\n      <td>14771.0</td>\n      <td>14747.0</td>\n      <td>4</td>\n      <td>1.0</td>\n      <td>15.0</td>\n      <td>17.0</td>\n      <td>41.180328</td>\n      <td>36.384615</td>\n      <td>49.500177</td>\n      <td>125.0</td>\n      <td>67.489052</td>\n      <td>66.945455</td>\n      <td>0.0</td>\n      <td>0.0</td>\n      <td>0.0</td>\n      <td>0.0</td>\n      <td>15.0</td>\n      <td>late_aircraft_delay</td>\n    </tr>\n    <tr>\n      <th>2</th>\n      <td>UA</td>\n      <td>539.0</td>\n      <td>14771.0</td>\n      <td>13830.0</td>\n      <td>4</td>\n      <td>3.0</td>\n      <td>15.0</td>\n      <td>17.0</td>\n      <td>52.010309</td>\n      <td>149.000000</td>\n      <td>78.913769</td>\n      <td>337.0</td>\n      <td>67.489052</td>\n      <td>66.945455</td>\n      <td>8.0</td>\n      <td>0.0</td>\n      <td>0.0</td>\n      <td>0.0</td>\n      <td>40.0</td>\n      <td>late_aircraft_delay</td>\n    </tr>\n    <tr>\n      <th>3</th>\n      <td>UA</td>\n      <td>5949.0</td>\n      <td>14771.0</td>\n      <td>10157.0</td>\n      <td>4</td>\n      <td>4.0</td>\n      <td>15.0</td>\n      <td>17.0</td>\n      <td>74.761905</td>\n      <td>47.000000</td>\n      <td>78.913769</td>\n      <td>82.0</td>\n      <td>67.489052</td>\n      <td>66.945455</td>\n      <td>0.0</td>\n      <td>0.0</td>\n      <td>4.0</td>\n      <td>0.0</td>\n      <td>50.0</td>\n      <td>late_aircraft_delay</td>\n    </tr>\n    <tr>\n      <th>4</th>\n      <td>UA</td>\n      <td>5555.0</td>\n      <td>14771.0</td>\n      <td>10157.0</td>\n      <td>4</td>\n      <td>5.0</td>\n      <td>15.0</td>\n      <td>17.0</td>\n      <td>58.843137</td>\n      <td>29.000000</td>\n      <td>78.913769</td>\n      <td>79.0</td>\n      <td>67.489052</td>\n      <td>66.945455</td>\n      <td>29.0</td>\n      <td>0.0</td>\n      <td>0.0</td>\n      <td>0.0</td>\n      <td>0.0</td>\n      <td>carrier_delay</td>\n    </tr>\n  </tbody>\n</table>\n</div>"
     },
     "metadata": {},
     "execution_count": 43
    }
   ],
   "source": [
    "df3=DATA.copy()\n",
    "df3.head()"
   ]
  },
  {
   "cell_type": "code",
   "execution_count": 44,
   "metadata": {},
   "outputs": [
    {
     "output_type": "execute_result",
     "data": {
      "text/plain": [
       "1    117587\n",
       "2     91204\n",
       "0     80069\n",
       "4     10156\n",
       "3       519\n",
       "Name: delay_type, dtype: int64"
      ]
     },
     "metadata": {},
     "execution_count": 44
    }
   ],
   "source": [
    "df3['delay_type']=encoder.fit_transform(df3['delay_type'])\n",
    "df3['delay_type'].value_counts()"
   ]
  },
  {
   "cell_type": "code",
   "execution_count": 45,
   "metadata": {},
   "outputs": [
    {
     "output_type": "execute_result",
     "data": {
      "text/plain": [
       "Index(['mkt_unique_carrier', 'mkt_carrier_fl_num', 'origin_airport_id',\n",
       "       'dest_airport_id', 'fl_month', 'fl_day_of_week', 'dep_hour', 'arr_hour',\n",
       "       'airport_arr_delay', 'airport_arr_delay', 'carrier_arr_delay',\n",
       "       'crs_elapsed_time', 'arr_hour_delay', 'wea_delay_ori', 'carrier_delay',\n",
       "       'weather_delay', 'nas_delay', 'security_delay', 'late_aircraft_delay',\n",
       "       'delay_type'],\n",
       "      dtype='object')"
      ]
     },
     "metadata": {},
     "execution_count": 45
    }
   ],
   "source": [
    "df3.columns"
   ]
  },
  {
   "cell_type": "code",
   "execution_count": 46,
   "metadata": {},
   "outputs": [],
   "source": [
    "encoder_columns=['mkt_unique_carrier', 'mkt_carrier_fl_num', 'origin_airport_id',\n",
    "       'dest_airport_id', 'fl_month', 'fl_day_of_week', 'dep_hour',\n",
    "       'arr_hour']"
   ]
  },
  {
   "cell_type": "code",
   "execution_count": 47,
   "metadata": {},
   "outputs": [],
   "source": [
    "df3[encoder_columns]=df3[encoder_columns].apply(encoder.fit_transform)"
   ]
  },
  {
   "cell_type": "code",
   "execution_count": 48,
   "metadata": {},
   "outputs": [],
   "source": [
    "df3=df3[['mkt_unique_carrier', 'mkt_carrier_fl_num', 'origin_airport_id',\n",
    "       'dest_airport_id', 'fl_month', 'fl_day_of_week', 'dep_hour',\n",
    "       'arr_hour', \n",
    "       'wea_delay_ori',\n",
    "        'delay_type']]"
   ]
  },
  {
   "cell_type": "code",
   "execution_count": 49,
   "metadata": {},
   "outputs": [],
   "source": [
    "X=df3.iloc[:,:-1].values\n",
    "y=df3['delay_type'].values"
   ]
  },
  {
   "cell_type": "code",
   "execution_count": 76,
   "metadata": {},
   "outputs": [
    {
     "output_type": "execute_result",
     "data": {
      "text/plain": [
       "array([2, 1, 1, ..., 2, 2, 1])"
      ]
     },
     "metadata": {},
     "execution_count": 76
    }
   ],
   "source": [
    "y"
   ]
  },
  {
   "cell_type": "code",
   "execution_count": 51,
   "metadata": {},
   "outputs": [],
   "source": [
    "smote=SMOTE()"
   ]
  },
  {
   "cell_type": "code",
   "execution_count": 52,
   "metadata": {},
   "outputs": [],
   "source": [
    "X_train, X_test, y_train, y_test=train_test_split(X, y, test_size=0.3, random_state=0)\n",
    "X_sam,y_sam=smote.fit_sample(X_train, y_train)\n"
   ]
  },
  {
   "cell_type": "code",
   "execution_count": 80,
   "metadata": {},
   "outputs": [
    {
     "output_type": "stream",
     "name": "stdout",
     "text": [
      "              precision    recall  f1-score   support\n",
      "\n",
      "           0       0.34      0.35      0.34     23922\n",
      "           1       0.48      0.48      0.48     35467\n",
      "           2       0.40      0.39      0.40     27349\n",
      "           3       0.01      0.01      0.01       165\n",
      "           4       0.07      0.08      0.07      2958\n",
      "\n",
      "    accuracy                           0.40     89861\n",
      "   macro avg       0.26      0.26      0.26     89861\n",
      "weighted avg       0.41      0.40      0.40     89861\n",
      "\n",
      "              precision    recall  f1-score   support\n",
      "\n",
      "           0       0.33      0.35      0.34     23922\n",
      "           1       0.48      0.46      0.47     35467\n",
      "           2       0.40      0.39      0.40     27349\n",
      "           3       0.01      0.01      0.01       165\n",
      "           4       0.06      0.09      0.07      2958\n",
      "\n",
      "    accuracy                           0.40     89861\n",
      "   macro avg       0.26      0.26      0.26     89861\n",
      "weighted avg       0.40      0.40      0.40     89861\n",
      "\n"
     ]
    }
   ],
   "source": [
    "from sklearn.tree import DecisionTreeClassifier \n",
    "dtree_model = DecisionTreeClassifier()\n",
    "dtree_model.fit(X_train, y_train)\n",
    "y_tree = dtree_model.predict(X_test) \n",
    "print(metrics.classification_report(y_test,y_tree))\n",
    "\n",
    "## applying over_sample\n",
    "dtree_model.fit(X_sam, y_sam)\n",
    "y_tree2 = dtree_model.predict(X_test) \n",
    "print(metrics.classification_report(y_test,y_tree2))\n"
   ]
  },
  {
   "source": [
    "## try SVM"
   ],
   "cell_type": "markdown",
   "metadata": {}
  },
  {
   "cell_type": "code",
   "execution_count": 81,
   "metadata": {},
   "outputs": [
    {
     "output_type": "execute_result",
     "data": {
      "text/plain": [
       "array([[-0.90077706, -0.11096779,  1.41444839, ...,  0.14121352,\n",
       "         0.23529144,  0.09201441],\n",
       "       [-0.90077706, -0.54457662,  1.41444839, ...,  0.14121352,\n",
       "         0.23529144,  0.09201441],\n",
       "       [ 0.92986928, -1.19258389,  1.41444839, ...,  0.14121352,\n",
       "         0.23529144,  0.09201441],\n",
       "       ...,\n",
       "       [-0.90077706, -1.44601248,  0.08530788, ..., -1.16368826,\n",
       "        -1.31385054, -1.30164137],\n",
       "       [ 0.92986928, -1.41821018,  1.56781076, ..., -1.16368826,\n",
       "        -1.31385054, -1.36101477],\n",
       "       [ 0.92986928, -1.41821018,  1.56781076, ..., -1.16368826,\n",
       "        -1.31385054, -1.36101477]])"
      ]
     },
     "metadata": {},
     "execution_count": 81
    }
   ],
   "source": [
    "scaler=StandardScaler()\n",
    "X=scaler.fit_transform(X)\n",
    "X"
   ]
  },
  {
   "cell_type": "code",
   "execution_count": null,
   "metadata": {},
   "outputs": [],
   "source": [
    "from sklearn.svm import SVC \n",
    "svm_model_linear = SVC(kernel = 'linear', C = 1).fit(X_train, y_train) \n",
    "y_svm = svm_model_linear.predict(X_test) \n",
    "report =metrics.classification_report(y_test, y_svm)\n",
    "print(report)\n",
    "\n"
   ]
  },
  {
   "cell_type": "code",
   "execution_count": null,
   "metadata": {},
   "outputs": [],
   "source": [
    "## applying over_sampling\n",
    "from imblearn.over_sampling import SVMSMOTE\n",
    "svmsmote=SVMSMOTE()\n",
    "X_sam, y_sam=svmsmote.fit_sample(X_train, y_train)\n",
    "svm_model_linear = SVC(kernel = 'linear', C = 1).fit(X_sam, y_sam) \n",
    "svm_predictions = svm_model_linear.predict(X_test) \n",
    "report =metrics.classification_report(y_test, svm_predictions) \n",
    "print(cm1)"
   ]
  },
  {
   "source": [
    "## KNN"
   ],
   "cell_type": "markdown",
   "metadata": {}
  },
  {
   "cell_type": "code",
   "execution_count": 59,
   "metadata": {},
   "outputs": [
    {
     "output_type": "stream",
     "name": "stdout",
     "text": [
      "              precision    recall  f1-score   support\n\n           0       0.33      0.34      0.34     23922\n           1       0.46      0.54      0.49     35467\n           2       0.41      0.35      0.37     27349\n           3       0.25      0.01      0.01       165\n           4       0.10      0.01      0.01      2958\n\n    accuracy                           0.41     89861\n   macro avg       0.31      0.25      0.25     89861\nweighted avg       0.40      0.41      0.40     89861\n\n"
     ]
    }
   ],
   "source": [
    "from sklearn.neighbors import KNeighborsClassifier \n",
    "knn = KNeighborsClassifier(n_neighbors = 7).fit(X_train, y_train) \n",
    " \n",
    "# creating a confusion matrix \n",
    "knn_predictions = knn.predict(X_test)  \n",
    "cm = metrics.classification_report(y_test, knn_predictions) \n",
    "print(cm)\n"
   ]
  },
  {
   "source": [
    "###  try Naive Bayes Classifier\n"
   ],
   "cell_type": "markdown",
   "metadata": {}
  },
  {
   "cell_type": "code",
   "execution_count": 58,
   "metadata": {},
   "outputs": [
    {
     "output_type": "stream",
     "name": "stdout",
     "text": [
      "              precision    recall  f1-score   support\n",
      "\n",
      "           0       0.37      0.17      0.23     23922\n",
      "           1       0.46      0.73      0.57     35467\n",
      "           2       0.38      0.32      0.35     27349\n",
      "           3       0.00      0.00      0.00       165\n",
      "           4       0.00      0.00      0.00      2958\n",
      "\n",
      "    accuracy                           0.43     89861\n",
      "   macro avg       0.24      0.24      0.23     89861\n",
      "weighted avg       0.40      0.43      0.39     89861\n",
      "\n",
      "              precision    recall  f1-score   support\n",
      "\n",
      "           0       0.36      0.09      0.15     23922\n",
      "           1       0.49      0.45      0.47     35467\n",
      "           2       0.38      0.11      0.17     27349\n",
      "           3       0.00      0.44      0.01       165\n",
      "           4       0.04      0.26      0.07      2958\n",
      "\n",
      "    accuracy                           0.25     89861\n",
      "   macro avg       0.25      0.27      0.17     89861\n",
      "weighted avg       0.40      0.25      0.28     89861\n",
      "\n"
     ]
    }
   ],
   "source": [
    "from sklearn.naive_bayes import GaussianNB \n",
    "gnb = GaussianNB().fit(X_train, y_train) \n",
    "gnb_predictions = gnb.predict(X_test) \n",
    "cm = metrics.classification_report(y_test, gnb_predictions) \n",
    "print(cm)\n",
    "\n",
    "# applying over_sampling\n",
    "gnb = GaussianNB().fit(X_sam, y_sam) \n",
    "gnb_predictions = gnb.predict(X_test) \n",
    "cm1 = metrics.classification_report(y_test, gnb_predictions) \n",
    "print(cm1)"
   ]
  },
  {
   "source": [
    "##  XGBoost"
   ],
   "cell_type": "markdown",
   "metadata": {}
  },
  {
   "cell_type": "code",
   "execution_count": 53,
   "metadata": {},
   "outputs": [
    {
     "output_type": "stream",
     "name": "stdout",
     "text": [
      "              precision    recall  f1-score   support\n\n           0       0.46      0.23      0.31     23922\n           1       0.50      0.78      0.61     35467\n           2       0.52      0.42      0.47     27349\n           3       0.50      0.01      0.01       165\n           4       0.42      0.00      0.00      2958\n\n    accuracy                           0.50     89861\n   macro avg       0.48      0.29      0.28     89861\nweighted avg       0.49      0.50      0.46     89861\n\n"
     ]
    }
   ],
   "source": [
    "from sklearn.multiclass import OneVsRestClassifier\n",
    "from xgboost import XGBClassifier \n",
    "clf = OneVsRestClassifier(XGBClassifier(n_jobs=-1, max_depth=4))\n",
    "clf.fit(X_train, y_train)\n",
    "y_pred=clf.predict(X_test)\n",
    "print(metrics.classification_report(y_test, y_pred))\n",
    "\n",
    "\n"
   ]
  },
  {
   "cell_type": "code",
   "execution_count": 56,
   "metadata": {},
   "outputs": [
    {
     "output_type": "stream",
     "name": "stdout",
     "text": [
      "[[ 5569 13381  4968     0     4]\n [ 2853 27682  4929     1     2]\n [ 3207 12600 11541     0     1]\n [   54    73    37     1     0]\n [  502  1652   799     0     5]]\n"
     ]
    }
   ],
   "source": [
    "print(metrics.confusion_matrix(y_test,y_pred))"
   ]
  },
  {
   "cell_type": "code",
   "execution_count": 55,
   "metadata": {},
   "outputs": [
    {
     "output_type": "stream",
     "name": "stdout",
     "text": [
      "              precision    recall  f1-score   support\n\n           0       0.45      0.23      0.31     23922\n           1       0.50      0.76      0.60     35467\n           2       0.51      0.43      0.46     27349\n           3       0.02      0.02      0.02       165\n           4       0.21      0.01      0.02      2958\n\n    accuracy                           0.49     89861\n   macro avg       0.34      0.29      0.28     89861\nweighted avg       0.48      0.49      0.46     89861\n\n"
     ]
    }
   ],
   "source": [
    "# Applying the over_sampling\n",
    "clf.fit(X_sam, y_sam)\n",
    "y_psam=clf.predict(X_test)\n",
    "print(metrics.classification_report(y_test, y_psam))\n"
   ]
  },
  {
   "source": [
    "## in summary: XGBoost combined with onevsrest classifer give the best prediction results. For 5 differenty types of delay, the average precision score is over 50%. Given the extreamly low percentage of the security delay and weather delay, it has achieved relatively high prediction results. In multi_class classification, the over-sampling did not increase the score significently. "
   ],
   "cell_type": "markdown",
   "metadata": {}
  },
  {
   "cell_type": "code",
   "execution_count": null,
   "metadata": {},
   "outputs": [],
   "source": []
  }
 ],
 "metadata": {
  "kernelspec": {
   "display_name": "Python 3.6.5 64-bit",
   "language": "python",
   "name": "python36564bit6f77634e2dab4869b7bf6615e97ce046"
  },
  "language_info": {
   "codemirror_mode": {
    "name": "ipython",
    "version": 3
   },
   "file_extension": ".py",
   "mimetype": "text/x-python",
   "name": "python",
   "nbconvert_exporter": "python",
   "pygments_lexer": "ipython3",
   "version": "3.8.3-final"
  }
 },
 "nbformat": 4,
 "nbformat_minor": 4
}